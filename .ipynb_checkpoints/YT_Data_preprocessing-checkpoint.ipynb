{
 "cells": [
  {
   "cell_type": "code",
   "execution_count": 1,
   "metadata": {
    "colab": {
     "base_uri": "https://localhost:8080/"
    },
    "id": "pqwnXkjWEKYu",
    "outputId": "d1ad6086-6c6e-4423-925f-1f6edb7be0a8"
   },
   "outputs": [
    {
     "name": "stdout",
     "output_type": "stream",
     "text": [
      "Mounted at /content/gdrive\n"
     ]
    }
   ],
   "source": [
    "#from google.colab import drive\n",
    "#drive.mount('/content/gdrive')"
   ]
  },
  {
   "cell_type": "code",
   "execution_count": 1,
   "metadata": {
    "id": "EUeeZFtmERw5"
   },
   "outputs": [],
   "source": [
    "import pandas as pd\n",
    "import re"
   ]
  },
  {
   "cell_type": "markdown",
   "metadata": {
    "id": "d1f-JwzzfoHM"
   },
   "source": [
    "CLEAN VIEWS DATA"
   ]
  },
  {
   "cell_type": "code",
   "execution_count": 3,
   "metadata": {
    "id": "a1dCXy6wET1F"
   },
   "outputs": [],
   "source": [
    "#path = f'/content/gdrive/MyDrive/Documents/BlackpinkData/videos_count_data.json'\n",
    "path = f'datasets/videos_count_data.json'\n",
    "data_list = []\n",
    "with open(path) as f:\n",
    "    for line in f:\n",
    "        if line.isspace():\n",
    "            continue  # Skip empty lines\n",
    "        data = eval(line)  # Evaluate non-empty lines\n",
    "        data_list.append(data)\n",
    "\n",
    "df = pd.DataFrame(data_list)"
   ]
  },
  {
   "cell_type": "code",
   "execution_count": 4,
   "metadata": {
    "colab": {
     "base_uri": "https://localhost:8080/",
     "height": 206
    },
    "id": "Xh6kK-5AIoHo",
    "outputId": "66aaad0c-ea02-426b-a066-917fba50a41f"
   },
   "outputs": [
    {
     "data": {
      "text/html": [
       "<div>\n",
       "<style scoped>\n",
       "    .dataframe tbody tr th:only-of-type {\n",
       "        vertical-align: middle;\n",
       "    }\n",
       "\n",
       "    .dataframe tbody tr th {\n",
       "        vertical-align: top;\n",
       "    }\n",
       "\n",
       "    .dataframe thead th {\n",
       "        text-align: right;\n",
       "    }\n",
       "</style>\n",
       "<table border=\"1\" class=\"dataframe\">\n",
       "  <thead>\n",
       "    <tr style=\"text-align: right;\">\n",
       "      <th></th>\n",
       "      <th>dateCount</th>\n",
       "      <th>id</th>\n",
       "      <th>title</th>\n",
       "      <th>kind</th>\n",
       "      <th>viewCount</th>\n",
       "      <th>likeCount</th>\n",
       "      <th>commentCount</th>\n",
       "    </tr>\n",
       "  </thead>\n",
       "  <tbody>\n",
       "    <tr>\n",
       "      <th>0</th>\n",
       "      <td>2023-09-19 17:01:02.392672</td>\n",
       "      <td>YudHcBIxlYw</td>\n",
       "      <td>JISOO - ‘꽃(FLOWER)’ M\\/V</td>\n",
       "      <td>Music Video</td>\n",
       "      <td>390657394</td>\n",
       "      <td>10117824</td>\n",
       "      <td>1340919</td>\n",
       "    </tr>\n",
       "    <tr>\n",
       "      <th>1</th>\n",
       "      <td>2023-09-19 17:01:02.392707</td>\n",
       "      <td>POe9SOEKotk</td>\n",
       "      <td>BLACKPINK - ‘Shut Down’ M\\/V</td>\n",
       "      <td>Music Video</td>\n",
       "      <td>522252772</td>\n",
       "      <td>10824498</td>\n",
       "      <td>2239017</td>\n",
       "    </tr>\n",
       "    <tr>\n",
       "      <th>2</th>\n",
       "      <td>2023-09-19 17:01:02.392717</td>\n",
       "      <td>gQlMMD8auMs</td>\n",
       "      <td>BLACKPINK - ‘Pink Venom’ M\\/V</td>\n",
       "      <td>Music Video</td>\n",
       "      <td>731994719</td>\n",
       "      <td>16069895</td>\n",
       "      <td>3569773</td>\n",
       "    </tr>\n",
       "    <tr>\n",
       "      <th>3</th>\n",
       "      <td>2023-09-19 17:01:02.392725</td>\n",
       "      <td>awkkyBH2zEo</td>\n",
       "      <td>LISA - 'LALISA' M\\/V</td>\n",
       "      <td>Music Video</td>\n",
       "      <td>653808793</td>\n",
       "      <td>17313679</td>\n",
       "      <td>2815724</td>\n",
       "    </tr>\n",
       "    <tr>\n",
       "      <th>4</th>\n",
       "      <td>2023-09-19 17:01:02.392734</td>\n",
       "      <td>K9_VFxzCuQ0</td>\n",
       "      <td>ROSÉ - 'Gone' M\\/V</td>\n",
       "      <td>Music Video</td>\n",
       "      <td>267505076</td>\n",
       "      <td>7376149</td>\n",
       "      <td>1240229</td>\n",
       "    </tr>\n",
       "  </tbody>\n",
       "</table>\n",
       "</div>"
      ],
      "text/plain": [
       "                    dateCount           id                          title  \\\n",
       "0  2023-09-19 17:01:02.392672  YudHcBIxlYw       JISOO - ‘꽃(FLOWER)’ M\\/V   \n",
       "1  2023-09-19 17:01:02.392707  POe9SOEKotk   BLACKPINK - ‘Shut Down’ M\\/V   \n",
       "2  2023-09-19 17:01:02.392717  gQlMMD8auMs  BLACKPINK - ‘Pink Venom’ M\\/V   \n",
       "3  2023-09-19 17:01:02.392725  awkkyBH2zEo           LISA - 'LALISA' M\\/V   \n",
       "4  2023-09-19 17:01:02.392734  K9_VFxzCuQ0             ROSÉ - 'Gone' M\\/V   \n",
       "\n",
       "          kind  viewCount  likeCount  commentCount  \n",
       "0  Music Video  390657394   10117824       1340919  \n",
       "1  Music Video  522252772   10824498       2239017  \n",
       "2  Music Video  731994719   16069895       3569773  \n",
       "3  Music Video  653808793   17313679       2815724  \n",
       "4  Music Video  267505076    7376149       1240229  "
      ]
     },
     "execution_count": 4,
     "metadata": {},
     "output_type": "execute_result"
    }
   ],
   "source": [
    "df.head()"
   ]
  },
  {
   "cell_type": "code",
   "execution_count": 5,
   "metadata": {
    "colab": {
     "base_uri": "https://localhost:8080/"
    },
    "id": "bUXpi2-RIqiY",
    "outputId": "f938bcc3-43f3-4eea-b985-e3f9da539d2d"
   },
   "outputs": [
    {
     "name": "stdout",
     "output_type": "stream",
     "text": [
      "Num rows:  21626\n",
      "Num colums:  7\n"
     ]
    }
   ],
   "source": [
    "num_rows, num_columns = df.shape\n",
    "\n",
    "print(\"Num rows: \",num_rows)\n",
    "print(\"Num colums: \",num_columns)"
   ]
  },
  {
   "cell_type": "code",
   "execution_count": 6,
   "metadata": {
    "colab": {
     "base_uri": "https://localhost:8080/"
    },
    "id": "yf0PfxjuI5o8",
    "outputId": "73a17ff4-c544-40ad-92bc-be2e5d24831f"
   },
   "outputs": [
    {
     "data": {
      "text/plain": [
       "dateCount       object\n",
       "id              object\n",
       "title           object\n",
       "kind            object\n",
       "viewCount        int64\n",
       "likeCount        int64\n",
       "commentCount     int64\n",
       "dtype: object"
      ]
     },
     "execution_count": 6,
     "metadata": {},
     "output_type": "execute_result"
    }
   ],
   "source": [
    "df.dtypes"
   ]
  },
  {
   "cell_type": "code",
   "execution_count": 7,
   "metadata": {
    "id": "2KvoxtG4Oq1H"
   },
   "outputs": [],
   "source": [
    "df['dateCount']= pd.to_datetime(df['dateCount'])\n",
    "\n",
    "df['date'] = df['dateCount'].dt.date\n",
    "df['time'] = df['dateCount'].dt.time"
   ]
  },
  {
   "cell_type": "code",
   "execution_count": 8,
   "metadata": {
    "id": "TwP0T1HDRk2J"
   },
   "outputs": [],
   "source": [
    "df = df.sort_values(['date','time'], ascending=False).drop_duplicates(['id', 'date'])"
   ]
  },
  {
   "cell_type": "code",
   "execution_count": 9,
   "metadata": {
    "id": "LChoWrOtO6N_"
   },
   "outputs": [],
   "source": [
    "df = df.sort_values('dateCount').drop(columns = 'dateCount')\n",
    "df = df.reset_index(drop=True)"
   ]
  },
  {
   "cell_type": "code",
   "execution_count": 10,
   "metadata": {
    "colab": {
     "base_uri": "https://localhost:8080/",
     "height": 423
    },
    "id": "wQ7IkuFfTK9t",
    "outputId": "ae9c9075-c1fb-49f6-fa1f-62d16b917ec9"
   },
   "outputs": [
    {
     "data": {
      "text/html": [
       "<div>\n",
       "<style scoped>\n",
       "    .dataframe tbody tr th:only-of-type {\n",
       "        vertical-align: middle;\n",
       "    }\n",
       "\n",
       "    .dataframe tbody tr th {\n",
       "        vertical-align: top;\n",
       "    }\n",
       "\n",
       "    .dataframe thead th {\n",
       "        text-align: right;\n",
       "    }\n",
       "</style>\n",
       "<table border=\"1\" class=\"dataframe\">\n",
       "  <thead>\n",
       "    <tr style=\"text-align: right;\">\n",
       "      <th></th>\n",
       "      <th>id</th>\n",
       "      <th>title</th>\n",
       "      <th>kind</th>\n",
       "      <th>viewCount</th>\n",
       "      <th>likeCount</th>\n",
       "      <th>commentCount</th>\n",
       "      <th>date</th>\n",
       "      <th>time</th>\n",
       "    </tr>\n",
       "  </thead>\n",
       "  <tbody>\n",
       "    <tr>\n",
       "      <th>0</th>\n",
       "      <td>YudHcBIxlYw</td>\n",
       "      <td>JISOO - ‘꽃(FLOWER)’ M\\/V</td>\n",
       "      <td>Music Video</td>\n",
       "      <td>390657394</td>\n",
       "      <td>10117824</td>\n",
       "      <td>1340919</td>\n",
       "      <td>2023-09-19</td>\n",
       "      <td>17:01:02.392672</td>\n",
       "    </tr>\n",
       "    <tr>\n",
       "      <th>1</th>\n",
       "      <td>POe9SOEKotk</td>\n",
       "      <td>BLACKPINK - ‘Shut Down’ M\\/V</td>\n",
       "      <td>Music Video</td>\n",
       "      <td>522252772</td>\n",
       "      <td>10824498</td>\n",
       "      <td>2239017</td>\n",
       "      <td>2023-09-19</td>\n",
       "      <td>17:01:02.392707</td>\n",
       "    </tr>\n",
       "    <tr>\n",
       "      <th>2</th>\n",
       "      <td>gQlMMD8auMs</td>\n",
       "      <td>BLACKPINK - ‘Pink Venom’ M\\/V</td>\n",
       "      <td>Music Video</td>\n",
       "      <td>731994719</td>\n",
       "      <td>16069895</td>\n",
       "      <td>3569773</td>\n",
       "      <td>2023-09-19</td>\n",
       "      <td>17:01:02.392717</td>\n",
       "    </tr>\n",
       "    <tr>\n",
       "      <th>3</th>\n",
       "      <td>awkkyBH2zEo</td>\n",
       "      <td>LISA - 'LALISA' M\\/V</td>\n",
       "      <td>Music Video</td>\n",
       "      <td>653808793</td>\n",
       "      <td>17313679</td>\n",
       "      <td>2815724</td>\n",
       "      <td>2023-09-19</td>\n",
       "      <td>17:01:02.392725</td>\n",
       "    </tr>\n",
       "    <tr>\n",
       "      <th>4</th>\n",
       "      <td>K9_VFxzCuQ0</td>\n",
       "      <td>ROSÉ - 'Gone' M\\/V</td>\n",
       "      <td>Music Video</td>\n",
       "      <td>267505076</td>\n",
       "      <td>7376149</td>\n",
       "      <td>1240229</td>\n",
       "      <td>2023-09-19</td>\n",
       "      <td>17:01:02.392734</td>\n",
       "    </tr>\n",
       "    <tr>\n",
       "      <th>...</th>\n",
       "      <td>...</td>\n",
       "      <td>...</td>\n",
       "      <td>...</td>\n",
       "      <td>...</td>\n",
       "      <td>...</td>\n",
       "      <td>...</td>\n",
       "      <td>...</td>\n",
       "      <td>...</td>\n",
       "    </tr>\n",
       "    <tr>\n",
       "      <th>20961</th>\n",
       "      <td>EKHdMwRaU60</td>\n",
       "      <td>BLACKPINK​ - '붐바야(BOOMBAYAH)' 0828 SBS Inkigayo</td>\n",
       "      <td>Performance</td>\n",
       "      <td>61072628</td>\n",
       "      <td>830637</td>\n",
       "      <td>23111</td>\n",
       "      <td>2024-03-08</td>\n",
       "      <td>00:53:40.688039</td>\n",
       "    </tr>\n",
       "    <tr>\n",
       "      <th>20962</th>\n",
       "      <td>metZ_f8aqC0</td>\n",
       "      <td>BLACKPINK​ - '휘파람(WHISTLE)' 0821 SBS Inkigayo</td>\n",
       "      <td>Performance</td>\n",
       "      <td>42368589</td>\n",
       "      <td>899082</td>\n",
       "      <td>26151</td>\n",
       "      <td>2024-03-08</td>\n",
       "      <td>00:53:40.688041</td>\n",
       "    </tr>\n",
       "    <tr>\n",
       "      <th>20963</th>\n",
       "      <td>RGmL76BBGZk</td>\n",
       "      <td>BLACKPINK​ - '붐바야(BOOMBAYAH)' 0821 SBS Inkigay...</td>\n",
       "      <td>Performance</td>\n",
       "      <td>17241873</td>\n",
       "      <td>544180</td>\n",
       "      <td>14644</td>\n",
       "      <td>2024-03-08</td>\n",
       "      <td>00:53:40.784902</td>\n",
       "    </tr>\n",
       "    <tr>\n",
       "      <th>20964</th>\n",
       "      <td>vAqAp1tJnkc</td>\n",
       "      <td>BLACKPINK - '휘파람’(WHISTLE) 0814 SBS Inkigayo</td>\n",
       "      <td>Performance</td>\n",
       "      <td>48468493</td>\n",
       "      <td>862089</td>\n",
       "      <td>29265</td>\n",
       "      <td>2024-03-08</td>\n",
       "      <td>00:53:40.784918</td>\n",
       "    </tr>\n",
       "    <tr>\n",
       "      <th>20965</th>\n",
       "      <td>LpSH8MrYCfg</td>\n",
       "      <td>BLACKPINK - '붐바야(BOOMBAYAH)' 0814 SBS Inkigayo</td>\n",
       "      <td>Performance</td>\n",
       "      <td>172297954</td>\n",
       "      <td>2562503</td>\n",
       "      <td>80221</td>\n",
       "      <td>2024-03-08</td>\n",
       "      <td>00:53:40.784921</td>\n",
       "    </tr>\n",
       "  </tbody>\n",
       "</table>\n",
       "<p>20966 rows × 8 columns</p>\n",
       "</div>"
      ],
      "text/plain": [
       "                id                                              title  \\\n",
       "0      YudHcBIxlYw                           JISOO - ‘꽃(FLOWER)’ M\\/V   \n",
       "1      POe9SOEKotk                       BLACKPINK - ‘Shut Down’ M\\/V   \n",
       "2      gQlMMD8auMs                      BLACKPINK - ‘Pink Venom’ M\\/V   \n",
       "3      awkkyBH2zEo                               LISA - 'LALISA' M\\/V   \n",
       "4      K9_VFxzCuQ0                                 ROSÉ - 'Gone' M\\/V   \n",
       "...            ...                                                ...   \n",
       "20961  EKHdMwRaU60    BLACKPINK​ - '붐바야(BOOMBAYAH)' 0828 SBS Inkigayo   \n",
       "20962  metZ_f8aqC0      BLACKPINK​ - '휘파람(WHISTLE)' 0821 SBS Inkigayo   \n",
       "20963  RGmL76BBGZk  BLACKPINK​ - '붐바야(BOOMBAYAH)' 0821 SBS Inkigay...   \n",
       "20964  vAqAp1tJnkc       BLACKPINK - '휘파람’(WHISTLE) 0814 SBS Inkigayo   \n",
       "20965  LpSH8MrYCfg     BLACKPINK - '붐바야(BOOMBAYAH)' 0814 SBS Inkigayo   \n",
       "\n",
       "              kind  viewCount  likeCount  commentCount        date  \\\n",
       "0      Music Video  390657394   10117824       1340919  2023-09-19   \n",
       "1      Music Video  522252772   10824498       2239017  2023-09-19   \n",
       "2      Music Video  731994719   16069895       3569773  2023-09-19   \n",
       "3      Music Video  653808793   17313679       2815724  2023-09-19   \n",
       "4      Music Video  267505076    7376149       1240229  2023-09-19   \n",
       "...            ...        ...        ...           ...         ...   \n",
       "20961  Performance   61072628     830637         23111  2024-03-08   \n",
       "20962  Performance   42368589     899082         26151  2024-03-08   \n",
       "20963  Performance   17241873     544180         14644  2024-03-08   \n",
       "20964  Performance   48468493     862089         29265  2024-03-08   \n",
       "20965  Performance  172297954    2562503         80221  2024-03-08   \n",
       "\n",
       "                  time  \n",
       "0      17:01:02.392672  \n",
       "1      17:01:02.392707  \n",
       "2      17:01:02.392717  \n",
       "3      17:01:02.392725  \n",
       "4      17:01:02.392734  \n",
       "...                ...  \n",
       "20961  00:53:40.688039  \n",
       "20962  00:53:40.688041  \n",
       "20963  00:53:40.784902  \n",
       "20964  00:53:40.784918  \n",
       "20965  00:53:40.784921  \n",
       "\n",
       "[20966 rows x 8 columns]"
      ]
     },
     "metadata": {},
     "output_type": "display_data"
    }
   ],
   "source": [
    "display(df)"
   ]
  },
  {
   "cell_type": "code",
   "execution_count": 23,
   "metadata": {
    "id": "LqZvzaWsLCLC"
   },
   "outputs": [],
   "source": [
    "df['title'] = df['title'].replace(\"M\\V\", \"MV\")"
   ]
  },
  {
   "cell_type": "code",
   "execution_count": 24,
   "metadata": {
    "id": "RVR0SGfOKR4W"
   },
   "outputs": [],
   "source": [
    "def extract_artist(title):\n",
    "    match = re.match(r'(.+?) ', title)\n",
    "    if match:\n",
    "        return match.group(1)\n",
    "    else:\n",
    "        return None\n",
    "\n",
    "df['artist'] = df['title'].apply(extract_artist)"
   ]
  },
  {
   "cell_type": "code",
   "execution_count": 25,
   "metadata": {
    "colab": {
     "base_uri": "https://localhost:8080/",
     "height": 597
    },
    "id": "hm6AYfR8QbCm",
    "outputId": "c889e707-72aa-47a4-cde9-7fc31f6411ca"
   },
   "outputs": [
    {
     "data": {
      "text/html": [
       "<div>\n",
       "<style scoped>\n",
       "    .dataframe tbody tr th:only-of-type {\n",
       "        vertical-align: middle;\n",
       "    }\n",
       "\n",
       "    .dataframe tbody tr th {\n",
       "        vertical-align: top;\n",
       "    }\n",
       "\n",
       "    .dataframe thead th {\n",
       "        text-align: right;\n",
       "    }\n",
       "</style>\n",
       "<table border=\"1\" class=\"dataframe\">\n",
       "  <thead>\n",
       "    <tr style=\"text-align: right;\">\n",
       "      <th></th>\n",
       "      <th>id</th>\n",
       "      <th>title</th>\n",
       "      <th>kind</th>\n",
       "      <th>viewCount</th>\n",
       "      <th>likeCount</th>\n",
       "      <th>commentCount</th>\n",
       "      <th>date</th>\n",
       "      <th>time</th>\n",
       "      <th>artist</th>\n",
       "    </tr>\n",
       "  </thead>\n",
       "  <tbody>\n",
       "    <tr>\n",
       "      <th>0</th>\n",
       "      <td>YudHcBIxlYw</td>\n",
       "      <td>JISOO - ‘꽃(FLOWER)’ M\\/V</td>\n",
       "      <td>Music Video</td>\n",
       "      <td>390657394</td>\n",
       "      <td>10117824</td>\n",
       "      <td>1340919</td>\n",
       "      <td>2023-09-19</td>\n",
       "      <td>17:01:02.392672</td>\n",
       "      <td>JISOO</td>\n",
       "    </tr>\n",
       "    <tr>\n",
       "      <th>1</th>\n",
       "      <td>POe9SOEKotk</td>\n",
       "      <td>BLACKPINK - ‘Shut Down’ M\\/V</td>\n",
       "      <td>Music Video</td>\n",
       "      <td>522252772</td>\n",
       "      <td>10824498</td>\n",
       "      <td>2239017</td>\n",
       "      <td>2023-09-19</td>\n",
       "      <td>17:01:02.392707</td>\n",
       "      <td>BLACKPINK</td>\n",
       "    </tr>\n",
       "    <tr>\n",
       "      <th>2</th>\n",
       "      <td>gQlMMD8auMs</td>\n",
       "      <td>BLACKPINK - ‘Pink Venom’ M\\/V</td>\n",
       "      <td>Music Video</td>\n",
       "      <td>731994719</td>\n",
       "      <td>16069895</td>\n",
       "      <td>3569773</td>\n",
       "      <td>2023-09-19</td>\n",
       "      <td>17:01:02.392717</td>\n",
       "      <td>BLACKPINK</td>\n",
       "    </tr>\n",
       "    <tr>\n",
       "      <th>3</th>\n",
       "      <td>awkkyBH2zEo</td>\n",
       "      <td>LISA - 'LALISA' M\\/V</td>\n",
       "      <td>Music Video</td>\n",
       "      <td>653808793</td>\n",
       "      <td>17313679</td>\n",
       "      <td>2815724</td>\n",
       "      <td>2023-09-19</td>\n",
       "      <td>17:01:02.392725</td>\n",
       "      <td>LISA</td>\n",
       "    </tr>\n",
       "    <tr>\n",
       "      <th>4</th>\n",
       "      <td>K9_VFxzCuQ0</td>\n",
       "      <td>ROSÉ - 'Gone' M\\/V</td>\n",
       "      <td>Music Video</td>\n",
       "      <td>267505076</td>\n",
       "      <td>7376149</td>\n",
       "      <td>1240229</td>\n",
       "      <td>2023-09-19</td>\n",
       "      <td>17:01:02.392734</td>\n",
       "      <td>ROSÉ</td>\n",
       "    </tr>\n",
       "    <tr>\n",
       "      <th>...</th>\n",
       "      <td>...</td>\n",
       "      <td>...</td>\n",
       "      <td>...</td>\n",
       "      <td>...</td>\n",
       "      <td>...</td>\n",
       "      <td>...</td>\n",
       "      <td>...</td>\n",
       "      <td>...</td>\n",
       "      <td>...</td>\n",
       "    </tr>\n",
       "    <tr>\n",
       "      <th>842</th>\n",
       "      <td>metZ_f8aqC0</td>\n",
       "      <td>BLACKPINK​ - '휘파람(WHISTLE)' 0821 SBS Inkigayo</td>\n",
       "      <td>Performance</td>\n",
       "      <td>41540786</td>\n",
       "      <td>891463</td>\n",
       "      <td>26121</td>\n",
       "      <td>2023-09-25</td>\n",
       "      <td>15:58:51.526231</td>\n",
       "      <td>BLACKPINK​</td>\n",
       "    </tr>\n",
       "    <tr>\n",
       "      <th>843</th>\n",
       "      <td>RGmL76BBGZk</td>\n",
       "      <td>BLACKPINK​ - '붐바야(BOOMBAYAH)' 0821 SBS Inkigay...</td>\n",
       "      <td>Performance</td>\n",
       "      <td>17045156</td>\n",
       "      <td>540850</td>\n",
       "      <td>14615</td>\n",
       "      <td>2023-09-25</td>\n",
       "      <td>15:58:51.526231</td>\n",
       "      <td>BLACKPINK​</td>\n",
       "    </tr>\n",
       "    <tr>\n",
       "      <th>844</th>\n",
       "      <td>HoAdqZW4ptY</td>\n",
       "      <td>BLACKPINK - '불장난 (PLAYING WITH FIRE)' 1127 SBS...</td>\n",
       "      <td>Performance</td>\n",
       "      <td>6876095</td>\n",
       "      <td>269504</td>\n",
       "      <td>7413</td>\n",
       "      <td>2023-09-25</td>\n",
       "      <td>15:58:51.526231</td>\n",
       "      <td>BLACKPINK</td>\n",
       "    </tr>\n",
       "    <tr>\n",
       "      <th>845</th>\n",
       "      <td>LpSH8MrYCfg</td>\n",
       "      <td>BLACKPINK - '붐바야(BOOMBAYAH)' 0814 SBS Inkigayo</td>\n",
       "      <td>Performance</td>\n",
       "      <td>168445681</td>\n",
       "      <td>2538624</td>\n",
       "      <td>80106</td>\n",
       "      <td>2023-09-25</td>\n",
       "      <td>15:58:51.700348</td>\n",
       "      <td>BLACKPINK</td>\n",
       "    </tr>\n",
       "    <tr>\n",
       "      <th>846</th>\n",
       "      <td>vAqAp1tJnkc</td>\n",
       "      <td>BLACKPINK - '휘파람’(WHISTLE) 0814 SBS Inkigayo</td>\n",
       "      <td>Performance</td>\n",
       "      <td>48071658</td>\n",
       "      <td>857652</td>\n",
       "      <td>29205</td>\n",
       "      <td>2023-09-25</td>\n",
       "      <td>15:58:51.700348</td>\n",
       "      <td>BLACKPINK</td>\n",
       "    </tr>\n",
       "  </tbody>\n",
       "</table>\n",
       "<p>847 rows × 9 columns</p>\n",
       "</div>"
      ],
      "text/plain": [
       "              id                                              title  \\\n",
       "0    YudHcBIxlYw                           JISOO - ‘꽃(FLOWER)’ M\\/V   \n",
       "1    POe9SOEKotk                       BLACKPINK - ‘Shut Down’ M\\/V   \n",
       "2    gQlMMD8auMs                      BLACKPINK - ‘Pink Venom’ M\\/V   \n",
       "3    awkkyBH2zEo                               LISA - 'LALISA' M\\/V   \n",
       "4    K9_VFxzCuQ0                                 ROSÉ - 'Gone' M\\/V   \n",
       "..           ...                                                ...   \n",
       "842  metZ_f8aqC0      BLACKPINK​ - '휘파람(WHISTLE)' 0821 SBS Inkigayo   \n",
       "843  RGmL76BBGZk  BLACKPINK​ - '붐바야(BOOMBAYAH)' 0821 SBS Inkigay...   \n",
       "844  HoAdqZW4ptY  BLACKPINK - '불장난 (PLAYING WITH FIRE)' 1127 SBS...   \n",
       "845  LpSH8MrYCfg     BLACKPINK - '붐바야(BOOMBAYAH)' 0814 SBS Inkigayo   \n",
       "846  vAqAp1tJnkc       BLACKPINK - '휘파람’(WHISTLE) 0814 SBS Inkigayo   \n",
       "\n",
       "            kind  viewCount  likeCount  commentCount        date  \\\n",
       "0    Music Video  390657394   10117824       1340919  2023-09-19   \n",
       "1    Music Video  522252772   10824498       2239017  2023-09-19   \n",
       "2    Music Video  731994719   16069895       3569773  2023-09-19   \n",
       "3    Music Video  653808793   17313679       2815724  2023-09-19   \n",
       "4    Music Video  267505076    7376149       1240229  2023-09-19   \n",
       "..           ...        ...        ...           ...         ...   \n",
       "842  Performance   41540786     891463         26121  2023-09-25   \n",
       "843  Performance   17045156     540850         14615  2023-09-25   \n",
       "844  Performance    6876095     269504          7413  2023-09-25   \n",
       "845  Performance  168445681    2538624         80106  2023-09-25   \n",
       "846  Performance   48071658     857652         29205  2023-09-25   \n",
       "\n",
       "                time      artist  \n",
       "0    17:01:02.392672       JISOO  \n",
       "1    17:01:02.392707   BLACKPINK  \n",
       "2    17:01:02.392717   BLACKPINK  \n",
       "3    17:01:02.392725        LISA  \n",
       "4    17:01:02.392734        ROSÉ  \n",
       "..               ...         ...  \n",
       "842  15:58:51.526231  BLACKPINK​  \n",
       "843  15:58:51.526231  BLACKPINK​  \n",
       "844  15:58:51.526231   BLACKPINK  \n",
       "845  15:58:51.700348   BLACKPINK  \n",
       "846  15:58:51.700348   BLACKPINK  \n",
       "\n",
       "[847 rows x 9 columns]"
      ]
     },
     "metadata": {},
     "output_type": "display_data"
    }
   ],
   "source": [
    "#display(df)"
   ]
  },
  {
   "cell_type": "code",
   "execution_count": 26,
   "metadata": {
    "colab": {
     "base_uri": "https://localhost:8080/"
    },
    "id": "aqEM4wBUcWIs",
    "outputId": "8b1fe084-3cfc-46da-976b-05ed47149281"
   },
   "outputs": [
    {
     "data": {
      "text/plain": [
       "array(['JISOO', 'BLACKPINK', 'LISA', 'ROSÉ', 'JENNIE', 'BLACKPINK\\u200b'],\n",
       "      dtype=object)"
      ]
     },
     "execution_count": 26,
     "metadata": {},
     "output_type": "execute_result"
    }
   ],
   "source": [
    "df['artist'].unique()"
   ]
  },
  {
   "cell_type": "code",
   "execution_count": 27,
   "metadata": {
    "id": "d7jMoAxwcryB"
   },
   "outputs": [],
   "source": [
    "df['artist'] = df['artist'].replace('BLACKPINK\\u200b','BLACKPINK')"
   ]
  },
  {
   "cell_type": "code",
   "execution_count": 29,
   "metadata": {
    "id": "1ZqU7L5ZQekb"
   },
   "outputs": [],
   "source": [
    "#file_path = f'/content/gdrive/MyDrive/Documents/BlackpinkData/CLEANED_videos_count_data.xlsx'\n",
    "file_path = f'CLEANED_videos_count_data.xlsx'\n",
    "\n",
    "df['date'] = df['date'].astype(str)\n",
    "\n",
    "with open(file_path, 'w') as f:\n",
    "    #df_json = df.to_json(orient='records', lines=True)\n",
    "    #f.write(df_json + '\\n')\n",
    "    df.to_excel(file_path, index=False)"
   ]
  }
 ],
 "metadata": {
  "colab": {
   "provenance": []
  },
  "kernelspec": {
   "display_name": "Python 3 (ipykernel)",
   "language": "python",
   "name": "python3"
  },
  "language_info": {
   "codemirror_mode": {
    "name": "ipython",
    "version": 3
   },
   "file_extension": ".py",
   "mimetype": "text/x-python",
   "name": "python",
   "nbconvert_exporter": "python",
   "pygments_lexer": "ipython3",
   "version": "3.9.13"
  }
 },
 "nbformat": 4,
 "nbformat_minor": 4
}
