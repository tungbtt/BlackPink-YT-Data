{
 "cells": [
  {
   "cell_type": "markdown",
   "id": "e57542de-a8cb-4e5e-b60d-f3f516a70ea3",
   "metadata": {},
   "source": [
    "### **1. Importing Libraries**"
   ]
  },
  {
   "cell_type": "code",
   "execution_count": 1,
   "id": "1ec86ad1-e878-4847-a320-f90cff1a6a91",
   "metadata": {
    "execution": {
     "iopub.execute_input": "2025-04-20T01:48:08.596360Z",
     "iopub.status.busy": "2025-04-20T01:48:08.595919Z",
     "iopub.status.idle": "2025-04-20T01:48:08.838133Z",
     "shell.execute_reply": "2025-04-20T01:48:08.837629Z"
    }
   },
   "outputs": [],
   "source": [
    "import pandas as pd\n",
    "import numpy as np"
   ]
  },
  {
   "cell_type": "markdown",
   "id": "f4acada6-3901-45ee-b8bd-91f0233f2c29",
   "metadata": {},
   "source": [
    "### **2. Importing Data**"
   ]
  },
  {
   "cell_type": "code",
   "execution_count": 2,
   "id": "16010483-d37b-49e4-9029-5657806e6cbf",
   "metadata": {
    "execution": {
     "iopub.execute_input": "2025-04-20T01:48:08.840535Z",
     "iopub.status.busy": "2025-04-20T01:48:08.840099Z",
     "iopub.status.idle": "2025-04-20T01:48:18.100771Z",
     "shell.execute_reply": "2025-04-20T01:48:18.100193Z"
    }
   },
   "outputs": [],
   "source": [
    "df = pd.read_json(\"datasets/CLEANED_videos_count_data.json\")"
   ]
  },
  {
   "cell_type": "code",
   "execution_count": 3,
   "id": "bc6ac6f9-a62c-49a7-a72e-39ed7d540ebf",
   "metadata": {
    "execution": {
     "iopub.execute_input": "2025-04-20T01:48:18.103175Z",
     "iopub.status.busy": "2025-04-20T01:48:18.102808Z",
     "iopub.status.idle": "2025-04-20T01:48:18.110705Z",
     "shell.execute_reply": "2025-04-20T01:48:18.110267Z"
    }
   },
   "outputs": [],
   "source": [
    "df = df.T"
   ]
  },
  {
   "cell_type": "code",
   "execution_count": 4,
   "id": "5b3f305a-9909-47b5-9625-43a51107941d",
   "metadata": {
    "execution": {
     "iopub.execute_input": "2025-04-20T01:48:18.112561Z",
     "iopub.status.busy": "2025-04-20T01:48:18.112200Z",
     "iopub.status.idle": "2025-04-20T01:48:18.124169Z",
     "shell.execute_reply": "2025-04-20T01:48:18.123734Z"
    }
   },
   "outputs": [
    {
     "data": {
      "text/html": [
       "<div>\n",
       "<style scoped>\n",
       "    .dataframe tbody tr th:only-of-type {\n",
       "        vertical-align: middle;\n",
       "    }\n",
       "\n",
       "    .dataframe tbody tr th {\n",
       "        vertical-align: top;\n",
       "    }\n",
       "\n",
       "    .dataframe thead th {\n",
       "        text-align: right;\n",
       "    }\n",
       "</style>\n",
       "<table border=\"1\" class=\"dataframe\">\n",
       "  <thead>\n",
       "    <tr style=\"text-align: right;\">\n",
       "      <th></th>\n",
       "      <th>id</th>\n",
       "      <th>title</th>\n",
       "      <th>kind</th>\n",
       "      <th>viewCount</th>\n",
       "      <th>likeCount</th>\n",
       "      <th>commentCount</th>\n",
       "      <th>date</th>\n",
       "      <th>time</th>\n",
       "      <th>artist</th>\n",
       "    </tr>\n",
       "  </thead>\n",
       "  <tbody>\n",
       "    <tr>\n",
       "      <th>0</th>\n",
       "      <td>YudHcBIxlYw</td>\n",
       "      <td>JISOO - ‘꽃(FLOWER)’ M\\/V</td>\n",
       "      <td>Music Video</td>\n",
       "      <td>390657394</td>\n",
       "      <td>10117824</td>\n",
       "      <td>1340919</td>\n",
       "      <td>2023-09-19</td>\n",
       "      <td>17:01:02.392672</td>\n",
       "      <td>JISOO</td>\n",
       "    </tr>\n",
       "    <tr>\n",
       "      <th>1</th>\n",
       "      <td>POe9SOEKotk</td>\n",
       "      <td>BLACKPINK - ‘Shut Down’ M\\/V</td>\n",
       "      <td>Music Video</td>\n",
       "      <td>522252772</td>\n",
       "      <td>10824498</td>\n",
       "      <td>2239017</td>\n",
       "      <td>2023-09-19</td>\n",
       "      <td>17:01:02.392707</td>\n",
       "      <td>BLACKPINK</td>\n",
       "    </tr>\n",
       "    <tr>\n",
       "      <th>2</th>\n",
       "      <td>gQlMMD8auMs</td>\n",
       "      <td>BLACKPINK - ‘Pink Venom’ M\\/V</td>\n",
       "      <td>Music Video</td>\n",
       "      <td>731994719</td>\n",
       "      <td>16069895</td>\n",
       "      <td>3569773</td>\n",
       "      <td>2023-09-19</td>\n",
       "      <td>17:01:02.392717</td>\n",
       "      <td>BLACKPINK</td>\n",
       "    </tr>\n",
       "    <tr>\n",
       "      <th>3</th>\n",
       "      <td>awkkyBH2zEo</td>\n",
       "      <td>LISA - 'LALISA' M\\/V</td>\n",
       "      <td>Music Video</td>\n",
       "      <td>653808793</td>\n",
       "      <td>17313679</td>\n",
       "      <td>2815724</td>\n",
       "      <td>2023-09-19</td>\n",
       "      <td>17:01:02.392725</td>\n",
       "      <td>LISA</td>\n",
       "    </tr>\n",
       "    <tr>\n",
       "      <th>4</th>\n",
       "      <td>K9_VFxzCuQ0</td>\n",
       "      <td>ROSÉ - 'Gone' M\\/V</td>\n",
       "      <td>Music Video</td>\n",
       "      <td>267505076</td>\n",
       "      <td>7376149</td>\n",
       "      <td>1240229</td>\n",
       "      <td>2023-09-19</td>\n",
       "      <td>17:01:02.392734</td>\n",
       "      <td>ROSÉ</td>\n",
       "    </tr>\n",
       "    <tr>\n",
       "      <th>...</th>\n",
       "      <td>...</td>\n",
       "      <td>...</td>\n",
       "      <td>...</td>\n",
       "      <td>...</td>\n",
       "      <td>...</td>\n",
       "      <td>...</td>\n",
       "      <td>...</td>\n",
       "      <td>...</td>\n",
       "      <td>...</td>\n",
       "    </tr>\n",
       "    <tr>\n",
       "      <th>60855</th>\n",
       "      <td>EKHdMwRaU60</td>\n",
       "      <td>BLACKPINK​ - '붐바야(BOOMBAYAH)' 0828 SBS Inkigayo</td>\n",
       "      <td>Performance</td>\n",
       "      <td>61474251</td>\n",
       "      <td>831634</td>\n",
       "      <td>23071</td>\n",
       "      <td>2025-04-20</td>\n",
       "      <td>01:47:22.746917</td>\n",
       "      <td>BLACKPINK</td>\n",
       "    </tr>\n",
       "    <tr>\n",
       "      <th>60856</th>\n",
       "      <td>metZ_f8aqC0</td>\n",
       "      <td>BLACKPINK​ - '휘파람(WHISTLE)' 0821 SBS Inkigayo</td>\n",
       "      <td>Performance</td>\n",
       "      <td>44851909</td>\n",
       "      <td>921724</td>\n",
       "      <td>27016</td>\n",
       "      <td>2025-04-20</td>\n",
       "      <td>01:47:22.746919</td>\n",
       "      <td>BLACKPINK</td>\n",
       "    </tr>\n",
       "    <tr>\n",
       "      <th>60857</th>\n",
       "      <td>RGmL76BBGZk</td>\n",
       "      <td>BLACKPINK​ - '붐바야(BOOMBAYAH)' 0821 SBS Inkigay...</td>\n",
       "      <td>Performance</td>\n",
       "      <td>17657557</td>\n",
       "      <td>552811</td>\n",
       "      <td>14938</td>\n",
       "      <td>2025-04-20</td>\n",
       "      <td>01:47:22.829165</td>\n",
       "      <td>BLACKPINK</td>\n",
       "    </tr>\n",
       "    <tr>\n",
       "      <th>60858</th>\n",
       "      <td>vAqAp1tJnkc</td>\n",
       "      <td>BLACKPINK - '휘파람’(WHISTLE) 0814 SBS Inkigayo</td>\n",
       "      <td>Performance</td>\n",
       "      <td>49178857</td>\n",
       "      <td>871354</td>\n",
       "      <td>29516</td>\n",
       "      <td>2025-04-20</td>\n",
       "      <td>01:47:22.829175</td>\n",
       "      <td>BLACKPINK</td>\n",
       "    </tr>\n",
       "    <tr>\n",
       "      <th>60859</th>\n",
       "      <td>LpSH8MrYCfg</td>\n",
       "      <td>BLACKPINK - '붐바야(BOOMBAYAH)' 0814 SBS Inkigayo</td>\n",
       "      <td>Performance</td>\n",
       "      <td>182120401</td>\n",
       "      <td>2629288</td>\n",
       "      <td>81318</td>\n",
       "      <td>2025-04-20</td>\n",
       "      <td>01:47:22.829178</td>\n",
       "      <td>BLACKPINK</td>\n",
       "    </tr>\n",
       "  </tbody>\n",
       "</table>\n",
       "<p>60860 rows × 9 columns</p>\n",
       "</div>"
      ],
      "text/plain": [
       "                id                                              title   \n",
       "0      YudHcBIxlYw                           JISOO - ‘꽃(FLOWER)’ M\\/V  \\\n",
       "1      POe9SOEKotk                       BLACKPINK - ‘Shut Down’ M\\/V   \n",
       "2      gQlMMD8auMs                      BLACKPINK - ‘Pink Venom’ M\\/V   \n",
       "3      awkkyBH2zEo                               LISA - 'LALISA' M\\/V   \n",
       "4      K9_VFxzCuQ0                                 ROSÉ - 'Gone' M\\/V   \n",
       "...            ...                                                ...   \n",
       "60855  EKHdMwRaU60    BLACKPINK​ - '붐바야(BOOMBAYAH)' 0828 SBS Inkigayo   \n",
       "60856  metZ_f8aqC0      BLACKPINK​ - '휘파람(WHISTLE)' 0821 SBS Inkigayo   \n",
       "60857  RGmL76BBGZk  BLACKPINK​ - '붐바야(BOOMBAYAH)' 0821 SBS Inkigay...   \n",
       "60858  vAqAp1tJnkc       BLACKPINK - '휘파람’(WHISTLE) 0814 SBS Inkigayo   \n",
       "60859  LpSH8MrYCfg     BLACKPINK - '붐바야(BOOMBAYAH)' 0814 SBS Inkigayo   \n",
       "\n",
       "              kind  viewCount likeCount commentCount        date   \n",
       "0      Music Video  390657394  10117824      1340919  2023-09-19  \\\n",
       "1      Music Video  522252772  10824498      2239017  2023-09-19   \n",
       "2      Music Video  731994719  16069895      3569773  2023-09-19   \n",
       "3      Music Video  653808793  17313679      2815724  2023-09-19   \n",
       "4      Music Video  267505076   7376149      1240229  2023-09-19   \n",
       "...            ...        ...       ...          ...         ...   \n",
       "60855  Performance   61474251    831634        23071  2025-04-20   \n",
       "60856  Performance   44851909    921724        27016  2025-04-20   \n",
       "60857  Performance   17657557    552811        14938  2025-04-20   \n",
       "60858  Performance   49178857    871354        29516  2025-04-20   \n",
       "60859  Performance  182120401   2629288        81318  2025-04-20   \n",
       "\n",
       "                  time     artist  \n",
       "0      17:01:02.392672      JISOO  \n",
       "1      17:01:02.392707  BLACKPINK  \n",
       "2      17:01:02.392717  BLACKPINK  \n",
       "3      17:01:02.392725       LISA  \n",
       "4      17:01:02.392734       ROSÉ  \n",
       "...                ...        ...  \n",
       "60855  01:47:22.746917  BLACKPINK  \n",
       "60856  01:47:22.746919  BLACKPINK  \n",
       "60857  01:47:22.829165  BLACKPINK  \n",
       "60858  01:47:22.829175  BLACKPINK  \n",
       "60859  01:47:22.829178  BLACKPINK  \n",
       "\n",
       "[60860 rows x 9 columns]"
      ]
     },
     "metadata": {},
     "output_type": "display_data"
    }
   ],
   "source": [
    "display(df)"
   ]
  },
  {
   "cell_type": "markdown",
   "id": "c016103a-8a35-4c04-a0a7-e4af4f742d96",
   "metadata": {},
   "source": [
    "### **3. Data Information**"
   ]
  },
  {
   "cell_type": "markdown",
   "id": "01b2daf6-7a81-4fa0-ba4a-6fb2ab8007f8",
   "metadata": {},
   "source": [
    "#### **Data dimensions**: \n"
   ]
  },
  {
   "cell_type": "code",
   "execution_count": 5,
   "id": "d3f80009-96ed-4d80-aea7-6a296fe92b73",
   "metadata": {
    "execution": {
     "iopub.execute_input": "2025-04-20T01:48:18.126036Z",
     "iopub.status.busy": "2025-04-20T01:48:18.125743Z",
     "iopub.status.idle": "2025-04-20T01:48:18.129487Z",
     "shell.execute_reply": "2025-04-20T01:48:18.128913Z"
    }
   },
   "outputs": [
    {
     "data": {
      "text/plain": [
       "(60860, 9)"
      ]
     },
     "execution_count": 5,
     "metadata": {},
     "output_type": "execute_result"
    }
   ],
   "source": [
    "df.shape"
   ]
  },
  {
   "cell_type": "markdown",
   "id": "7f8d78d8-9403-48a9-9e02-9277af1da7cf",
   "metadata": {},
   "source": [
    "#### **Details for each row:**\n",
    "\n",
    "The information of one video, including id, title, artist, views, likes,..."
   ]
  },
  {
   "cell_type": "code",
   "execution_count": 6,
   "id": "0e1c5f92-28c8-4fca-a80b-895d293fa695",
   "metadata": {
    "execution": {
     "iopub.execute_input": "2025-04-20T01:48:18.131296Z",
     "iopub.status.busy": "2025-04-20T01:48:18.130965Z",
     "iopub.status.idle": "2025-04-20T01:48:18.138240Z",
     "shell.execute_reply": "2025-04-20T01:48:18.137797Z"
    }
   },
   "outputs": [
    {
     "data": {
      "text/html": [
       "<div>\n",
       "<style scoped>\n",
       "    .dataframe tbody tr th:only-of-type {\n",
       "        vertical-align: middle;\n",
       "    }\n",
       "\n",
       "    .dataframe tbody tr th {\n",
       "        vertical-align: top;\n",
       "    }\n",
       "\n",
       "    .dataframe thead th {\n",
       "        text-align: right;\n",
       "    }\n",
       "</style>\n",
       "<table border=\"1\" class=\"dataframe\">\n",
       "  <thead>\n",
       "    <tr style=\"text-align: right;\">\n",
       "      <th></th>\n",
       "      <th>id</th>\n",
       "      <th>title</th>\n",
       "      <th>kind</th>\n",
       "      <th>viewCount</th>\n",
       "      <th>likeCount</th>\n",
       "      <th>commentCount</th>\n",
       "      <th>date</th>\n",
       "      <th>time</th>\n",
       "      <th>artist</th>\n",
       "    </tr>\n",
       "  </thead>\n",
       "  <tbody>\n",
       "    <tr>\n",
       "      <th>0</th>\n",
       "      <td>YudHcBIxlYw</td>\n",
       "      <td>JISOO - ‘꽃(FLOWER)’ M\\/V</td>\n",
       "      <td>Music Video</td>\n",
       "      <td>390657394</td>\n",
       "      <td>10117824</td>\n",
       "      <td>1340919</td>\n",
       "      <td>2023-09-19</td>\n",
       "      <td>17:01:02.392672</td>\n",
       "      <td>JISOO</td>\n",
       "    </tr>\n",
       "  </tbody>\n",
       "</table>\n",
       "</div>"
      ],
      "text/plain": [
       "            id                     title         kind  viewCount likeCount   \n",
       "0  YudHcBIxlYw  JISOO - ‘꽃(FLOWER)’ M\\/V  Music Video  390657394  10117824  \\\n",
       "\n",
       "  commentCount        date             time artist  \n",
       "0      1340919  2023-09-19  17:01:02.392672  JISOO  "
      ]
     },
     "execution_count": 6,
     "metadata": {},
     "output_type": "execute_result"
    }
   ],
   "source": [
    "df.head(1)"
   ]
  },
  {
   "cell_type": "markdown",
   "id": "9d681534-797c-47e5-ba0d-7c36f5bf49c8",
   "metadata": {},
   "source": [
    "#### **Details for each column:**\n",
    "\n",
    "| Column       | Description                                                                                     |\n",
    "|--------------|-------------------------------------------------------------------------------------------------|\n",
    "| id           | The unique identifier for the video on YouTube.                                                 |\n",
    "| title        | The title of the video.                                                                         |\n",
    "| kind         | The type or category of the video content.                                                      |\n",
    "| viewCount    | The total number of views the video has received on YouTube.                                     |\n",
    "| likeCount    | The total number of likes the video has received on YouTube.                                     |\n",
    "| commentCount | The total number of comments posted on the video on YouTube.                                     |\n",
    "| date         | The date when the data was collected or the statistics were obtained.                            |\n",
    "| time         | The time when the data was collected or the statistics were obtained (if applicable).            |\n",
    "| artist       | The artist or creator associated with the video content.                                         |\n"
   ]
  },
  {
   "cell_type": "markdown",
   "id": "7fc2cf54-6d36-438c-9f84-8c3b559b5e0b",
   "metadata": {},
   "source": [
    "#### **Data types of each column:**"
   ]
  },
  {
   "cell_type": "code",
   "execution_count": 7,
   "id": "e9f41603-3b87-47db-8425-52778c9d2f60",
   "metadata": {
    "execution": {
     "iopub.execute_input": "2025-04-20T01:48:18.140124Z",
     "iopub.status.busy": "2025-04-20T01:48:18.139807Z",
     "iopub.status.idle": "2025-04-20T01:48:18.143835Z",
     "shell.execute_reply": "2025-04-20T01:48:18.143412Z"
    }
   },
   "outputs": [
    {
     "data": {
      "text/plain": [
       "id              object\n",
       "title           object\n",
       "kind            object\n",
       "viewCount       object\n",
       "likeCount       object\n",
       "commentCount    object\n",
       "date            object\n",
       "time            object\n",
       "artist          object\n",
       "dtype: object"
      ]
     },
     "execution_count": 7,
     "metadata": {},
     "output_type": "execute_result"
    }
   ],
   "source": [
    "df.dtypes"
   ]
  },
  {
   "cell_type": "markdown",
   "id": "73d5e1c7-e90d-4c94-a4f2-12c551e25d1d",
   "metadata": {},
   "source": [
    "Convert the `viewCount`, `likeCount`, `commentCount` to int:"
   ]
  },
  {
   "cell_type": "code",
   "execution_count": 8,
   "id": "9c7a1078-d241-43f5-b396-47e1b2e89b9f",
   "metadata": {
    "execution": {
     "iopub.execute_input": "2025-04-20T01:48:18.145556Z",
     "iopub.status.busy": "2025-04-20T01:48:18.145216Z",
     "iopub.status.idle": "2025-04-20T01:48:18.152468Z",
     "shell.execute_reply": "2025-04-20T01:48:18.152024Z"
    }
   },
   "outputs": [],
   "source": [
    "df['viewCount'] = df['viewCount'].astype(np.int64)\n",
    "df['likeCount'] = df['likeCount'].astype(np.int64)\n",
    "df['commentCount'] = df['commentCount'].astype(np.int64)"
   ]
  },
  {
   "cell_type": "markdown",
   "id": "e3b72763-5178-4b54-a1b4-95ace07eda0f",
   "metadata": {},
   "source": [
    "Convert the `date` column to datetime type:"
   ]
  },
  {
   "cell_type": "code",
   "execution_count": 9,
   "id": "04ec2fb2-14a7-45d5-bfe7-759bb3d46485",
   "metadata": {
    "execution": {
     "iopub.execute_input": "2025-04-20T01:48:18.154180Z",
     "iopub.status.busy": "2025-04-20T01:48:18.153857Z",
     "iopub.status.idle": "2025-04-20T01:48:18.166224Z",
     "shell.execute_reply": "2025-04-20T01:48:18.165800Z"
    }
   },
   "outputs": [],
   "source": [
    "df['date'] = pd.to_datetime(df['date'], format='%Y-%m-%d')"
   ]
  },
  {
   "cell_type": "code",
   "execution_count": 10,
   "id": "32f3ad58-d6d7-46d3-978d-b70ddb0697e9",
   "metadata": {
    "execution": {
     "iopub.execute_input": "2025-04-20T01:48:18.167941Z",
     "iopub.status.busy": "2025-04-20T01:48:18.167612Z",
     "iopub.status.idle": "2025-04-20T01:48:18.169950Z",
     "shell.execute_reply": "2025-04-20T01:48:18.169519Z"
    }
   },
   "outputs": [],
   "source": [
    "#df['time'] = pd.to_datetime(df['time'], format='%H:%M:%S.%f').dt.time"
   ]
  },
  {
   "cell_type": "markdown",
   "id": "59895ebc-59d5-4bae-8a01-17549abacc8f",
   "metadata": {},
   "source": [
    "#### **Number of missing values in each column:**"
   ]
  },
  {
   "cell_type": "code",
   "execution_count": 11,
   "id": "a48e1f09-f9f9-421d-902a-e3cb329f1b53",
   "metadata": {
    "execution": {
     "iopub.execute_input": "2025-04-20T01:48:18.171758Z",
     "iopub.status.busy": "2025-04-20T01:48:18.171447Z",
     "iopub.status.idle": "2025-04-20T01:48:18.195002Z",
     "shell.execute_reply": "2025-04-20T01:48:18.194539Z"
    }
   },
   "outputs": [
    {
     "data": {
      "text/plain": [
       "id              0\n",
       "title           0\n",
       "kind            0\n",
       "viewCount       0\n",
       "likeCount       0\n",
       "commentCount    0\n",
       "date            0\n",
       "time            0\n",
       "artist          0\n",
       "dtype: int64"
      ]
     },
     "execution_count": 11,
     "metadata": {},
     "output_type": "execute_result"
    }
   ],
   "source": [
    "df.isnull().sum()"
   ]
  },
  {
   "cell_type": "markdown",
   "id": "b78d27ce-2dcf-453f-ace4-c7eaf10557b5",
   "metadata": {},
   "source": [
    "#### **Investigating missing data days**"
   ]
  },
  {
   "cell_type": "code",
   "execution_count": 12,
   "id": "584c253b-9ea7-4371-bfc3-769ee8a6a474",
   "metadata": {
    "execution": {
     "iopub.execute_input": "2025-04-20T01:48:18.196820Z",
     "iopub.status.busy": "2025-04-20T01:48:18.196489Z",
     "iopub.status.idle": "2025-04-20T01:48:18.202056Z",
     "shell.execute_reply": "2025-04-20T01:48:18.201622Z"
    }
   },
   "outputs": [
    {
     "name": "stdout",
     "output_type": "stream",
     "text": [
      "Missing dates:\n",
      "DatetimeIndex(['2024-06-17', '2024-06-18', '2024-06-19', '2024-06-20',\n",
      "               '2024-06-21', '2024-06-22', '2024-06-23', '2024-06-24',\n",
      "               '2024-06-25', '2024-06-26', '2024-06-27', '2024-06-28',\n",
      "               '2024-06-29', '2024-06-30', '2024-07-01', '2024-07-02',\n",
      "               '2024-07-03', '2024-07-04', '2024-07-05', '2024-07-06',\n",
      "               '2024-07-07', '2024-07-08', '2024-07-09', '2024-07-10',\n",
      "               '2024-07-11', '2024-07-12', '2024-07-13', '2024-07-14',\n",
      "               '2024-07-15', '2024-07-16', '2024-07-17', '2024-07-18',\n",
      "               '2024-07-19', '2024-07-20', '2024-07-21', '2024-07-22',\n",
      "               '2024-07-23', '2024-07-24', '2024-07-25', '2024-07-26',\n",
      "               '2024-07-27', '2024-07-28', '2024-07-29', '2024-07-30',\n",
      "               '2024-07-31', '2024-08-01', '2024-08-02', '2024-08-03',\n",
      "               '2024-08-04', '2024-08-05', '2024-08-06', '2024-08-07',\n",
      "               '2024-08-08', '2024-08-09', '2024-08-10', '2024-08-11',\n",
      "               '2024-08-12', '2024-08-13', '2024-08-14', '2024-08-15',\n",
      "               '2024-08-16', '2024-08-17', '2024-08-18', '2024-08-19',\n",
      "               '2024-08-20', '2024-08-21', '2024-08-22', '2024-08-23',\n",
      "               '2024-08-24', '2024-08-25', '2024-08-26', '2024-08-27',\n",
      "               '2024-08-28', '2024-08-29', '2024-08-30', '2024-08-31',\n",
      "               '2024-09-01', '2024-09-02', '2024-09-03', '2024-09-04',\n",
      "               '2024-12-18'],\n",
      "              dtype='datetime64[ns]', freq=None)\n"
     ]
    }
   ],
   "source": [
    "all_dates = pd.date_range(start=df['date'].min(), end=df['date'].max(), freq='D')\n",
    "missing_dates = all_dates[~all_dates.isin(df['date'])]\n",
    "print(\"Missing dates:\")\n",
    "if len(missing_dates) > 0:\n",
    "    print(missing_dates)"
   ]
  },
  {
   "cell_type": "markdown",
   "id": "7eb7a132-5c44-4e7f-a02c-4050c86f2dd6",
   "metadata": {},
   "source": [
    "#### **Date of First Data Collection? Date of Last Data Collection?**"
   ]
  },
  {
   "cell_type": "code",
   "execution_count": 13,
   "id": "f7f30dd9-315f-47eb-95ab-9f833f292fa2",
   "metadata": {
    "execution": {
     "iopub.execute_input": "2025-04-20T01:48:18.203651Z",
     "iopub.status.busy": "2025-04-20T01:48:18.203489Z",
     "iopub.status.idle": "2025-04-20T01:48:18.228183Z",
     "shell.execute_reply": "2025-04-20T01:48:18.227663Z"
    }
   },
   "outputs": [
    {
     "name": "stdout",
     "output_type": "stream",
     "text": [
      "Date of First Data Collection: 2023-09-19\n",
      "Date of Last Data Collection: 2025-04-20\n"
     ]
    }
   ],
   "source": [
    "print(\"Date of First Data Collection:\", df['date'].dt.date.min())\n",
    "print(\"Date of Last Data Collection:\", df['date'].dt.date.max())"
   ]
  },
  {
   "cell_type": "markdown",
   "id": "bc9cfea9-df73-4ab1-8855-5a08aec7c580",
   "metadata": {},
   "source": [
    "#### **The number of distinct videos in the dataset:**"
   ]
  },
  {
   "cell_type": "code",
   "execution_count": 14,
   "id": "bb7419c2-a065-4783-84cc-f53b9d2c39bf",
   "metadata": {
    "execution": {
     "iopub.execute_input": "2025-04-20T01:48:18.230059Z",
     "iopub.status.busy": "2025-04-20T01:48:18.229693Z",
     "iopub.status.idle": "2025-04-20T01:48:18.238285Z",
     "shell.execute_reply": "2025-04-20T01:48:18.237684Z"
    }
   },
   "outputs": [
    {
     "data": {
      "text/plain": [
       "122"
      ]
     },
     "execution_count": 14,
     "metadata": {},
     "output_type": "execute_result"
    }
   ],
   "source": [
    "df.id.nunique()"
   ]
  },
  {
   "cell_type": "markdown",
   "id": "8c316712-e3f5-46dc-b46c-f09f3f745f0c",
   "metadata": {},
   "source": [
    "#### **Number of videos for each video types:**"
   ]
  },
  {
   "cell_type": "code",
   "execution_count": 15,
   "id": "4102bb65-4895-4f8f-804a-2f91c1594193",
   "metadata": {
    "execution": {
     "iopub.execute_input": "2025-04-20T01:48:18.240193Z",
     "iopub.status.busy": "2025-04-20T01:48:18.239888Z",
     "iopub.status.idle": "2025-04-20T01:48:18.257461Z",
     "shell.execute_reply": "2025-04-20T01:48:18.256886Z"
    }
   },
   "outputs": [
    {
     "data": {
      "text/html": [
       "<div>\n",
       "<style scoped>\n",
       "    .dataframe tbody tr th:only-of-type {\n",
       "        vertical-align: middle;\n",
       "    }\n",
       "\n",
       "    .dataframe tbody tr th {\n",
       "        vertical-align: top;\n",
       "    }\n",
       "\n",
       "    .dataframe thead th {\n",
       "        text-align: right;\n",
       "    }\n",
       "</style>\n",
       "<table border=\"1\" class=\"dataframe\">\n",
       "  <thead>\n",
       "    <tr style=\"text-align: right;\">\n",
       "      <th></th>\n",
       "      <th>kind</th>\n",
       "      <th>count</th>\n",
       "      <th>percentage</th>\n",
       "    </tr>\n",
       "  </thead>\n",
       "  <tbody>\n",
       "    <tr>\n",
       "      <th>2</th>\n",
       "      <td>Performance</td>\n",
       "      <td>87</td>\n",
       "      <td>70.16</td>\n",
       "    </tr>\n",
       "    <tr>\n",
       "      <th>0</th>\n",
       "      <td>Dance Practice Video</td>\n",
       "      <td>20</td>\n",
       "      <td>16.13</td>\n",
       "    </tr>\n",
       "    <tr>\n",
       "      <th>1</th>\n",
       "      <td>Music Video</td>\n",
       "      <td>17</td>\n",
       "      <td>13.71</td>\n",
       "    </tr>\n",
       "  </tbody>\n",
       "</table>\n",
       "</div>"
      ],
      "text/plain": [
       "                   kind  count  percentage\n",
       "2           Performance     87       70.16\n",
       "0  Dance Practice Video     20       16.13\n",
       "1           Music Video     17       13.71"
      ]
     },
     "metadata": {},
     "output_type": "display_data"
    }
   ],
   "source": [
    "kind_video_counts = df.drop_duplicates(subset=['kind', 'id']).groupby('kind').size().reset_index(name='count').sort_values(by='count',ascending=False)\n",
    "kind_video_counts['percentage'] = round(kind_video_counts['count'] / kind_video_counts['count'].sum() * 100,2)\n",
    "display(kind_video_counts)"
   ]
  },
  {
   "cell_type": "markdown",
   "id": "80a53ddf-cdeb-4025-b280-6b93b414726b",
   "metadata": {},
   "source": [
    "#### **Number of videos for each artist:**"
   ]
  },
  {
   "cell_type": "code",
   "execution_count": 16,
   "id": "4059d252-d079-472b-87f6-e3884ab483fd",
   "metadata": {
    "execution": {
     "iopub.execute_input": "2025-04-20T01:48:18.259243Z",
     "iopub.status.busy": "2025-04-20T01:48:18.258937Z",
     "iopub.status.idle": "2025-04-20T01:48:18.277170Z",
     "shell.execute_reply": "2025-04-20T01:48:18.276591Z"
    }
   },
   "outputs": [
    {
     "data": {
      "text/html": [
       "<div>\n",
       "<style scoped>\n",
       "    .dataframe tbody tr th:only-of-type {\n",
       "        vertical-align: middle;\n",
       "    }\n",
       "\n",
       "    .dataframe tbody tr th {\n",
       "        vertical-align: top;\n",
       "    }\n",
       "\n",
       "    .dataframe thead th {\n",
       "        text-align: right;\n",
       "    }\n",
       "</style>\n",
       "<table border=\"1\" class=\"dataframe\">\n",
       "  <thead>\n",
       "    <tr style=\"text-align: right;\">\n",
       "      <th></th>\n",
       "      <th>artist</th>\n",
       "      <th>count</th>\n",
       "      <th>percentage</th>\n",
       "    </tr>\n",
       "  </thead>\n",
       "  <tbody>\n",
       "    <tr>\n",
       "      <th>0</th>\n",
       "      <td>BLACKPINK</td>\n",
       "      <td>95</td>\n",
       "      <td>77.87</td>\n",
       "    </tr>\n",
       "    <tr>\n",
       "      <th>1</th>\n",
       "      <td>JENNIE</td>\n",
       "      <td>11</td>\n",
       "      <td>9.02</td>\n",
       "    </tr>\n",
       "    <tr>\n",
       "      <th>4</th>\n",
       "      <td>ROSÉ</td>\n",
       "      <td>8</td>\n",
       "      <td>6.56</td>\n",
       "    </tr>\n",
       "    <tr>\n",
       "      <th>3</th>\n",
       "      <td>LISA</td>\n",
       "      <td>6</td>\n",
       "      <td>4.92</td>\n",
       "    </tr>\n",
       "    <tr>\n",
       "      <th>2</th>\n",
       "      <td>JISOO</td>\n",
       "      <td>2</td>\n",
       "      <td>1.64</td>\n",
       "    </tr>\n",
       "  </tbody>\n",
       "</table>\n",
       "</div>"
      ],
      "text/plain": [
       "      artist  count  percentage\n",
       "0  BLACKPINK     95       77.87\n",
       "1     JENNIE     11        9.02\n",
       "4       ROSÉ      8        6.56\n",
       "3       LISA      6        4.92\n",
       "2      JISOO      2        1.64"
      ]
     },
     "metadata": {},
     "output_type": "display_data"
    }
   ],
   "source": [
    "artist_video_counts = df.drop_duplicates(subset=['artist', 'id']).groupby('artist').size().reset_index(name='count').sort_values(by='count',ascending=False)\n",
    "artist_video_counts['percentage'] = round(artist_video_counts['count'] / artist_video_counts['count'].sum() * 100,2)\n",
    "display(artist_video_counts)"
   ]
  },
  {
   "cell_type": "code",
   "execution_count": 17,
   "id": "d2a3d211-3348-47da-af87-d4301bd7ae4b",
   "metadata": {
    "execution": {
     "iopub.execute_input": "2025-04-20T01:48:18.278958Z",
     "iopub.status.busy": "2025-04-20T01:48:18.278638Z",
     "iopub.status.idle": "2025-04-20T01:48:18.302117Z",
     "shell.execute_reply": "2025-04-20T01:48:18.301546Z"
    }
   },
   "outputs": [
    {
     "data": {
      "text/html": [
       "<div>\n",
       "<style scoped>\n",
       "    .dataframe tbody tr th:only-of-type {\n",
       "        vertical-align: middle;\n",
       "    }\n",
       "\n",
       "    .dataframe tbody tr th {\n",
       "        vertical-align: top;\n",
       "    }\n",
       "\n",
       "    .dataframe thead th {\n",
       "        text-align: right;\n",
       "    }\n",
       "</style>\n",
       "<table border=\"1\" class=\"dataframe\">\n",
       "  <thead>\n",
       "    <tr style=\"text-align: right;\">\n",
       "      <th></th>\n",
       "      <th>artist</th>\n",
       "      <th>kind</th>\n",
       "      <th>count</th>\n",
       "    </tr>\n",
       "  </thead>\n",
       "  <tbody>\n",
       "    <tr>\n",
       "      <th>2</th>\n",
       "      <td>BLACKPINK</td>\n",
       "      <td>Performance</td>\n",
       "      <td>71</td>\n",
       "    </tr>\n",
       "    <tr>\n",
       "      <th>0</th>\n",
       "      <td>BLACKPINK</td>\n",
       "      <td>Dance Practice Video</td>\n",
       "      <td>12</td>\n",
       "    </tr>\n",
       "    <tr>\n",
       "      <th>1</th>\n",
       "      <td>BLACKPINK</td>\n",
       "      <td>Music Video</td>\n",
       "      <td>12</td>\n",
       "    </tr>\n",
       "    <tr>\n",
       "      <th>5</th>\n",
       "      <td>JENNIE</td>\n",
       "      <td>Performance</td>\n",
       "      <td>6</td>\n",
       "    </tr>\n",
       "    <tr>\n",
       "      <th>3</th>\n",
       "      <td>JENNIE</td>\n",
       "      <td>Dance Practice Video</td>\n",
       "      <td>4</td>\n",
       "    </tr>\n",
       "    <tr>\n",
       "      <th>4</th>\n",
       "      <td>JENNIE</td>\n",
       "      <td>Music Video</td>\n",
       "      <td>1</td>\n",
       "    </tr>\n",
       "    <tr>\n",
       "      <th>6</th>\n",
       "      <td>JISOO</td>\n",
       "      <td>Dance Practice Video</td>\n",
       "      <td>1</td>\n",
       "    </tr>\n",
       "    <tr>\n",
       "      <th>7</th>\n",
       "      <td>JISOO</td>\n",
       "      <td>Music Video</td>\n",
       "      <td>1</td>\n",
       "    </tr>\n",
       "    <tr>\n",
       "      <th>8</th>\n",
       "      <td>JISOO</td>\n",
       "      <td>Performance</td>\n",
       "      <td>1</td>\n",
       "    </tr>\n",
       "    <tr>\n",
       "      <th>11</th>\n",
       "      <td>LISA</td>\n",
       "      <td>Performance</td>\n",
       "      <td>3</td>\n",
       "    </tr>\n",
       "    <tr>\n",
       "      <th>9</th>\n",
       "      <td>LISA</td>\n",
       "      <td>Dance Practice Video</td>\n",
       "      <td>2</td>\n",
       "    </tr>\n",
       "    <tr>\n",
       "      <th>10</th>\n",
       "      <td>LISA</td>\n",
       "      <td>Music Video</td>\n",
       "      <td>1</td>\n",
       "    </tr>\n",
       "    <tr>\n",
       "      <th>14</th>\n",
       "      <td>ROSÉ</td>\n",
       "      <td>Performance</td>\n",
       "      <td>6</td>\n",
       "    </tr>\n",
       "    <tr>\n",
       "      <th>13</th>\n",
       "      <td>ROSÉ</td>\n",
       "      <td>Music Video</td>\n",
       "      <td>2</td>\n",
       "    </tr>\n",
       "    <tr>\n",
       "      <th>12</th>\n",
       "      <td>ROSÉ</td>\n",
       "      <td>Dance Practice Video</td>\n",
       "      <td>1</td>\n",
       "    </tr>\n",
       "  </tbody>\n",
       "</table>\n",
       "</div>"
      ],
      "text/plain": [
       "       artist                  kind  count\n",
       "2   BLACKPINK           Performance     71\n",
       "0   BLACKPINK  Dance Practice Video     12\n",
       "1   BLACKPINK           Music Video     12\n",
       "5      JENNIE           Performance      6\n",
       "3      JENNIE  Dance Practice Video      4\n",
       "4      JENNIE           Music Video      1\n",
       "6       JISOO  Dance Practice Video      1\n",
       "7       JISOO           Music Video      1\n",
       "8       JISOO           Performance      1\n",
       "11       LISA           Performance      3\n",
       "9        LISA  Dance Practice Video      2\n",
       "10       LISA           Music Video      1\n",
       "14       ROSÉ           Performance      6\n",
       "13       ROSÉ           Music Video      2\n",
       "12       ROSÉ  Dance Practice Video      1"
      ]
     },
     "metadata": {},
     "output_type": "display_data"
    }
   ],
   "source": [
    "artist_video_counts_2 = df.drop_duplicates(subset=['artist','id','kind']).groupby(['artist','kind']).size().reset_index(name='count').sort_values(by=['count'],ascending=False).sort_values(by=['artist'])\n",
    "display(artist_video_counts_2)"
   ]
  },
  {
   "cell_type": "markdown",
   "id": "1ed0b755-0af6-40d7-af8e-398553170696",
   "metadata": {},
   "source": [
    "#### **Most Viewed Video by Each Video types:**"
   ]
  },
  {
   "cell_type": "code",
   "execution_count": 18,
   "id": "ddc55cb6-a3a7-485f-b6fa-75e5c23941f1",
   "metadata": {
    "execution": {
     "iopub.execute_input": "2025-04-20T01:48:18.304409Z",
     "iopub.status.busy": "2025-04-20T01:48:18.304033Z",
     "iopub.status.idle": "2025-04-20T01:48:18.318863Z",
     "shell.execute_reply": "2025-04-20T01:48:18.318273Z"
    }
   },
   "outputs": [
    {
     "name": "stdout",
     "output_type": "stream",
     "text": [
      "Most Viewed Video by Each Video types:\n"
     ]
    },
    {
     "data": {
      "text/html": [
       "<div>\n",
       "<style scoped>\n",
       "    .dataframe tbody tr th:only-of-type {\n",
       "        vertical-align: middle;\n",
       "    }\n",
       "\n",
       "    .dataframe tbody tr th {\n",
       "        vertical-align: top;\n",
       "    }\n",
       "\n",
       "    .dataframe thead th {\n",
       "        text-align: right;\n",
       "    }\n",
       "</style>\n",
       "<table border=\"1\" class=\"dataframe\">\n",
       "  <thead>\n",
       "    <tr style=\"text-align: right;\">\n",
       "      <th></th>\n",
       "      <th>kind</th>\n",
       "      <th>title</th>\n",
       "      <th>viewCount</th>\n",
       "      <th>link</th>\n",
       "    </tr>\n",
       "  </thead>\n",
       "  <tbody>\n",
       "    <tr>\n",
       "      <th>0</th>\n",
       "      <td>Dance Practice Video</td>\n",
       "      <td>BLACKPINK - 'How You Like That' DANCE PERFORMA...</td>\n",
       "      <td>1829165917</td>\n",
       "      <td>https://www.youtube.com/watch?v=32si5cfrCNc</td>\n",
       "    </tr>\n",
       "    <tr>\n",
       "      <th>1</th>\n",
       "      <td>Music Video</td>\n",
       "      <td>BLACKPINK - ‘뚜두뚜두 (DDU-DU DDU-DU)’ M\\/V</td>\n",
       "      <td>2294496235</td>\n",
       "      <td>https://www.youtube.com/watch?v=IHNzOHi8sJs</td>\n",
       "    </tr>\n",
       "    <tr>\n",
       "      <th>2</th>\n",
       "      <td>Performance</td>\n",
       "      <td>LISA - 'MONEY' EXCLUSIVE PERFORMANCE VIDEO</td>\n",
       "      <td>1109584684</td>\n",
       "      <td>https://www.youtube.com/watch?v=dNCWe_6HAM8</td>\n",
       "    </tr>\n",
       "  </tbody>\n",
       "</table>\n",
       "</div>"
      ],
      "text/plain": [
       "                   kind                                              title   \n",
       "0  Dance Practice Video  BLACKPINK - 'How You Like That' DANCE PERFORMA...  \\\n",
       "1           Music Video            BLACKPINK - ‘뚜두뚜두 (DDU-DU DDU-DU)’ M\\/V   \n",
       "2           Performance         LISA - 'MONEY' EXCLUSIVE PERFORMANCE VIDEO   \n",
       "\n",
       "    viewCount                                         link  \n",
       "0  1829165917  https://www.youtube.com/watch?v=32si5cfrCNc  \n",
       "1  2294496235  https://www.youtube.com/watch?v=IHNzOHi8sJs  \n",
       "2  1109584684  https://www.youtube.com/watch?v=dNCWe_6HAM8  "
      ]
     },
     "metadata": {},
     "output_type": "display_data"
    }
   ],
   "source": [
    "most_viewed_videos = df.loc[df.groupby('kind')['viewCount'].idxmax()].reset_index()\n",
    "most_viewed_videos['link'] = f'https://www.youtube.com/watch?v=' + most_viewed_videos['id']\n",
    "print(\"Most Viewed Video by Each Video types:\")\n",
    "display(most_viewed_videos[['kind', 'title', 'viewCount','link']])"
   ]
  },
  {
   "cell_type": "markdown",
   "id": "8f257c1c-3a9f-4460-bdd8-21d0203d6cc0",
   "metadata": {},
   "source": [
    "#### **Most Viewed Video by Each Artist**"
   ]
  },
  {
   "cell_type": "code",
   "execution_count": 19,
   "id": "3de43269-5b9c-41f5-af61-4201d01b0b16",
   "metadata": {
    "execution": {
     "iopub.execute_input": "2025-04-20T01:48:18.320741Z",
     "iopub.status.busy": "2025-04-20T01:48:18.320402Z",
     "iopub.status.idle": "2025-04-20T01:48:18.334782Z",
     "shell.execute_reply": "2025-04-20T01:48:18.334317Z"
    }
   },
   "outputs": [
    {
     "name": "stdout",
     "output_type": "stream",
     "text": [
      "Most Viewed Video by Each Artist:\n"
     ]
    },
    {
     "data": {
      "text/html": [
       "<div>\n",
       "<style scoped>\n",
       "    .dataframe tbody tr th:only-of-type {\n",
       "        vertical-align: middle;\n",
       "    }\n",
       "\n",
       "    .dataframe tbody tr th {\n",
       "        vertical-align: top;\n",
       "    }\n",
       "\n",
       "    .dataframe thead th {\n",
       "        text-align: right;\n",
       "    }\n",
       "</style>\n",
       "<table border=\"1\" class=\"dataframe\">\n",
       "  <thead>\n",
       "    <tr style=\"text-align: right;\">\n",
       "      <th></th>\n",
       "      <th>artist</th>\n",
       "      <th>title</th>\n",
       "      <th>viewCount</th>\n",
       "      <th>link</th>\n",
       "    </tr>\n",
       "  </thead>\n",
       "  <tbody>\n",
       "    <tr>\n",
       "      <th>0</th>\n",
       "      <td>BLACKPINK</td>\n",
       "      <td>BLACKPINK - ‘뚜두뚜두 (DDU-DU DDU-DU)’ M\\/V</td>\n",
       "      <td>2294496235</td>\n",
       "      <td>https://www.youtube.com/watch?v=IHNzOHi8sJs</td>\n",
       "    </tr>\n",
       "    <tr>\n",
       "      <th>1</th>\n",
       "      <td>JENNIE</td>\n",
       "      <td>JENNIE - 'SOLO' M\\/V</td>\n",
       "      <td>1051359113</td>\n",
       "      <td>https://www.youtube.com/watch?v=b73BI9eUkjM</td>\n",
       "    </tr>\n",
       "    <tr>\n",
       "      <th>2</th>\n",
       "      <td>JISOO</td>\n",
       "      <td>JISOO - ‘꽃(FLOWER)’ M\\/V</td>\n",
       "      <td>592293681</td>\n",
       "      <td>https://www.youtube.com/watch?v=YudHcBIxlYw</td>\n",
       "    </tr>\n",
       "    <tr>\n",
       "      <th>3</th>\n",
       "      <td>LISA</td>\n",
       "      <td>LISA - 'MONEY' EXCLUSIVE PERFORMANCE VIDEO</td>\n",
       "      <td>1109584684</td>\n",
       "      <td>https://www.youtube.com/watch?v=dNCWe_6HAM8</td>\n",
       "    </tr>\n",
       "    <tr>\n",
       "      <th>4</th>\n",
       "      <td>ROSÉ</td>\n",
       "      <td>ROSÉ - 'On The Ground' M\\/V</td>\n",
       "      <td>380193347</td>\n",
       "      <td>https://www.youtube.com/watch?v=CKZvWhCqx1s</td>\n",
       "    </tr>\n",
       "  </tbody>\n",
       "</table>\n",
       "</div>"
      ],
      "text/plain": [
       "      artist                                       title   viewCount   \n",
       "0  BLACKPINK     BLACKPINK - ‘뚜두뚜두 (DDU-DU DDU-DU)’ M\\/V  2294496235  \\\n",
       "1     JENNIE                        JENNIE - 'SOLO' M\\/V  1051359113   \n",
       "2      JISOO                    JISOO - ‘꽃(FLOWER)’ M\\/V   592293681   \n",
       "3       LISA  LISA - 'MONEY' EXCLUSIVE PERFORMANCE VIDEO  1109584684   \n",
       "4       ROSÉ                 ROSÉ - 'On The Ground' M\\/V   380193347   \n",
       "\n",
       "                                          link  \n",
       "0  https://www.youtube.com/watch?v=IHNzOHi8sJs  \n",
       "1  https://www.youtube.com/watch?v=b73BI9eUkjM  \n",
       "2  https://www.youtube.com/watch?v=YudHcBIxlYw  \n",
       "3  https://www.youtube.com/watch?v=dNCWe_6HAM8  \n",
       "4  https://www.youtube.com/watch?v=CKZvWhCqx1s  "
      ]
     },
     "metadata": {},
     "output_type": "display_data"
    }
   ],
   "source": [
    "most_viewed_videos = df.loc[df.groupby('artist')['viewCount'].idxmax()].reset_index()\n",
    "most_viewed_videos['link'] = f'https://www.youtube.com/watch?v=' + most_viewed_videos['id']\n",
    "print(\"Most Viewed Video by Each Artist:\")\n",
    "display(most_viewed_videos[['artist', 'title', 'viewCount','link']])"
   ]
  },
  {
   "cell_type": "markdown",
   "id": "71a434ca-8a8a-4dc8-8e4a-c6066c1c251f",
   "metadata": {},
   "source": [
    "#### **Top 10 Videos with the Highest Number of Views**"
   ]
  },
  {
   "cell_type": "code",
   "execution_count": 20,
   "id": "cf8be957-8947-4243-9fac-729d6d78c765",
   "metadata": {
    "execution": {
     "iopub.execute_input": "2025-04-20T01:48:18.336571Z",
     "iopub.status.busy": "2025-04-20T01:48:18.336216Z",
     "iopub.status.idle": "2025-04-20T01:48:18.350892Z",
     "shell.execute_reply": "2025-04-20T01:48:18.350457Z"
    }
   },
   "outputs": [
    {
     "name": "stdout",
     "output_type": "stream",
     "text": [
      "Top 10 Videos with the Highest Number of Views:\n"
     ]
    },
    {
     "data": {
      "text/html": [
       "<div>\n",
       "<style scoped>\n",
       "    .dataframe tbody tr th:only-of-type {\n",
       "        vertical-align: middle;\n",
       "    }\n",
       "\n",
       "    .dataframe tbody tr th {\n",
       "        vertical-align: top;\n",
       "    }\n",
       "\n",
       "    .dataframe thead th {\n",
       "        text-align: right;\n",
       "    }\n",
       "</style>\n",
       "<table border=\"1\" class=\"dataframe\">\n",
       "  <thead>\n",
       "    <tr style=\"text-align: right;\">\n",
       "      <th></th>\n",
       "      <th>title</th>\n",
       "      <th>kind</th>\n",
       "      <th>artist</th>\n",
       "      <th>viewCount</th>\n",
       "      <th>link</th>\n",
       "    </tr>\n",
       "  </thead>\n",
       "  <tbody>\n",
       "    <tr>\n",
       "      <th>0</th>\n",
       "      <td>BLACKPINK - ‘뚜두뚜두 (DDU-DU DDU-DU)’ M\\/V</td>\n",
       "      <td>Music Video</td>\n",
       "      <td>BLACKPINK</td>\n",
       "      <td>2294496235</td>\n",
       "      <td>https://www.youtube.com/watch?v=IHNzOHi8sJs</td>\n",
       "    </tr>\n",
       "    <tr>\n",
       "      <th>1</th>\n",
       "      <td>BLACKPINK - 'Kill This Love' M\\/V</td>\n",
       "      <td>Music Video</td>\n",
       "      <td>BLACKPINK</td>\n",
       "      <td>2085495939</td>\n",
       "      <td>https://www.youtube.com/watch?v=2S24-y0Ij3Y</td>\n",
       "    </tr>\n",
       "    <tr>\n",
       "      <th>2</th>\n",
       "      <td>BLACKPINK - 'How You Like That' DANCE PERFORMA...</td>\n",
       "      <td>Dance Practice Video</td>\n",
       "      <td>BLACKPINK</td>\n",
       "      <td>1829165917</td>\n",
       "      <td>https://www.youtube.com/watch?v=32si5cfrCNc</td>\n",
       "    </tr>\n",
       "    <tr>\n",
       "      <th>3</th>\n",
       "      <td>BLACKPINK - '붐바야 (BOOMBAYAH)' M\\/V</td>\n",
       "      <td>Music Video</td>\n",
       "      <td>BLACKPINK</td>\n",
       "      <td>1778860093</td>\n",
       "      <td>https://www.youtube.com/watch?v=bwmSjveL3Lc</td>\n",
       "    </tr>\n",
       "    <tr>\n",
       "      <th>4</th>\n",
       "      <td>BLACKPINK - '마지막처럼 (AS IF IT'S YOUR LAST)' M\\/V</td>\n",
       "      <td>Music Video</td>\n",
       "      <td>BLACKPINK</td>\n",
       "      <td>1442613616</td>\n",
       "      <td>https://www.youtube.com/watch?v=Amq-qlqbjYA</td>\n",
       "    </tr>\n",
       "    <tr>\n",
       "      <th>5</th>\n",
       "      <td>BLACKPINK - 'How You Like That' M\\/V</td>\n",
       "      <td>Music Video</td>\n",
       "      <td>BLACKPINK</td>\n",
       "      <td>1325548575</td>\n",
       "      <td>https://www.youtube.com/watch?v=ioNng23DkIM</td>\n",
       "    </tr>\n",
       "    <tr>\n",
       "      <th>6</th>\n",
       "      <td>LISA - 'MONEY' EXCLUSIVE PERFORMANCE VIDEO</td>\n",
       "      <td>Performance</td>\n",
       "      <td>LISA</td>\n",
       "      <td>1109584684</td>\n",
       "      <td>https://www.youtube.com/watch?v=dNCWe_6HAM8</td>\n",
       "    </tr>\n",
       "    <tr>\n",
       "      <th>7</th>\n",
       "      <td>JENNIE - 'SOLO' M\\/V</td>\n",
       "      <td>Music Video</td>\n",
       "      <td>JENNIE</td>\n",
       "      <td>1051359113</td>\n",
       "      <td>https://www.youtube.com/watch?v=b73BI9eUkjM</td>\n",
       "    </tr>\n",
       "    <tr>\n",
       "      <th>8</th>\n",
       "      <td>BLACKPINK - ‘Pink Venom’ M\\/V</td>\n",
       "      <td>Music Video</td>\n",
       "      <td>BLACKPINK</td>\n",
       "      <td>962846048</td>\n",
       "      <td>https://www.youtube.com/watch?v=gQlMMD8auMs</td>\n",
       "    </tr>\n",
       "    <tr>\n",
       "      <th>9</th>\n",
       "      <td>BLACKPINK - 'Ice Cream (with Selena Gomez)' M\\/V</td>\n",
       "      <td>Music Video</td>\n",
       "      <td>BLACKPINK</td>\n",
       "      <td>956533156</td>\n",
       "      <td>https://www.youtube.com/watch?v=vRXZj0DzXIA</td>\n",
       "    </tr>\n",
       "  </tbody>\n",
       "</table>\n",
       "</div>"
      ],
      "text/plain": [
       "                                               title                  kind   \n",
       "0            BLACKPINK - ‘뚜두뚜두 (DDU-DU DDU-DU)’ M\\/V           Music Video  \\\n",
       "1                  BLACKPINK - 'Kill This Love' M\\/V           Music Video   \n",
       "2  BLACKPINK - 'How You Like That' DANCE PERFORMA...  Dance Practice Video   \n",
       "3                 BLACKPINK - '붐바야 (BOOMBAYAH)' M\\/V           Music Video   \n",
       "4    BLACKPINK - '마지막처럼 (AS IF IT'S YOUR LAST)' M\\/V           Music Video   \n",
       "5               BLACKPINK - 'How You Like That' M\\/V           Music Video   \n",
       "6         LISA - 'MONEY' EXCLUSIVE PERFORMANCE VIDEO           Performance   \n",
       "7                               JENNIE - 'SOLO' M\\/V           Music Video   \n",
       "8                      BLACKPINK - ‘Pink Venom’ M\\/V           Music Video   \n",
       "9   BLACKPINK - 'Ice Cream (with Selena Gomez)' M\\/V           Music Video   \n",
       "\n",
       "      artist   viewCount                                         link  \n",
       "0  BLACKPINK  2294496235  https://www.youtube.com/watch?v=IHNzOHi8sJs  \n",
       "1  BLACKPINK  2085495939  https://www.youtube.com/watch?v=2S24-y0Ij3Y  \n",
       "2  BLACKPINK  1829165917  https://www.youtube.com/watch?v=32si5cfrCNc  \n",
       "3  BLACKPINK  1778860093  https://www.youtube.com/watch?v=bwmSjveL3Lc  \n",
       "4  BLACKPINK  1442613616  https://www.youtube.com/watch?v=Amq-qlqbjYA  \n",
       "5  BLACKPINK  1325548575  https://www.youtube.com/watch?v=ioNng23DkIM  \n",
       "6       LISA  1109584684  https://www.youtube.com/watch?v=dNCWe_6HAM8  \n",
       "7     JENNIE  1051359113  https://www.youtube.com/watch?v=b73BI9eUkjM  \n",
       "8  BLACKPINK   962846048  https://www.youtube.com/watch?v=gQlMMD8auMs  \n",
       "9  BLACKPINK   956533156  https://www.youtube.com/watch?v=vRXZj0DzXIA  "
      ]
     },
     "metadata": {},
     "output_type": "display_data"
    }
   ],
   "source": [
    "latest_view_per_video = df.drop_duplicates(subset='id', keep='last')\n",
    "top_10_viewed_videos = latest_view_per_video.nlargest(10, 'viewCount').reset_index()\n",
    "top_10_viewed_videos['link'] = f'https://www.youtube.com/watch?v=' + top_10_viewed_videos['id']\n",
    "print(\"Top 10 Videos with the Highest Number of Views:\")\n",
    "display(top_10_viewed_videos[['title', 'kind','artist','viewCount','link']])"
   ]
  },
  {
   "cell_type": "markdown",
   "id": "d202a795-6aac-4ca3-a799-9563588324be",
   "metadata": {},
   "source": [
    "#### **Top 10 Videos with the Highest Number of Likes**"
   ]
  },
  {
   "cell_type": "code",
   "execution_count": 21,
   "id": "4e04fd9a-05ee-4157-86c1-3dbe6307a517",
   "metadata": {
    "execution": {
     "iopub.execute_input": "2025-04-20T01:48:18.352662Z",
     "iopub.status.busy": "2025-04-20T01:48:18.352308Z",
     "iopub.status.idle": "2025-04-20T01:48:18.365535Z",
     "shell.execute_reply": "2025-04-20T01:48:18.364984Z"
    }
   },
   "outputs": [
    {
     "name": "stdout",
     "output_type": "stream",
     "text": [
      "Top 10 Videos with the Highest Number of Likes:\n"
     ]
    },
    {
     "data": {
      "text/html": [
       "<div>\n",
       "<style scoped>\n",
       "    .dataframe tbody tr th:only-of-type {\n",
       "        vertical-align: middle;\n",
       "    }\n",
       "\n",
       "    .dataframe tbody tr th {\n",
       "        vertical-align: top;\n",
       "    }\n",
       "\n",
       "    .dataframe thead th {\n",
       "        text-align: right;\n",
       "    }\n",
       "</style>\n",
       "<table border=\"1\" class=\"dataframe\">\n",
       "  <thead>\n",
       "    <tr style=\"text-align: right;\">\n",
       "      <th></th>\n",
       "      <th>title</th>\n",
       "      <th>kind</th>\n",
       "      <th>artist</th>\n",
       "      <th>likeCount</th>\n",
       "      <th>link</th>\n",
       "    </tr>\n",
       "  </thead>\n",
       "  <tbody>\n",
       "    <tr>\n",
       "      <th>0</th>\n",
       "      <td>BLACKPINK - 'Kill This Love' M\\/V</td>\n",
       "      <td>Music Video</td>\n",
       "      <td>BLACKPINK</td>\n",
       "      <td>26052269</td>\n",
       "      <td>https://www.youtube.com/watch?v=IHNzOHi8sJs</td>\n",
       "    </tr>\n",
       "    <tr>\n",
       "      <th>1</th>\n",
       "      <td>BLACKPINK - 'How You Like That' M\\/V</td>\n",
       "      <td>Music Video</td>\n",
       "      <td>BLACKPINK</td>\n",
       "      <td>25099084</td>\n",
       "      <td>https://www.youtube.com/watch?v=2S24-y0Ij3Y</td>\n",
       "    </tr>\n",
       "    <tr>\n",
       "      <th>2</th>\n",
       "      <td>BLACKPINK - ‘뚜두뚜두 (DDU-DU DDU-DU)’ M\\/V</td>\n",
       "      <td>Music Video</td>\n",
       "      <td>BLACKPINK</td>\n",
       "      <td>24338403</td>\n",
       "      <td>https://www.youtube.com/watch?v=32si5cfrCNc</td>\n",
       "    </tr>\n",
       "    <tr>\n",
       "      <th>3</th>\n",
       "      <td>BLACKPINK - 'Ice Cream (with Selena Gomez)' M\\/V</td>\n",
       "      <td>Music Video</td>\n",
       "      <td>BLACKPINK</td>\n",
       "      <td>20317094</td>\n",
       "      <td>https://www.youtube.com/watch?v=bwmSjveL3Lc</td>\n",
       "    </tr>\n",
       "    <tr>\n",
       "      <th>4</th>\n",
       "      <td>BLACKPINK - 'How You Like That' DANCE PERFORMA...</td>\n",
       "      <td>Dance Practice Video</td>\n",
       "      <td>BLACKPINK</td>\n",
       "      <td>19287698</td>\n",
       "      <td>https://www.youtube.com/watch?v=Amq-qlqbjYA</td>\n",
       "    </tr>\n",
       "    <tr>\n",
       "      <th>5</th>\n",
       "      <td>LISA - 'LALISA' M\\/V</td>\n",
       "      <td>Music Video</td>\n",
       "      <td>LISA</td>\n",
       "      <td>17647288</td>\n",
       "      <td>https://www.youtube.com/watch?v=ioNng23DkIM</td>\n",
       "    </tr>\n",
       "    <tr>\n",
       "      <th>6</th>\n",
       "      <td>BLACKPINK - ‘Pink Venom’ M\\/V</td>\n",
       "      <td>Music Video</td>\n",
       "      <td>BLACKPINK</td>\n",
       "      <td>17016848</td>\n",
       "      <td>https://www.youtube.com/watch?v=dNCWe_6HAM8</td>\n",
       "    </tr>\n",
       "    <tr>\n",
       "      <th>7</th>\n",
       "      <td>BLACKPINK - '붐바야 (BOOMBAYAH)' M\\/V</td>\n",
       "      <td>Music Video</td>\n",
       "      <td>BLACKPINK</td>\n",
       "      <td>16951404</td>\n",
       "      <td>https://www.youtube.com/watch?v=b73BI9eUkjM</td>\n",
       "    </tr>\n",
       "    <tr>\n",
       "      <th>8</th>\n",
       "      <td>BLACKPINK - 'Lovesick Girls' M\\/V</td>\n",
       "      <td>Music Video</td>\n",
       "      <td>BLACKPINK</td>\n",
       "      <td>15924456</td>\n",
       "      <td>https://www.youtube.com/watch?v=gQlMMD8auMs</td>\n",
       "    </tr>\n",
       "    <tr>\n",
       "      <th>9</th>\n",
       "      <td>JENNIE - 'SOLO' M\\/V</td>\n",
       "      <td>Music Video</td>\n",
       "      <td>JENNIE</td>\n",
       "      <td>15148638</td>\n",
       "      <td>https://www.youtube.com/watch?v=vRXZj0DzXIA</td>\n",
       "    </tr>\n",
       "  </tbody>\n",
       "</table>\n",
       "</div>"
      ],
      "text/plain": [
       "                                               title                  kind   \n",
       "0                  BLACKPINK - 'Kill This Love' M\\/V           Music Video  \\\n",
       "1               BLACKPINK - 'How You Like That' M\\/V           Music Video   \n",
       "2            BLACKPINK - ‘뚜두뚜두 (DDU-DU DDU-DU)’ M\\/V           Music Video   \n",
       "3   BLACKPINK - 'Ice Cream (with Selena Gomez)' M\\/V           Music Video   \n",
       "4  BLACKPINK - 'How You Like That' DANCE PERFORMA...  Dance Practice Video   \n",
       "5                               LISA - 'LALISA' M\\/V           Music Video   \n",
       "6                      BLACKPINK - ‘Pink Venom’ M\\/V           Music Video   \n",
       "7                 BLACKPINK - '붐바야 (BOOMBAYAH)' M\\/V           Music Video   \n",
       "8                  BLACKPINK - 'Lovesick Girls' M\\/V           Music Video   \n",
       "9                               JENNIE - 'SOLO' M\\/V           Music Video   \n",
       "\n",
       "      artist  likeCount                                         link  \n",
       "0  BLACKPINK   26052269  https://www.youtube.com/watch?v=IHNzOHi8sJs  \n",
       "1  BLACKPINK   25099084  https://www.youtube.com/watch?v=2S24-y0Ij3Y  \n",
       "2  BLACKPINK   24338403  https://www.youtube.com/watch?v=32si5cfrCNc  \n",
       "3  BLACKPINK   20317094  https://www.youtube.com/watch?v=bwmSjveL3Lc  \n",
       "4  BLACKPINK   19287698  https://www.youtube.com/watch?v=Amq-qlqbjYA  \n",
       "5       LISA   17647288  https://www.youtube.com/watch?v=ioNng23DkIM  \n",
       "6  BLACKPINK   17016848  https://www.youtube.com/watch?v=dNCWe_6HAM8  \n",
       "7  BLACKPINK   16951404  https://www.youtube.com/watch?v=b73BI9eUkjM  \n",
       "8  BLACKPINK   15924456  https://www.youtube.com/watch?v=gQlMMD8auMs  \n",
       "9     JENNIE   15148638  https://www.youtube.com/watch?v=vRXZj0DzXIA  "
      ]
     },
     "metadata": {},
     "output_type": "display_data"
    }
   ],
   "source": [
    "latest_like_per_video = df.drop_duplicates(subset='id', keep='last')\n",
    "top_10_liked_videos = latest_like_per_video.nlargest(10, 'likeCount').reset_index()\n",
    "top_10_liked_videos['link'] = f'https://www.youtube.com/watch?v=' + top_10_viewed_videos['id']\n",
    "print(\"Top 10 Videos with the Highest Number of Likes:\")\n",
    "display(top_10_liked_videos[['title', 'kind','artist','likeCount','link']])"
   ]
  },
  {
   "cell_type": "markdown",
   "id": "f012fe85-ee46-4059-b308-84dd121030e4",
   "metadata": {},
   "source": [
    "#### **Top 10 Videos with the Highest Number of Comments**"
   ]
  },
  {
   "cell_type": "code",
   "execution_count": 22,
   "id": "05ce1fa0-5c41-4a39-84e3-47895fae6a35",
   "metadata": {
    "execution": {
     "iopub.execute_input": "2025-04-20T01:48:18.367225Z",
     "iopub.status.busy": "2025-04-20T01:48:18.367066Z",
     "iopub.status.idle": "2025-04-20T01:48:18.379550Z",
     "shell.execute_reply": "2025-04-20T01:48:18.379082Z"
    }
   },
   "outputs": [
    {
     "name": "stdout",
     "output_type": "stream",
     "text": [
      "Top 10 Videos with the Highest Number of Comments:\n"
     ]
    },
    {
     "data": {
      "text/html": [
       "<div>\n",
       "<style scoped>\n",
       "    .dataframe tbody tr th:only-of-type {\n",
       "        vertical-align: middle;\n",
       "    }\n",
       "\n",
       "    .dataframe tbody tr th {\n",
       "        vertical-align: top;\n",
       "    }\n",
       "\n",
       "    .dataframe thead th {\n",
       "        text-align: right;\n",
       "    }\n",
       "</style>\n",
       "<table border=\"1\" class=\"dataframe\">\n",
       "  <thead>\n",
       "    <tr style=\"text-align: right;\">\n",
       "      <th></th>\n",
       "      <th>title</th>\n",
       "      <th>kind</th>\n",
       "      <th>artist</th>\n",
       "      <th>commentCount</th>\n",
       "      <th>link</th>\n",
       "    </tr>\n",
       "  </thead>\n",
       "  <tbody>\n",
       "    <tr>\n",
       "      <th>0</th>\n",
       "      <td>BLACKPINK - 'How You Like That' M\\/V</td>\n",
       "      <td>Music Video</td>\n",
       "      <td>BLACKPINK</td>\n",
       "      <td>5021900</td>\n",
       "      <td>https://www.youtube.com/watch?v=IHNzOHi8sJs</td>\n",
       "    </tr>\n",
       "    <tr>\n",
       "      <th>1</th>\n",
       "      <td>BLACKPINK - ‘Pink Venom’ M\\/V</td>\n",
       "      <td>Music Video</td>\n",
       "      <td>BLACKPINK</td>\n",
       "      <td>3477273</td>\n",
       "      <td>https://www.youtube.com/watch?v=2S24-y0Ij3Y</td>\n",
       "    </tr>\n",
       "    <tr>\n",
       "      <th>2</th>\n",
       "      <td>JENNIE - 'SOLO' M\\/V</td>\n",
       "      <td>Music Video</td>\n",
       "      <td>JENNIE</td>\n",
       "      <td>3360839</td>\n",
       "      <td>https://www.youtube.com/watch?v=32si5cfrCNc</td>\n",
       "    </tr>\n",
       "    <tr>\n",
       "      <th>3</th>\n",
       "      <td>BLACKPINK - ‘뚜두뚜두 (DDU-DU DDU-DU)’ M\\/V</td>\n",
       "      <td>Music Video</td>\n",
       "      <td>BLACKPINK</td>\n",
       "      <td>3263720</td>\n",
       "      <td>https://www.youtube.com/watch?v=bwmSjveL3Lc</td>\n",
       "    </tr>\n",
       "    <tr>\n",
       "      <th>4</th>\n",
       "      <td>BLACKPINK - 'Ice Cream (with Selena Gomez)' M\\/V</td>\n",
       "      <td>Music Video</td>\n",
       "      <td>BLACKPINK</td>\n",
       "      <td>3011610</td>\n",
       "      <td>https://www.youtube.com/watch?v=Amq-qlqbjYA</td>\n",
       "    </tr>\n",
       "    <tr>\n",
       "      <th>5</th>\n",
       "      <td>LISA - 'LALISA' M\\/V</td>\n",
       "      <td>Music Video</td>\n",
       "      <td>LISA</td>\n",
       "      <td>2794598</td>\n",
       "      <td>https://www.youtube.com/watch?v=ioNng23DkIM</td>\n",
       "    </tr>\n",
       "    <tr>\n",
       "      <th>6</th>\n",
       "      <td>ROSÉ - 'On The Ground' M\\/V</td>\n",
       "      <td>Music Video</td>\n",
       "      <td>ROSÉ</td>\n",
       "      <td>2589654</td>\n",
       "      <td>https://www.youtube.com/watch?v=dNCWe_6HAM8</td>\n",
       "    </tr>\n",
       "    <tr>\n",
       "      <th>7</th>\n",
       "      <td>BLACKPINK - 'Kill This Love' M\\/V</td>\n",
       "      <td>Music Video</td>\n",
       "      <td>BLACKPINK</td>\n",
       "      <td>2500580</td>\n",
       "      <td>https://www.youtube.com/watch?v=b73BI9eUkjM</td>\n",
       "    </tr>\n",
       "    <tr>\n",
       "      <th>8</th>\n",
       "      <td>BLACKPINK - ‘Shut Down’ M\\/V</td>\n",
       "      <td>Music Video</td>\n",
       "      <td>BLACKPINK</td>\n",
       "      <td>2093809</td>\n",
       "      <td>https://www.youtube.com/watch?v=gQlMMD8auMs</td>\n",
       "    </tr>\n",
       "    <tr>\n",
       "      <th>9</th>\n",
       "      <td>BLACKPINK - 'Lovesick Girls' M\\/V</td>\n",
       "      <td>Music Video</td>\n",
       "      <td>BLACKPINK</td>\n",
       "      <td>2026360</td>\n",
       "      <td>https://www.youtube.com/watch?v=vRXZj0DzXIA</td>\n",
       "    </tr>\n",
       "  </tbody>\n",
       "</table>\n",
       "</div>"
      ],
      "text/plain": [
       "                                              title         kind     artist   \n",
       "0              BLACKPINK - 'How You Like That' M\\/V  Music Video  BLACKPINK  \\\n",
       "1                     BLACKPINK - ‘Pink Venom’ M\\/V  Music Video  BLACKPINK   \n",
       "2                              JENNIE - 'SOLO' M\\/V  Music Video     JENNIE   \n",
       "3           BLACKPINK - ‘뚜두뚜두 (DDU-DU DDU-DU)’ M\\/V  Music Video  BLACKPINK   \n",
       "4  BLACKPINK - 'Ice Cream (with Selena Gomez)' M\\/V  Music Video  BLACKPINK   \n",
       "5                              LISA - 'LALISA' M\\/V  Music Video       LISA   \n",
       "6                       ROSÉ - 'On The Ground' M\\/V  Music Video       ROSÉ   \n",
       "7                 BLACKPINK - 'Kill This Love' M\\/V  Music Video  BLACKPINK   \n",
       "8                      BLACKPINK - ‘Shut Down’ M\\/V  Music Video  BLACKPINK   \n",
       "9                 BLACKPINK - 'Lovesick Girls' M\\/V  Music Video  BLACKPINK   \n",
       "\n",
       "   commentCount                                         link  \n",
       "0       5021900  https://www.youtube.com/watch?v=IHNzOHi8sJs  \n",
       "1       3477273  https://www.youtube.com/watch?v=2S24-y0Ij3Y  \n",
       "2       3360839  https://www.youtube.com/watch?v=32si5cfrCNc  \n",
       "3       3263720  https://www.youtube.com/watch?v=bwmSjveL3Lc  \n",
       "4       3011610  https://www.youtube.com/watch?v=Amq-qlqbjYA  \n",
       "5       2794598  https://www.youtube.com/watch?v=ioNng23DkIM  \n",
       "6       2589654  https://www.youtube.com/watch?v=dNCWe_6HAM8  \n",
       "7       2500580  https://www.youtube.com/watch?v=b73BI9eUkjM  \n",
       "8       2093809  https://www.youtube.com/watch?v=gQlMMD8auMs  \n",
       "9       2026360  https://www.youtube.com/watch?v=vRXZj0DzXIA  "
      ]
     },
     "metadata": {},
     "output_type": "display_data"
    }
   ],
   "source": [
    "latest_cmt_per_video = df.drop_duplicates(subset='id', keep='last')\n",
    "top_10_cmt_videos = latest_cmt_per_video.nlargest(10, 'commentCount').reset_index()\n",
    "top_10_cmt_videos['link'] = f'https://www.youtube.com/watch?v=' + top_10_viewed_videos['id']\n",
    "print(\"Top 10 Videos with the Highest Number of Comments:\")\n",
    "display(top_10_cmt_videos[['title', 'kind','artist','commentCount','link']])"
   ]
  },
  {
   "cell_type": "markdown",
   "id": "f500ca40-d33d-4ea7-9ffd-779ef2eef9b7",
   "metadata": {},
   "source": [
    "#### **Views Growth in 24 Hours:**"
   ]
  },
  {
   "cell_type": "code",
   "execution_count": 23,
   "id": "4fb20da2-8438-4402-89fb-de4bdca5146e",
   "metadata": {
    "execution": {
     "iopub.execute_input": "2025-04-20T01:48:18.381243Z",
     "iopub.status.busy": "2025-04-20T01:48:18.381080Z",
     "iopub.status.idle": "2025-04-20T01:48:18.394958Z",
     "shell.execute_reply": "2025-04-20T01:48:18.394529Z"
    }
   },
   "outputs": [
    {
     "name": "stdout",
     "output_type": "stream",
     "text": [
      "Top 10 Videos with the Highest Increase in Views from the Previous Day:\n"
     ]
    },
    {
     "data": {
      "text/html": [
       "<div>\n",
       "<style scoped>\n",
       "    .dataframe tbody tr th:only-of-type {\n",
       "        vertical-align: middle;\n",
       "    }\n",
       "\n",
       "    .dataframe tbody tr th {\n",
       "        vertical-align: top;\n",
       "    }\n",
       "\n",
       "    .dataframe thead th {\n",
       "        text-align: right;\n",
       "    }\n",
       "</style>\n",
       "<table border=\"1\" class=\"dataframe\">\n",
       "  <thead>\n",
       "    <tr style=\"text-align: right;\">\n",
       "      <th></th>\n",
       "      <th>title</th>\n",
       "      <th>date_latest</th>\n",
       "      <th>viewCount_increase</th>\n",
       "      <th>viewCount_latest</th>\n",
       "      <th>link</th>\n",
       "    </tr>\n",
       "  </thead>\n",
       "  <tbody>\n",
       "    <tr>\n",
       "      <th>0</th>\n",
       "      <td>BLACKPINK - 'How You Like That' DANCE PERFORMA...</td>\n",
       "      <td>2025-04-20</td>\n",
       "      <td>596689</td>\n",
       "      <td>1829165917</td>\n",
       "      <td>https://www.youtube.com/watch?v=32si5cfrCNc</td>\n",
       "    </tr>\n",
       "    <tr>\n",
       "      <th>1</th>\n",
       "      <td>BLACKPINK - 'Kill This Love' M\\/V</td>\n",
       "      <td>2025-04-20</td>\n",
       "      <td>418975</td>\n",
       "      <td>2085495939</td>\n",
       "      <td>https://www.youtube.com/watch?v=2S24-y0Ij3Y</td>\n",
       "    </tr>\n",
       "    <tr>\n",
       "      <th>2</th>\n",
       "      <td>LISA - 'MONEY' EXCLUSIVE PERFORMANCE VIDEO</td>\n",
       "      <td>2025-04-20</td>\n",
       "      <td>396060</td>\n",
       "      <td>1109584684</td>\n",
       "      <td>https://www.youtube.com/watch?v=dNCWe_6HAM8</td>\n",
       "    </tr>\n",
       "    <tr>\n",
       "      <th>3</th>\n",
       "      <td>BLACKPINK - ‘Pink Venom’ M\\/V</td>\n",
       "      <td>2025-04-20</td>\n",
       "      <td>341807</td>\n",
       "      <td>962846048</td>\n",
       "      <td>https://www.youtube.com/watch?v=gQlMMD8auMs</td>\n",
       "    </tr>\n",
       "    <tr>\n",
       "      <th>4</th>\n",
       "      <td>BLACKPINK - ‘뚜두뚜두 (DDU-DU DDU-DU)’ M\\/V</td>\n",
       "      <td>2025-04-20</td>\n",
       "      <td>316960</td>\n",
       "      <td>2294496235</td>\n",
       "      <td>https://www.youtube.com/watch?v=IHNzOHi8sJs</td>\n",
       "    </tr>\n",
       "    <tr>\n",
       "      <th>5</th>\n",
       "      <td>BLACKPINK - ‘Shut Down’ M\\/V</td>\n",
       "      <td>2025-04-20</td>\n",
       "      <td>279804</td>\n",
       "      <td>722692135</td>\n",
       "      <td>https://www.youtube.com/watch?v=POe9SOEKotk</td>\n",
       "    </tr>\n",
       "    <tr>\n",
       "      <th>6</th>\n",
       "      <td>BLACKPINK - '붐바야 (BOOMBAYAH)' M\\/V</td>\n",
       "      <td>2025-04-20</td>\n",
       "      <td>272825</td>\n",
       "      <td>1778860093</td>\n",
       "      <td>https://www.youtube.com/watch?v=bwmSjveL3Lc</td>\n",
       "    </tr>\n",
       "    <tr>\n",
       "      <th>7</th>\n",
       "      <td>BLACKPINK - '마지막처럼 (AS IF IT'S YOUR LAST)' M\\/V</td>\n",
       "      <td>2025-04-20</td>\n",
       "      <td>207567</td>\n",
       "      <td>1442613616</td>\n",
       "      <td>https://www.youtube.com/watch?v=Amq-qlqbjYA</td>\n",
       "    </tr>\n",
       "    <tr>\n",
       "      <th>8</th>\n",
       "      <td>JISOO - ‘꽃(FLOWER)’ M\\/V</td>\n",
       "      <td>2025-04-20</td>\n",
       "      <td>205333</td>\n",
       "      <td>592293681</td>\n",
       "      <td>https://www.youtube.com/watch?v=YudHcBIxlYw</td>\n",
       "    </tr>\n",
       "    <tr>\n",
       "      <th>9</th>\n",
       "      <td>BLACKPINK - 'Ice Cream (with Selena Gomez)' M\\/V</td>\n",
       "      <td>2025-04-20</td>\n",
       "      <td>178730</td>\n",
       "      <td>956533156</td>\n",
       "      <td>https://www.youtube.com/watch?v=vRXZj0DzXIA</td>\n",
       "    </tr>\n",
       "  </tbody>\n",
       "</table>\n",
       "</div>"
      ],
      "text/plain": [
       "                                               title date_latest   \n",
       "0  BLACKPINK - 'How You Like That' DANCE PERFORMA...  2025-04-20  \\\n",
       "1                  BLACKPINK - 'Kill This Love' M\\/V  2025-04-20   \n",
       "2         LISA - 'MONEY' EXCLUSIVE PERFORMANCE VIDEO  2025-04-20   \n",
       "3                      BLACKPINK - ‘Pink Venom’ M\\/V  2025-04-20   \n",
       "4            BLACKPINK - ‘뚜두뚜두 (DDU-DU DDU-DU)’ M\\/V  2025-04-20   \n",
       "5                       BLACKPINK - ‘Shut Down’ M\\/V  2025-04-20   \n",
       "6                 BLACKPINK - '붐바야 (BOOMBAYAH)' M\\/V  2025-04-20   \n",
       "7    BLACKPINK - '마지막처럼 (AS IF IT'S YOUR LAST)' M\\/V  2025-04-20   \n",
       "8                           JISOO - ‘꽃(FLOWER)’ M\\/V  2025-04-20   \n",
       "9   BLACKPINK - 'Ice Cream (with Selena Gomez)' M\\/V  2025-04-20   \n",
       "\n",
       "   viewCount_increase  viewCount_latest   \n",
       "0              596689        1829165917  \\\n",
       "1              418975        2085495939   \n",
       "2              396060        1109584684   \n",
       "3              341807         962846048   \n",
       "4              316960        2294496235   \n",
       "5              279804         722692135   \n",
       "6              272825        1778860093   \n",
       "7              207567        1442613616   \n",
       "8              205333         592293681   \n",
       "9              178730         956533156   \n",
       "\n",
       "                                          link  \n",
       "0  https://www.youtube.com/watch?v=32si5cfrCNc  \n",
       "1  https://www.youtube.com/watch?v=2S24-y0Ij3Y  \n",
       "2  https://www.youtube.com/watch?v=dNCWe_6HAM8  \n",
       "3  https://www.youtube.com/watch?v=gQlMMD8auMs  \n",
       "4  https://www.youtube.com/watch?v=IHNzOHi8sJs  \n",
       "5  https://www.youtube.com/watch?v=POe9SOEKotk  \n",
       "6  https://www.youtube.com/watch?v=bwmSjveL3Lc  \n",
       "7  https://www.youtube.com/watch?v=Amq-qlqbjYA  \n",
       "8  https://www.youtube.com/watch?v=YudHcBIxlYw  \n",
       "9  https://www.youtube.com/watch?v=vRXZj0DzXIA  "
      ]
     },
     "metadata": {},
     "output_type": "display_data"
    }
   ],
   "source": [
    "latest_date_data = df[df['date'] == df['date'].max()]\n",
    "previous_date_data = df[df['date'] == (df['date'].max() - pd.Timedelta(days=1))]\n",
    "merged_data = pd.merge(latest_date_data, previous_date_data, on=['title'], suffixes=('_latest', '_previous'), how='inner')\n",
    "merged_data['viewCount_increase'] = merged_data['viewCount_latest'] - merged_data['viewCount_previous']\n",
    "\n",
    "top_10_increase_videos = merged_data.nlargest(10, 'viewCount_increase').reset_index()\n",
    "top_10_increase_videos['link'] = f'https://www.youtube.com/watch?v=' + top_10_increase_videos['id_latest']\n",
    "print(\"Top 10 Videos with the Highest Increase in Views from the Previous Day:\")\n",
    "display(top_10_increase_videos[['title','date_latest','viewCount_increase','viewCount_latest','link']])"
   ]
  }
 ],
 "metadata": {
  "kernelspec": {
   "display_name": "Python 3 (ipykernel)",
   "language": "python",
   "name": "python3"
  },
  "language_info": {
   "codemirror_mode": {
    "name": "ipython",
    "version": 3
   },
   "file_extension": ".py",
   "mimetype": "text/x-python",
   "name": "python",
   "nbconvert_exporter": "python",
   "pygments_lexer": "ipython3",
   "version": "3.11.12"
  }
 },
 "nbformat": 4,
 "nbformat_minor": 5
}
