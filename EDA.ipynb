{
 "cells": [
  {
   "cell_type": "markdown",
   "id": "e57542de-a8cb-4e5e-b60d-f3f516a70ea3",
   "metadata": {},
   "source": [
    "### **1. Importing Libraries**"
   ]
  },
  {
   "cell_type": "code",
   "execution_count": 1,
   "id": "1ec86ad1-e878-4847-a320-f90cff1a6a91",
   "metadata": {
    "execution": {
     "iopub.execute_input": "2025-07-20T02:06:44.558878Z",
     "iopub.status.busy": "2025-07-20T02:06:44.558636Z",
     "iopub.status.idle": "2025-07-20T02:06:44.885633Z",
     "shell.execute_reply": "2025-07-20T02:06:44.885032Z"
    }
   },
   "outputs": [],
   "source": [
    "import pandas as pd\n",
    "import numpy as np"
   ]
  },
  {
   "cell_type": "markdown",
   "id": "f4acada6-3901-45ee-b8bd-91f0233f2c29",
   "metadata": {},
   "source": [
    "### **2. Importing Data**"
   ]
  },
  {
   "cell_type": "code",
   "execution_count": 2,
   "id": "16010483-d37b-49e4-9029-5657806e6cbf",
   "metadata": {
    "execution": {
     "iopub.execute_input": "2025-07-20T02:06:44.888230Z",
     "iopub.status.busy": "2025-07-20T02:06:44.887968Z",
     "iopub.status.idle": "2025-07-20T02:06:56.668142Z",
     "shell.execute_reply": "2025-07-20T02:06:56.667467Z"
    }
   },
   "outputs": [],
   "source": [
    "df = pd.read_json(\"datasets/CLEANED_videos_count_data.json\")"
   ]
  },
  {
   "cell_type": "code",
   "execution_count": 3,
   "id": "bc6ac6f9-a62c-49a7-a72e-39ed7d540ebf",
   "metadata": {
    "execution": {
     "iopub.execute_input": "2025-07-20T02:06:56.670617Z",
     "iopub.status.busy": "2025-07-20T02:06:56.670426Z",
     "iopub.status.idle": "2025-07-20T02:06:56.679958Z",
     "shell.execute_reply": "2025-07-20T02:06:56.679418Z"
    }
   },
   "outputs": [],
   "source": [
    "df = df.T"
   ]
  },
  {
   "cell_type": "code",
   "execution_count": 4,
   "id": "5b3f305a-9909-47b5-9625-43a51107941d",
   "metadata": {
    "execution": {
     "iopub.execute_input": "2025-07-20T02:06:56.681905Z",
     "iopub.status.busy": "2025-07-20T02:06:56.681702Z",
     "iopub.status.idle": "2025-07-20T02:06:56.694570Z",
     "shell.execute_reply": "2025-07-20T02:06:56.694058Z"
    }
   },
   "outputs": [
    {
     "data": {
      "text/html": [
       "<div>\n",
       "<style scoped>\n",
       "    .dataframe tbody tr th:only-of-type {\n",
       "        vertical-align: middle;\n",
       "    }\n",
       "\n",
       "    .dataframe tbody tr th {\n",
       "        vertical-align: top;\n",
       "    }\n",
       "\n",
       "    .dataframe thead th {\n",
       "        text-align: right;\n",
       "    }\n",
       "</style>\n",
       "<table border=\"1\" class=\"dataframe\">\n",
       "  <thead>\n",
       "    <tr style=\"text-align: right;\">\n",
       "      <th></th>\n",
       "      <th>id</th>\n",
       "      <th>title</th>\n",
       "      <th>kind</th>\n",
       "      <th>viewCount</th>\n",
       "      <th>likeCount</th>\n",
       "      <th>commentCount</th>\n",
       "      <th>date</th>\n",
       "      <th>time</th>\n",
       "      <th>artist</th>\n",
       "    </tr>\n",
       "  </thead>\n",
       "  <tbody>\n",
       "    <tr>\n",
       "      <th>0</th>\n",
       "      <td>YudHcBIxlYw</td>\n",
       "      <td>JISOO - ‘꽃(FLOWER)’ M\\/V</td>\n",
       "      <td>Music Video</td>\n",
       "      <td>390657394</td>\n",
       "      <td>10117824</td>\n",
       "      <td>1340919</td>\n",
       "      <td>2023-09-19</td>\n",
       "      <td>17:01:02.392672</td>\n",
       "      <td>JISOO</td>\n",
       "    </tr>\n",
       "    <tr>\n",
       "      <th>1</th>\n",
       "      <td>POe9SOEKotk</td>\n",
       "      <td>BLACKPINK - ‘Shut Down’ M\\/V</td>\n",
       "      <td>Music Video</td>\n",
       "      <td>522252772</td>\n",
       "      <td>10824498</td>\n",
       "      <td>2239017</td>\n",
       "      <td>2023-09-19</td>\n",
       "      <td>17:01:02.392707</td>\n",
       "      <td>BLACKPINK</td>\n",
       "    </tr>\n",
       "    <tr>\n",
       "      <th>2</th>\n",
       "      <td>gQlMMD8auMs</td>\n",
       "      <td>BLACKPINK - ‘Pink Venom’ M\\/V</td>\n",
       "      <td>Music Video</td>\n",
       "      <td>731994719</td>\n",
       "      <td>16069895</td>\n",
       "      <td>3569773</td>\n",
       "      <td>2023-09-19</td>\n",
       "      <td>17:01:02.392717</td>\n",
       "      <td>BLACKPINK</td>\n",
       "    </tr>\n",
       "    <tr>\n",
       "      <th>3</th>\n",
       "      <td>awkkyBH2zEo</td>\n",
       "      <td>LISA - 'LALISA' M\\/V</td>\n",
       "      <td>Music Video</td>\n",
       "      <td>653808793</td>\n",
       "      <td>17313679</td>\n",
       "      <td>2815724</td>\n",
       "      <td>2023-09-19</td>\n",
       "      <td>17:01:02.392725</td>\n",
       "      <td>LISA</td>\n",
       "    </tr>\n",
       "    <tr>\n",
       "      <th>4</th>\n",
       "      <td>K9_VFxzCuQ0</td>\n",
       "      <td>ROSÉ - 'Gone' M\\/V</td>\n",
       "      <td>Music Video</td>\n",
       "      <td>267505076</td>\n",
       "      <td>7376149</td>\n",
       "      <td>1240229</td>\n",
       "      <td>2023-09-19</td>\n",
       "      <td>17:01:02.392734</td>\n",
       "      <td>ROSÉ</td>\n",
       "    </tr>\n",
       "    <tr>\n",
       "      <th>...</th>\n",
       "      <td>...</td>\n",
       "      <td>...</td>\n",
       "      <td>...</td>\n",
       "      <td>...</td>\n",
       "      <td>...</td>\n",
       "      <td>...</td>\n",
       "      <td>...</td>\n",
       "      <td>...</td>\n",
       "      <td>...</td>\n",
       "    </tr>\n",
       "    <tr>\n",
       "      <th>71966</th>\n",
       "      <td>EKHdMwRaU60</td>\n",
       "      <td>BLACKPINK​ - '붐바야(BOOMBAYAH)' 0828 SBS Inkigayo</td>\n",
       "      <td>Performance</td>\n",
       "      <td>61564278</td>\n",
       "      <td>831904</td>\n",
       "      <td>23057</td>\n",
       "      <td>2025-07-20</td>\n",
       "      <td>02:05:53.131050</td>\n",
       "      <td>BLACKPINK</td>\n",
       "    </tr>\n",
       "    <tr>\n",
       "      <th>71967</th>\n",
       "      <td>metZ_f8aqC0</td>\n",
       "      <td>BLACKPINK​ - '휘파람(WHISTLE)' 0821 SBS Inkigayo</td>\n",
       "      <td>Performance</td>\n",
       "      <td>45368261</td>\n",
       "      <td>924549</td>\n",
       "      <td>27018</td>\n",
       "      <td>2025-07-20</td>\n",
       "      <td>02:05:53.295762</td>\n",
       "      <td>BLACKPINK</td>\n",
       "    </tr>\n",
       "    <tr>\n",
       "      <th>71968</th>\n",
       "      <td>RGmL76BBGZk</td>\n",
       "      <td>BLACKPINK​ - '붐바야(BOOMBAYAH)' 0821 SBS Inkigay...</td>\n",
       "      <td>Performance</td>\n",
       "      <td>17741364</td>\n",
       "      <td>554467</td>\n",
       "      <td>15187</td>\n",
       "      <td>2025-07-20</td>\n",
       "      <td>02:05:53.295777</td>\n",
       "      <td>BLACKPINK</td>\n",
       "    </tr>\n",
       "    <tr>\n",
       "      <th>71969</th>\n",
       "      <td>vAqAp1tJnkc</td>\n",
       "      <td>BLACKPINK - '휘파람’(WHISTLE) 0814 SBS Inkigayo</td>\n",
       "      <td>Performance</td>\n",
       "      <td>49360407</td>\n",
       "      <td>872897</td>\n",
       "      <td>29529</td>\n",
       "      <td>2025-07-20</td>\n",
       "      <td>02:05:53.295780</td>\n",
       "      <td>BLACKPINK</td>\n",
       "    </tr>\n",
       "    <tr>\n",
       "      <th>71970</th>\n",
       "      <td>LpSH8MrYCfg</td>\n",
       "      <td>BLACKPINK - '붐바야(BOOMBAYAH)' 0814 SBS Inkigayo</td>\n",
       "      <td>Performance</td>\n",
       "      <td>185113665</td>\n",
       "      <td>2644399</td>\n",
       "      <td>81651</td>\n",
       "      <td>2025-07-20</td>\n",
       "      <td>02:05:53.295782</td>\n",
       "      <td>BLACKPINK</td>\n",
       "    </tr>\n",
       "  </tbody>\n",
       "</table>\n",
       "<p>71971 rows × 9 columns</p>\n",
       "</div>"
      ],
      "text/plain": [
       "                id                                              title   \n",
       "0      YudHcBIxlYw                           JISOO - ‘꽃(FLOWER)’ M\\/V  \\\n",
       "1      POe9SOEKotk                       BLACKPINK - ‘Shut Down’ M\\/V   \n",
       "2      gQlMMD8auMs                      BLACKPINK - ‘Pink Venom’ M\\/V   \n",
       "3      awkkyBH2zEo                               LISA - 'LALISA' M\\/V   \n",
       "4      K9_VFxzCuQ0                                 ROSÉ - 'Gone' M\\/V   \n",
       "...            ...                                                ...   \n",
       "71966  EKHdMwRaU60    BLACKPINK​ - '붐바야(BOOMBAYAH)' 0828 SBS Inkigayo   \n",
       "71967  metZ_f8aqC0      BLACKPINK​ - '휘파람(WHISTLE)' 0821 SBS Inkigayo   \n",
       "71968  RGmL76BBGZk  BLACKPINK​ - '붐바야(BOOMBAYAH)' 0821 SBS Inkigay...   \n",
       "71969  vAqAp1tJnkc       BLACKPINK - '휘파람’(WHISTLE) 0814 SBS Inkigayo   \n",
       "71970  LpSH8MrYCfg     BLACKPINK - '붐바야(BOOMBAYAH)' 0814 SBS Inkigayo   \n",
       "\n",
       "              kind  viewCount likeCount commentCount        date   \n",
       "0      Music Video  390657394  10117824      1340919  2023-09-19  \\\n",
       "1      Music Video  522252772  10824498      2239017  2023-09-19   \n",
       "2      Music Video  731994719  16069895      3569773  2023-09-19   \n",
       "3      Music Video  653808793  17313679      2815724  2023-09-19   \n",
       "4      Music Video  267505076   7376149      1240229  2023-09-19   \n",
       "...            ...        ...       ...          ...         ...   \n",
       "71966  Performance   61564278    831904        23057  2025-07-20   \n",
       "71967  Performance   45368261    924549        27018  2025-07-20   \n",
       "71968  Performance   17741364    554467        15187  2025-07-20   \n",
       "71969  Performance   49360407    872897        29529  2025-07-20   \n",
       "71970  Performance  185113665   2644399        81651  2025-07-20   \n",
       "\n",
       "                  time     artist  \n",
       "0      17:01:02.392672      JISOO  \n",
       "1      17:01:02.392707  BLACKPINK  \n",
       "2      17:01:02.392717  BLACKPINK  \n",
       "3      17:01:02.392725       LISA  \n",
       "4      17:01:02.392734       ROSÉ  \n",
       "...                ...        ...  \n",
       "71966  02:05:53.131050  BLACKPINK  \n",
       "71967  02:05:53.295762  BLACKPINK  \n",
       "71968  02:05:53.295777  BLACKPINK  \n",
       "71969  02:05:53.295780  BLACKPINK  \n",
       "71970  02:05:53.295782  BLACKPINK  \n",
       "\n",
       "[71971 rows x 9 columns]"
      ]
     },
     "metadata": {},
     "output_type": "display_data"
    }
   ],
   "source": [
    "display(df)"
   ]
  },
  {
   "cell_type": "markdown",
   "id": "c016103a-8a35-4c04-a0a7-e4af4f742d96",
   "metadata": {},
   "source": [
    "### **3. Data Information**"
   ]
  },
  {
   "cell_type": "markdown",
   "id": "01b2daf6-7a81-4fa0-ba4a-6fb2ab8007f8",
   "metadata": {},
   "source": [
    "#### **Data dimensions**: \n"
   ]
  },
  {
   "cell_type": "code",
   "execution_count": 5,
   "id": "d3f80009-96ed-4d80-aea7-6a296fe92b73",
   "metadata": {
    "execution": {
     "iopub.execute_input": "2025-07-20T02:06:56.696430Z",
     "iopub.status.busy": "2025-07-20T02:06:56.696258Z",
     "iopub.status.idle": "2025-07-20T02:06:56.699953Z",
     "shell.execute_reply": "2025-07-20T02:06:56.699477Z"
    }
   },
   "outputs": [
    {
     "data": {
      "text/plain": [
       "(71971, 9)"
      ]
     },
     "execution_count": 5,
     "metadata": {},
     "output_type": "execute_result"
    }
   ],
   "source": [
    "df.shape"
   ]
  },
  {
   "cell_type": "markdown",
   "id": "7f8d78d8-9403-48a9-9e02-9277af1da7cf",
   "metadata": {},
   "source": [
    "#### **Details for each row:**\n",
    "\n",
    "The information of one video, including id, title, artist, views, likes,..."
   ]
  },
  {
   "cell_type": "code",
   "execution_count": 6,
   "id": "0e1c5f92-28c8-4fca-a80b-895d293fa695",
   "metadata": {
    "execution": {
     "iopub.execute_input": "2025-07-20T02:06:56.701669Z",
     "iopub.status.busy": "2025-07-20T02:06:56.701495Z",
     "iopub.status.idle": "2025-07-20T02:06:56.709206Z",
     "shell.execute_reply": "2025-07-20T02:06:56.708635Z"
    }
   },
   "outputs": [
    {
     "data": {
      "text/html": [
       "<div>\n",
       "<style scoped>\n",
       "    .dataframe tbody tr th:only-of-type {\n",
       "        vertical-align: middle;\n",
       "    }\n",
       "\n",
       "    .dataframe tbody tr th {\n",
       "        vertical-align: top;\n",
       "    }\n",
       "\n",
       "    .dataframe thead th {\n",
       "        text-align: right;\n",
       "    }\n",
       "</style>\n",
       "<table border=\"1\" class=\"dataframe\">\n",
       "  <thead>\n",
       "    <tr style=\"text-align: right;\">\n",
       "      <th></th>\n",
       "      <th>id</th>\n",
       "      <th>title</th>\n",
       "      <th>kind</th>\n",
       "      <th>viewCount</th>\n",
       "      <th>likeCount</th>\n",
       "      <th>commentCount</th>\n",
       "      <th>date</th>\n",
       "      <th>time</th>\n",
       "      <th>artist</th>\n",
       "    </tr>\n",
       "  </thead>\n",
       "  <tbody>\n",
       "    <tr>\n",
       "      <th>0</th>\n",
       "      <td>YudHcBIxlYw</td>\n",
       "      <td>JISOO - ‘꽃(FLOWER)’ M\\/V</td>\n",
       "      <td>Music Video</td>\n",
       "      <td>390657394</td>\n",
       "      <td>10117824</td>\n",
       "      <td>1340919</td>\n",
       "      <td>2023-09-19</td>\n",
       "      <td>17:01:02.392672</td>\n",
       "      <td>JISOO</td>\n",
       "    </tr>\n",
       "  </tbody>\n",
       "</table>\n",
       "</div>"
      ],
      "text/plain": [
       "            id                     title         kind  viewCount likeCount   \n",
       "0  YudHcBIxlYw  JISOO - ‘꽃(FLOWER)’ M\\/V  Music Video  390657394  10117824  \\\n",
       "\n",
       "  commentCount        date             time artist  \n",
       "0      1340919  2023-09-19  17:01:02.392672  JISOO  "
      ]
     },
     "execution_count": 6,
     "metadata": {},
     "output_type": "execute_result"
    }
   ],
   "source": [
    "df.head(1)"
   ]
  },
  {
   "cell_type": "markdown",
   "id": "9d681534-797c-47e5-ba0d-7c36f5bf49c8",
   "metadata": {},
   "source": [
    "#### **Details for each column:**\n",
    "\n",
    "| Column       | Description                                                                                     |\n",
    "|--------------|-------------------------------------------------------------------------------------------------|\n",
    "| id           | The unique identifier for the video on YouTube.                                                 |\n",
    "| title        | The title of the video.                                                                         |\n",
    "| kind         | The type or category of the video content.                                                      |\n",
    "| viewCount    | The total number of views the video has received on YouTube.                                     |\n",
    "| likeCount    | The total number of likes the video has received on YouTube.                                     |\n",
    "| commentCount | The total number of comments posted on the video on YouTube.                                     |\n",
    "| date         | The date when the data was collected or the statistics were obtained.                            |\n",
    "| time         | The time when the data was collected or the statistics were obtained (if applicable).            |\n",
    "| artist       | The artist or creator associated with the video content.                                         |\n"
   ]
  },
  {
   "cell_type": "markdown",
   "id": "7fc2cf54-6d36-438c-9f84-8c3b559b5e0b",
   "metadata": {},
   "source": [
    "#### **Data types of each column:**"
   ]
  },
  {
   "cell_type": "code",
   "execution_count": 7,
   "id": "e9f41603-3b87-47db-8425-52778c9d2f60",
   "metadata": {
    "execution": {
     "iopub.execute_input": "2025-07-20T02:06:56.711210Z",
     "iopub.status.busy": "2025-07-20T02:06:56.710863Z",
     "iopub.status.idle": "2025-07-20T02:06:56.715131Z",
     "shell.execute_reply": "2025-07-20T02:06:56.714632Z"
    }
   },
   "outputs": [
    {
     "data": {
      "text/plain": [
       "id              object\n",
       "title           object\n",
       "kind            object\n",
       "viewCount       object\n",
       "likeCount       object\n",
       "commentCount    object\n",
       "date            object\n",
       "time            object\n",
       "artist          object\n",
       "dtype: object"
      ]
     },
     "execution_count": 7,
     "metadata": {},
     "output_type": "execute_result"
    }
   ],
   "source": [
    "df.dtypes"
   ]
  },
  {
   "cell_type": "markdown",
   "id": "73d5e1c7-e90d-4c94-a4f2-12c551e25d1d",
   "metadata": {},
   "source": [
    "Convert the `viewCount`, `likeCount`, `commentCount` to int:"
   ]
  },
  {
   "cell_type": "code",
   "execution_count": 8,
   "id": "9c7a1078-d241-43f5-b396-47e1b2e89b9f",
   "metadata": {
    "execution": {
     "iopub.execute_input": "2025-07-20T02:06:56.717150Z",
     "iopub.status.busy": "2025-07-20T02:06:56.716776Z",
     "iopub.status.idle": "2025-07-20T02:06:56.726904Z",
     "shell.execute_reply": "2025-07-20T02:06:56.726338Z"
    }
   },
   "outputs": [],
   "source": [
    "df['viewCount'] = df['viewCount'].astype(np.int64)\n",
    "df['likeCount'] = df['likeCount'].astype(np.int64)\n",
    "df['commentCount'] = df['commentCount'].astype(np.int64)"
   ]
  },
  {
   "cell_type": "markdown",
   "id": "e3b72763-5178-4b54-a1b4-95ace07eda0f",
   "metadata": {},
   "source": [
    "Convert the `date` column to datetime type:"
   ]
  },
  {
   "cell_type": "code",
   "execution_count": 9,
   "id": "04ec2fb2-14a7-45d5-bfe7-759bb3d46485",
   "metadata": {
    "execution": {
     "iopub.execute_input": "2025-07-20T02:06:56.729036Z",
     "iopub.status.busy": "2025-07-20T02:06:56.728604Z",
     "iopub.status.idle": "2025-07-20T02:06:56.754848Z",
     "shell.execute_reply": "2025-07-20T02:06:56.754112Z"
    }
   },
   "outputs": [],
   "source": [
    "df['date'] = pd.to_datetime(df['date'], format='%Y-%m-%d')"
   ]
  },
  {
   "cell_type": "code",
   "execution_count": 10,
   "id": "32f3ad58-d6d7-46d3-978d-b70ddb0697e9",
   "metadata": {
    "execution": {
     "iopub.execute_input": "2025-07-20T02:06:56.757454Z",
     "iopub.status.busy": "2025-07-20T02:06:56.757099Z",
     "iopub.status.idle": "2025-07-20T02:06:56.759937Z",
     "shell.execute_reply": "2025-07-20T02:06:56.759434Z"
    }
   },
   "outputs": [],
   "source": [
    "#df['time'] = pd.to_datetime(df['time'], format='%H:%M:%S.%f').dt.time"
   ]
  },
  {
   "cell_type": "markdown",
   "id": "59895ebc-59d5-4bae-8a01-17549abacc8f",
   "metadata": {},
   "source": [
    "#### **Number of missing values in each column:**"
   ]
  },
  {
   "cell_type": "code",
   "execution_count": 11,
   "id": "a48e1f09-f9f9-421d-902a-e3cb329f1b53",
   "metadata": {
    "execution": {
     "iopub.execute_input": "2025-07-20T02:06:56.761896Z",
     "iopub.status.busy": "2025-07-20T02:06:56.761446Z",
     "iopub.status.idle": "2025-07-20T02:06:56.797390Z",
     "shell.execute_reply": "2025-07-20T02:06:56.796838Z"
    }
   },
   "outputs": [
    {
     "data": {
      "text/plain": [
       "id              0\n",
       "title           0\n",
       "kind            0\n",
       "viewCount       0\n",
       "likeCount       0\n",
       "commentCount    0\n",
       "date            0\n",
       "time            0\n",
       "artist          0\n",
       "dtype: int64"
      ]
     },
     "execution_count": 11,
     "metadata": {},
     "output_type": "execute_result"
    }
   ],
   "source": [
    "df.isnull().sum()"
   ]
  },
  {
   "cell_type": "markdown",
   "id": "b78d27ce-2dcf-453f-ace4-c7eaf10557b5",
   "metadata": {},
   "source": [
    "#### **Investigating missing data days**"
   ]
  },
  {
   "cell_type": "code",
   "execution_count": 12,
   "id": "584c253b-9ea7-4371-bfc3-769ee8a6a474",
   "metadata": {
    "execution": {
     "iopub.execute_input": "2025-07-20T02:06:56.799487Z",
     "iopub.status.busy": "2025-07-20T02:06:56.799045Z",
     "iopub.status.idle": "2025-07-20T02:06:56.805418Z",
     "shell.execute_reply": "2025-07-20T02:06:56.804839Z"
    }
   },
   "outputs": [
    {
     "name": "stdout",
     "output_type": "stream",
     "text": [
      "Missing dates:\n",
      "DatetimeIndex(['2024-06-17', '2024-06-18', '2024-06-19', '2024-06-20',\n",
      "               '2024-06-21', '2024-06-22', '2024-06-23', '2024-06-24',\n",
      "               '2024-06-25', '2024-06-26', '2024-06-27', '2024-06-28',\n",
      "               '2024-06-29', '2024-06-30', '2024-07-01', '2024-07-02',\n",
      "               '2024-07-03', '2024-07-04', '2024-07-05', '2024-07-06',\n",
      "               '2024-07-07', '2024-07-08', '2024-07-09', '2024-07-10',\n",
      "               '2024-07-11', '2024-07-12', '2024-07-13', '2024-07-14',\n",
      "               '2024-07-15', '2024-07-16', '2024-07-17', '2024-07-18',\n",
      "               '2024-07-19', '2024-07-20', '2024-07-21', '2024-07-22',\n",
      "               '2024-07-23', '2024-07-24', '2024-07-25', '2024-07-26',\n",
      "               '2024-07-27', '2024-07-28', '2024-07-29', '2024-07-30',\n",
      "               '2024-07-31', '2024-08-01', '2024-08-02', '2024-08-03',\n",
      "               '2024-08-04', '2024-08-05', '2024-08-06', '2024-08-07',\n",
      "               '2024-08-08', '2024-08-09', '2024-08-10', '2024-08-11',\n",
      "               '2024-08-12', '2024-08-13', '2024-08-14', '2024-08-15',\n",
      "               '2024-08-16', '2024-08-17', '2024-08-18', '2024-08-19',\n",
      "               '2024-08-20', '2024-08-21', '2024-08-22', '2024-08-23',\n",
      "               '2024-08-24', '2024-08-25', '2024-08-26', '2024-08-27',\n",
      "               '2024-08-28', '2024-08-29', '2024-08-30', '2024-08-31',\n",
      "               '2024-09-01', '2024-09-02', '2024-09-03', '2024-09-04',\n",
      "               '2024-12-18'],\n",
      "              dtype='datetime64[ns]', freq=None)\n"
     ]
    }
   ],
   "source": [
    "all_dates = pd.date_range(start=df['date'].min(), end=df['date'].max(), freq='D')\n",
    "missing_dates = all_dates[~all_dates.isin(df['date'])]\n",
    "print(\"Missing dates:\")\n",
    "if len(missing_dates) > 0:\n",
    "    print(missing_dates)"
   ]
  },
  {
   "cell_type": "markdown",
   "id": "7eb7a132-5c44-4e7f-a02c-4050c86f2dd6",
   "metadata": {},
   "source": [
    "#### **Date of First Data Collection? Date of Last Data Collection?**"
   ]
  },
  {
   "cell_type": "code",
   "execution_count": 13,
   "id": "f7f30dd9-315f-47eb-95ab-9f833f292fa2",
   "metadata": {
    "execution": {
     "iopub.execute_input": "2025-07-20T02:06:56.807246Z",
     "iopub.status.busy": "2025-07-20T02:06:56.807088Z",
     "iopub.status.idle": "2025-07-20T02:06:56.837307Z",
     "shell.execute_reply": "2025-07-20T02:06:56.836681Z"
    }
   },
   "outputs": [
    {
     "name": "stdout",
     "output_type": "stream",
     "text": [
      "Date of First Data Collection: 2023-09-19\n",
      "Date of Last Data Collection: 2025-07-20\n"
     ]
    }
   ],
   "source": [
    "print(\"Date of First Data Collection:\", df['date'].dt.date.min())\n",
    "print(\"Date of Last Data Collection:\", df['date'].dt.date.max())"
   ]
  },
  {
   "cell_type": "markdown",
   "id": "bc9cfea9-df73-4ab1-8855-5a08aec7c580",
   "metadata": {},
   "source": [
    "#### **The number of distinct videos in the dataset:**"
   ]
  },
  {
   "cell_type": "code",
   "execution_count": 14,
   "id": "bb7419c2-a065-4783-84cc-f53b9d2c39bf",
   "metadata": {
    "execution": {
     "iopub.execute_input": "2025-07-20T02:06:56.839438Z",
     "iopub.status.busy": "2025-07-20T02:06:56.839147Z",
     "iopub.status.idle": "2025-07-20T02:06:56.852885Z",
     "shell.execute_reply": "2025-07-20T02:06:56.852299Z"
    }
   },
   "outputs": [
    {
     "data": {
      "text/plain": [
       "123"
      ]
     },
     "execution_count": 14,
     "metadata": {},
     "output_type": "execute_result"
    }
   ],
   "source": [
    "df.id.nunique()"
   ]
  },
  {
   "cell_type": "markdown",
   "id": "8c316712-e3f5-46dc-b46c-f09f3f745f0c",
   "metadata": {},
   "source": [
    "#### **Number of videos for each video types:**"
   ]
  },
  {
   "cell_type": "code",
   "execution_count": 15,
   "id": "4102bb65-4895-4f8f-804a-2f91c1594193",
   "metadata": {
    "execution": {
     "iopub.execute_input": "2025-07-20T02:06:56.855012Z",
     "iopub.status.busy": "2025-07-20T02:06:56.854843Z",
     "iopub.status.idle": "2025-07-20T02:06:56.884439Z",
     "shell.execute_reply": "2025-07-20T02:06:56.883863Z"
    }
   },
   "outputs": [
    {
     "data": {
      "text/html": [
       "<div>\n",
       "<style scoped>\n",
       "    .dataframe tbody tr th:only-of-type {\n",
       "        vertical-align: middle;\n",
       "    }\n",
       "\n",
       "    .dataframe tbody tr th {\n",
       "        vertical-align: top;\n",
       "    }\n",
       "\n",
       "    .dataframe thead th {\n",
       "        text-align: right;\n",
       "    }\n",
       "</style>\n",
       "<table border=\"1\" class=\"dataframe\">\n",
       "  <thead>\n",
       "    <tr style=\"text-align: right;\">\n",
       "      <th></th>\n",
       "      <th>kind</th>\n",
       "      <th>count</th>\n",
       "      <th>percentage</th>\n",
       "    </tr>\n",
       "  </thead>\n",
       "  <tbody>\n",
       "    <tr>\n",
       "      <th>2</th>\n",
       "      <td>Performance</td>\n",
       "      <td>87</td>\n",
       "      <td>69.6</td>\n",
       "    </tr>\n",
       "    <tr>\n",
       "      <th>0</th>\n",
       "      <td>Dance Practice Video</td>\n",
       "      <td>20</td>\n",
       "      <td>16.0</td>\n",
       "    </tr>\n",
       "    <tr>\n",
       "      <th>1</th>\n",
       "      <td>Music Video</td>\n",
       "      <td>18</td>\n",
       "      <td>14.4</td>\n",
       "    </tr>\n",
       "  </tbody>\n",
       "</table>\n",
       "</div>"
      ],
      "text/plain": [
       "                   kind  count  percentage\n",
       "2           Performance     87        69.6\n",
       "0  Dance Practice Video     20        16.0\n",
       "1           Music Video     18        14.4"
      ]
     },
     "metadata": {},
     "output_type": "display_data"
    }
   ],
   "source": [
    "kind_video_counts = df.drop_duplicates(subset=['kind', 'id']).groupby('kind').size().reset_index(name='count').sort_values(by='count',ascending=False)\n",
    "kind_video_counts['percentage'] = round(kind_video_counts['count'] / kind_video_counts['count'].sum() * 100,2)\n",
    "display(kind_video_counts)"
   ]
  },
  {
   "cell_type": "markdown",
   "id": "80a53ddf-cdeb-4025-b280-6b93b414726b",
   "metadata": {},
   "source": [
    "#### **Number of videos for each artist:**"
   ]
  },
  {
   "cell_type": "code",
   "execution_count": 16,
   "id": "4059d252-d079-472b-87f6-e3884ab483fd",
   "metadata": {
    "execution": {
     "iopub.execute_input": "2025-07-20T02:06:56.886736Z",
     "iopub.status.busy": "2025-07-20T02:06:56.886212Z",
     "iopub.status.idle": "2025-07-20T02:06:56.916980Z",
     "shell.execute_reply": "2025-07-20T02:06:56.916397Z"
    }
   },
   "outputs": [
    {
     "data": {
      "text/html": [
       "<div>\n",
       "<style scoped>\n",
       "    .dataframe tbody tr th:only-of-type {\n",
       "        vertical-align: middle;\n",
       "    }\n",
       "\n",
       "    .dataframe tbody tr th {\n",
       "        vertical-align: top;\n",
       "    }\n",
       "\n",
       "    .dataframe thead th {\n",
       "        text-align: right;\n",
       "    }\n",
       "</style>\n",
       "<table border=\"1\" class=\"dataframe\">\n",
       "  <thead>\n",
       "    <tr style=\"text-align: right;\">\n",
       "      <th></th>\n",
       "      <th>artist</th>\n",
       "      <th>count</th>\n",
       "      <th>percentage</th>\n",
       "    </tr>\n",
       "  </thead>\n",
       "  <tbody>\n",
       "    <tr>\n",
       "      <th>0</th>\n",
       "      <td>BLACKPINK</td>\n",
       "      <td>96</td>\n",
       "      <td>78.05</td>\n",
       "    </tr>\n",
       "    <tr>\n",
       "      <th>1</th>\n",
       "      <td>JENNIE</td>\n",
       "      <td>11</td>\n",
       "      <td>8.94</td>\n",
       "    </tr>\n",
       "    <tr>\n",
       "      <th>4</th>\n",
       "      <td>ROSÉ</td>\n",
       "      <td>8</td>\n",
       "      <td>6.50</td>\n",
       "    </tr>\n",
       "    <tr>\n",
       "      <th>3</th>\n",
       "      <td>LISA</td>\n",
       "      <td>6</td>\n",
       "      <td>4.88</td>\n",
       "    </tr>\n",
       "    <tr>\n",
       "      <th>2</th>\n",
       "      <td>JISOO</td>\n",
       "      <td>2</td>\n",
       "      <td>1.63</td>\n",
       "    </tr>\n",
       "  </tbody>\n",
       "</table>\n",
       "</div>"
      ],
      "text/plain": [
       "      artist  count  percentage\n",
       "0  BLACKPINK     96       78.05\n",
       "1     JENNIE     11        8.94\n",
       "4       ROSÉ      8        6.50\n",
       "3       LISA      6        4.88\n",
       "2      JISOO      2        1.63"
      ]
     },
     "metadata": {},
     "output_type": "display_data"
    }
   ],
   "source": [
    "artist_video_counts = df.drop_duplicates(subset=['artist', 'id']).groupby('artist').size().reset_index(name='count').sort_values(by='count',ascending=False)\n",
    "artist_video_counts['percentage'] = round(artist_video_counts['count'] / artist_video_counts['count'].sum() * 100,2)\n",
    "display(artist_video_counts)"
   ]
  },
  {
   "cell_type": "code",
   "execution_count": 17,
   "id": "d2a3d211-3348-47da-af87-d4301bd7ae4b",
   "metadata": {
    "execution": {
     "iopub.execute_input": "2025-07-20T02:06:56.919194Z",
     "iopub.status.busy": "2025-07-20T02:06:56.918791Z",
     "iopub.status.idle": "2025-07-20T02:06:56.959350Z",
     "shell.execute_reply": "2025-07-20T02:06:56.958782Z"
    }
   },
   "outputs": [
    {
     "data": {
      "text/html": [
       "<div>\n",
       "<style scoped>\n",
       "    .dataframe tbody tr th:only-of-type {\n",
       "        vertical-align: middle;\n",
       "    }\n",
       "\n",
       "    .dataframe tbody tr th {\n",
       "        vertical-align: top;\n",
       "    }\n",
       "\n",
       "    .dataframe thead th {\n",
       "        text-align: right;\n",
       "    }\n",
       "</style>\n",
       "<table border=\"1\" class=\"dataframe\">\n",
       "  <thead>\n",
       "    <tr style=\"text-align: right;\">\n",
       "      <th></th>\n",
       "      <th>artist</th>\n",
       "      <th>kind</th>\n",
       "      <th>count</th>\n",
       "    </tr>\n",
       "  </thead>\n",
       "  <tbody>\n",
       "    <tr>\n",
       "      <th>2</th>\n",
       "      <td>BLACKPINK</td>\n",
       "      <td>Performance</td>\n",
       "      <td>71</td>\n",
       "    </tr>\n",
       "    <tr>\n",
       "      <th>1</th>\n",
       "      <td>BLACKPINK</td>\n",
       "      <td>Music Video</td>\n",
       "      <td>13</td>\n",
       "    </tr>\n",
       "    <tr>\n",
       "      <th>0</th>\n",
       "      <td>BLACKPINK</td>\n",
       "      <td>Dance Practice Video</td>\n",
       "      <td>12</td>\n",
       "    </tr>\n",
       "    <tr>\n",
       "      <th>5</th>\n",
       "      <td>JENNIE</td>\n",
       "      <td>Performance</td>\n",
       "      <td>6</td>\n",
       "    </tr>\n",
       "    <tr>\n",
       "      <th>3</th>\n",
       "      <td>JENNIE</td>\n",
       "      <td>Dance Practice Video</td>\n",
       "      <td>4</td>\n",
       "    </tr>\n",
       "    <tr>\n",
       "      <th>4</th>\n",
       "      <td>JENNIE</td>\n",
       "      <td>Music Video</td>\n",
       "      <td>1</td>\n",
       "    </tr>\n",
       "    <tr>\n",
       "      <th>6</th>\n",
       "      <td>JISOO</td>\n",
       "      <td>Dance Practice Video</td>\n",
       "      <td>1</td>\n",
       "    </tr>\n",
       "    <tr>\n",
       "      <th>7</th>\n",
       "      <td>JISOO</td>\n",
       "      <td>Music Video</td>\n",
       "      <td>1</td>\n",
       "    </tr>\n",
       "    <tr>\n",
       "      <th>8</th>\n",
       "      <td>JISOO</td>\n",
       "      <td>Performance</td>\n",
       "      <td>1</td>\n",
       "    </tr>\n",
       "    <tr>\n",
       "      <th>11</th>\n",
       "      <td>LISA</td>\n",
       "      <td>Performance</td>\n",
       "      <td>3</td>\n",
       "    </tr>\n",
       "    <tr>\n",
       "      <th>9</th>\n",
       "      <td>LISA</td>\n",
       "      <td>Dance Practice Video</td>\n",
       "      <td>2</td>\n",
       "    </tr>\n",
       "    <tr>\n",
       "      <th>10</th>\n",
       "      <td>LISA</td>\n",
       "      <td>Music Video</td>\n",
       "      <td>1</td>\n",
       "    </tr>\n",
       "    <tr>\n",
       "      <th>14</th>\n",
       "      <td>ROSÉ</td>\n",
       "      <td>Performance</td>\n",
       "      <td>6</td>\n",
       "    </tr>\n",
       "    <tr>\n",
       "      <th>13</th>\n",
       "      <td>ROSÉ</td>\n",
       "      <td>Music Video</td>\n",
       "      <td>2</td>\n",
       "    </tr>\n",
       "    <tr>\n",
       "      <th>12</th>\n",
       "      <td>ROSÉ</td>\n",
       "      <td>Dance Practice Video</td>\n",
       "      <td>1</td>\n",
       "    </tr>\n",
       "  </tbody>\n",
       "</table>\n",
       "</div>"
      ],
      "text/plain": [
       "       artist                  kind  count\n",
       "2   BLACKPINK           Performance     71\n",
       "1   BLACKPINK           Music Video     13\n",
       "0   BLACKPINK  Dance Practice Video     12\n",
       "5      JENNIE           Performance      6\n",
       "3      JENNIE  Dance Practice Video      4\n",
       "4      JENNIE           Music Video      1\n",
       "6       JISOO  Dance Practice Video      1\n",
       "7       JISOO           Music Video      1\n",
       "8       JISOO           Performance      1\n",
       "11       LISA           Performance      3\n",
       "9        LISA  Dance Practice Video      2\n",
       "10       LISA           Music Video      1\n",
       "14       ROSÉ           Performance      6\n",
       "13       ROSÉ           Music Video      2\n",
       "12       ROSÉ  Dance Practice Video      1"
      ]
     },
     "metadata": {},
     "output_type": "display_data"
    }
   ],
   "source": [
    "artist_video_counts_2 = df.drop_duplicates(subset=['artist','id','kind']).groupby(['artist','kind']).size().reset_index(name='count').sort_values(by=['count'],ascending=False).sort_values(by=['artist'])\n",
    "display(artist_video_counts_2)"
   ]
  },
  {
   "cell_type": "markdown",
   "id": "1ed0b755-0af6-40d7-af8e-398553170696",
   "metadata": {},
   "source": [
    "#### **Most Viewed Video by Each Video types:**"
   ]
  },
  {
   "cell_type": "code",
   "execution_count": 18,
   "id": "ddc55cb6-a3a7-485f-b6fa-75e5c23941f1",
   "metadata": {
    "execution": {
     "iopub.execute_input": "2025-07-20T02:06:56.961493Z",
     "iopub.status.busy": "2025-07-20T02:06:56.961137Z",
     "iopub.status.idle": "2025-07-20T02:06:56.982663Z",
     "shell.execute_reply": "2025-07-20T02:06:56.982144Z"
    }
   },
   "outputs": [
    {
     "name": "stdout",
     "output_type": "stream",
     "text": [
      "Most Viewed Video by Each Video types:\n"
     ]
    },
    {
     "data": {
      "text/html": [
       "<div>\n",
       "<style scoped>\n",
       "    .dataframe tbody tr th:only-of-type {\n",
       "        vertical-align: middle;\n",
       "    }\n",
       "\n",
       "    .dataframe tbody tr th {\n",
       "        vertical-align: top;\n",
       "    }\n",
       "\n",
       "    .dataframe thead th {\n",
       "        text-align: right;\n",
       "    }\n",
       "</style>\n",
       "<table border=\"1\" class=\"dataframe\">\n",
       "  <thead>\n",
       "    <tr style=\"text-align: right;\">\n",
       "      <th></th>\n",
       "      <th>kind</th>\n",
       "      <th>title</th>\n",
       "      <th>viewCount</th>\n",
       "      <th>link</th>\n",
       "    </tr>\n",
       "  </thead>\n",
       "  <tbody>\n",
       "    <tr>\n",
       "      <th>0</th>\n",
       "      <td>Dance Practice Video</td>\n",
       "      <td>BLACKPINK - 'How You Like That' DANCE PERFORMA...</td>\n",
       "      <td>1874390599</td>\n",
       "      <td>https://www.youtube.com/watch?v=32si5cfrCNc</td>\n",
       "    </tr>\n",
       "    <tr>\n",
       "      <th>1</th>\n",
       "      <td>Music Video</td>\n",
       "      <td>BLACKPINK - ‘뚜두뚜두 (DDU-DU DDU-DU)’ M\\/V</td>\n",
       "      <td>2320055989</td>\n",
       "      <td>https://www.youtube.com/watch?v=IHNzOHi8sJs</td>\n",
       "    </tr>\n",
       "    <tr>\n",
       "      <th>2</th>\n",
       "      <td>Performance</td>\n",
       "      <td>LISA - 'MONEY' EXCLUSIVE PERFORMANCE VIDEO</td>\n",
       "      <td>1136882105</td>\n",
       "      <td>https://www.youtube.com/watch?v=dNCWe_6HAM8</td>\n",
       "    </tr>\n",
       "  </tbody>\n",
       "</table>\n",
       "</div>"
      ],
      "text/plain": [
       "                   kind                                              title   \n",
       "0  Dance Practice Video  BLACKPINK - 'How You Like That' DANCE PERFORMA...  \\\n",
       "1           Music Video            BLACKPINK - ‘뚜두뚜두 (DDU-DU DDU-DU)’ M\\/V   \n",
       "2           Performance         LISA - 'MONEY' EXCLUSIVE PERFORMANCE VIDEO   \n",
       "\n",
       "    viewCount                                         link  \n",
       "0  1874390599  https://www.youtube.com/watch?v=32si5cfrCNc  \n",
       "1  2320055989  https://www.youtube.com/watch?v=IHNzOHi8sJs  \n",
       "2  1136882105  https://www.youtube.com/watch?v=dNCWe_6HAM8  "
      ]
     },
     "metadata": {},
     "output_type": "display_data"
    }
   ],
   "source": [
    "most_viewed_videos = df.loc[df.groupby('kind')['viewCount'].idxmax()].reset_index()\n",
    "most_viewed_videos['link'] = f'https://www.youtube.com/watch?v=' + most_viewed_videos['id']\n",
    "print(\"Most Viewed Video by Each Video types:\")\n",
    "display(most_viewed_videos[['kind', 'title', 'viewCount','link']])"
   ]
  },
  {
   "cell_type": "markdown",
   "id": "8f257c1c-3a9f-4460-bdd8-21d0203d6cc0",
   "metadata": {},
   "source": [
    "#### **Most Viewed Video by Each Artist**"
   ]
  },
  {
   "cell_type": "code",
   "execution_count": 19,
   "id": "3de43269-5b9c-41f5-af61-4201d01b0b16",
   "metadata": {
    "execution": {
     "iopub.execute_input": "2025-07-20T02:06:56.984962Z",
     "iopub.status.busy": "2025-07-20T02:06:56.984504Z",
     "iopub.status.idle": "2025-07-20T02:06:57.005431Z",
     "shell.execute_reply": "2025-07-20T02:06:57.004766Z"
    }
   },
   "outputs": [
    {
     "name": "stdout",
     "output_type": "stream",
     "text": [
      "Most Viewed Video by Each Artist:\n"
     ]
    },
    {
     "data": {
      "text/html": [
       "<div>\n",
       "<style scoped>\n",
       "    .dataframe tbody tr th:only-of-type {\n",
       "        vertical-align: middle;\n",
       "    }\n",
       "\n",
       "    .dataframe tbody tr th {\n",
       "        vertical-align: top;\n",
       "    }\n",
       "\n",
       "    .dataframe thead th {\n",
       "        text-align: right;\n",
       "    }\n",
       "</style>\n",
       "<table border=\"1\" class=\"dataframe\">\n",
       "  <thead>\n",
       "    <tr style=\"text-align: right;\">\n",
       "      <th></th>\n",
       "      <th>artist</th>\n",
       "      <th>title</th>\n",
       "      <th>viewCount</th>\n",
       "      <th>link</th>\n",
       "    </tr>\n",
       "  </thead>\n",
       "  <tbody>\n",
       "    <tr>\n",
       "      <th>0</th>\n",
       "      <td>BLACKPINK</td>\n",
       "      <td>BLACKPINK - ‘뚜두뚜두 (DDU-DU DDU-DU)’ M\\/V</td>\n",
       "      <td>2320055989</td>\n",
       "      <td>https://www.youtube.com/watch?v=IHNzOHi8sJs</td>\n",
       "    </tr>\n",
       "    <tr>\n",
       "      <th>1</th>\n",
       "      <td>JENNIE</td>\n",
       "      <td>JENNIE - 'SOLO' M\\/V</td>\n",
       "      <td>1059383438</td>\n",
       "      <td>https://www.youtube.com/watch?v=b73BI9eUkjM</td>\n",
       "    </tr>\n",
       "    <tr>\n",
       "      <th>2</th>\n",
       "      <td>JISOO</td>\n",
       "      <td>JISOO - ‘꽃(FLOWER)’ M\\/V</td>\n",
       "      <td>606884346</td>\n",
       "      <td>https://www.youtube.com/watch?v=YudHcBIxlYw</td>\n",
       "    </tr>\n",
       "    <tr>\n",
       "      <th>3</th>\n",
       "      <td>LISA</td>\n",
       "      <td>LISA - 'MONEY' EXCLUSIVE PERFORMANCE VIDEO</td>\n",
       "      <td>1136882105</td>\n",
       "      <td>https://www.youtube.com/watch?v=dNCWe_6HAM8</td>\n",
       "    </tr>\n",
       "    <tr>\n",
       "      <th>4</th>\n",
       "      <td>ROSÉ</td>\n",
       "      <td>ROSÉ - 'On The Ground' M\\/V</td>\n",
       "      <td>383262015</td>\n",
       "      <td>https://www.youtube.com/watch?v=CKZvWhCqx1s</td>\n",
       "    </tr>\n",
       "  </tbody>\n",
       "</table>\n",
       "</div>"
      ],
      "text/plain": [
       "      artist                                       title   viewCount   \n",
       "0  BLACKPINK     BLACKPINK - ‘뚜두뚜두 (DDU-DU DDU-DU)’ M\\/V  2320055989  \\\n",
       "1     JENNIE                        JENNIE - 'SOLO' M\\/V  1059383438   \n",
       "2      JISOO                    JISOO - ‘꽃(FLOWER)’ M\\/V   606884346   \n",
       "3       LISA  LISA - 'MONEY' EXCLUSIVE PERFORMANCE VIDEO  1136882105   \n",
       "4       ROSÉ                 ROSÉ - 'On The Ground' M\\/V   383262015   \n",
       "\n",
       "                                          link  \n",
       "0  https://www.youtube.com/watch?v=IHNzOHi8sJs  \n",
       "1  https://www.youtube.com/watch?v=b73BI9eUkjM  \n",
       "2  https://www.youtube.com/watch?v=YudHcBIxlYw  \n",
       "3  https://www.youtube.com/watch?v=dNCWe_6HAM8  \n",
       "4  https://www.youtube.com/watch?v=CKZvWhCqx1s  "
      ]
     },
     "metadata": {},
     "output_type": "display_data"
    }
   ],
   "source": [
    "most_viewed_videos = df.loc[df.groupby('artist')['viewCount'].idxmax()].reset_index()\n",
    "most_viewed_videos['link'] = f'https://www.youtube.com/watch?v=' + most_viewed_videos['id']\n",
    "print(\"Most Viewed Video by Each Artist:\")\n",
    "display(most_viewed_videos[['artist', 'title', 'viewCount','link']])"
   ]
  },
  {
   "cell_type": "markdown",
   "id": "71a434ca-8a8a-4dc8-8e4a-c6066c1c251f",
   "metadata": {},
   "source": [
    "#### **Top 10 Videos with the Highest Number of Views**"
   ]
  },
  {
   "cell_type": "code",
   "execution_count": 20,
   "id": "cf8be957-8947-4243-9fac-729d6d78c765",
   "metadata": {
    "execution": {
     "iopub.execute_input": "2025-07-20T02:06:57.007551Z",
     "iopub.status.busy": "2025-07-20T02:06:57.007127Z",
     "iopub.status.idle": "2025-07-20T02:06:57.025441Z",
     "shell.execute_reply": "2025-07-20T02:06:57.024856Z"
    }
   },
   "outputs": [
    {
     "name": "stdout",
     "output_type": "stream",
     "text": [
      "Top 10 Videos with the Highest Number of Views:\n"
     ]
    },
    {
     "data": {
      "text/html": [
       "<div>\n",
       "<style scoped>\n",
       "    .dataframe tbody tr th:only-of-type {\n",
       "        vertical-align: middle;\n",
       "    }\n",
       "\n",
       "    .dataframe tbody tr th {\n",
       "        vertical-align: top;\n",
       "    }\n",
       "\n",
       "    .dataframe thead th {\n",
       "        text-align: right;\n",
       "    }\n",
       "</style>\n",
       "<table border=\"1\" class=\"dataframe\">\n",
       "  <thead>\n",
       "    <tr style=\"text-align: right;\">\n",
       "      <th></th>\n",
       "      <th>title</th>\n",
       "      <th>kind</th>\n",
       "      <th>artist</th>\n",
       "      <th>viewCount</th>\n",
       "      <th>link</th>\n",
       "    </tr>\n",
       "  </thead>\n",
       "  <tbody>\n",
       "    <tr>\n",
       "      <th>0</th>\n",
       "      <td>BLACKPINK - ‘뚜두뚜두 (DDU-DU DDU-DU)’ M\\/V</td>\n",
       "      <td>Music Video</td>\n",
       "      <td>BLACKPINK</td>\n",
       "      <td>2320055989</td>\n",
       "      <td>https://www.youtube.com/watch?v=IHNzOHi8sJs</td>\n",
       "    </tr>\n",
       "    <tr>\n",
       "      <th>1</th>\n",
       "      <td>BLACKPINK - 'Kill This Love' M\\/V</td>\n",
       "      <td>Music Video</td>\n",
       "      <td>BLACKPINK</td>\n",
       "      <td>2120944209</td>\n",
       "      <td>https://www.youtube.com/watch?v=2S24-y0Ij3Y</td>\n",
       "    </tr>\n",
       "    <tr>\n",
       "      <th>2</th>\n",
       "      <td>BLACKPINK - 'How You Like That' DANCE PERFORMA...</td>\n",
       "      <td>Dance Practice Video</td>\n",
       "      <td>BLACKPINK</td>\n",
       "      <td>1874390599</td>\n",
       "      <td>https://www.youtube.com/watch?v=32si5cfrCNc</td>\n",
       "    </tr>\n",
       "    <tr>\n",
       "      <th>3</th>\n",
       "      <td>BLACKPINK - '붐바야 (BOOMBAYAH)' M\\/V</td>\n",
       "      <td>Music Video</td>\n",
       "      <td>BLACKPINK</td>\n",
       "      <td>1802293231</td>\n",
       "      <td>https://www.youtube.com/watch?v=bwmSjveL3Lc</td>\n",
       "    </tr>\n",
       "    <tr>\n",
       "      <th>4</th>\n",
       "      <td>BLACKPINK - '마지막처럼 (AS IF IT'S YOUR LAST)' M\\/V</td>\n",
       "      <td>Music Video</td>\n",
       "      <td>BLACKPINK</td>\n",
       "      <td>1461933614</td>\n",
       "      <td>https://www.youtube.com/watch?v=Amq-qlqbjYA</td>\n",
       "    </tr>\n",
       "    <tr>\n",
       "      <th>5</th>\n",
       "      <td>BLACKPINK - 'How You Like That' M\\/V</td>\n",
       "      <td>Music Video</td>\n",
       "      <td>BLACKPINK</td>\n",
       "      <td>1337791467</td>\n",
       "      <td>https://www.youtube.com/watch?v=ioNng23DkIM</td>\n",
       "    </tr>\n",
       "    <tr>\n",
       "      <th>6</th>\n",
       "      <td>LISA - 'MONEY' EXCLUSIVE PERFORMANCE VIDEO</td>\n",
       "      <td>Performance</td>\n",
       "      <td>LISA</td>\n",
       "      <td>1136882105</td>\n",
       "      <td>https://www.youtube.com/watch?v=dNCWe_6HAM8</td>\n",
       "    </tr>\n",
       "    <tr>\n",
       "      <th>7</th>\n",
       "      <td>JENNIE - 'SOLO' M\\/V</td>\n",
       "      <td>Music Video</td>\n",
       "      <td>JENNIE</td>\n",
       "      <td>1059383438</td>\n",
       "      <td>https://www.youtube.com/watch?v=b73BI9eUkjM</td>\n",
       "    </tr>\n",
       "    <tr>\n",
       "      <th>8</th>\n",
       "      <td>BLACKPINK - ‘Pink Venom’ M\\/V</td>\n",
       "      <td>Music Video</td>\n",
       "      <td>BLACKPINK</td>\n",
       "      <td>993594483</td>\n",
       "      <td>https://www.youtube.com/watch?v=gQlMMD8auMs</td>\n",
       "    </tr>\n",
       "    <tr>\n",
       "      <th>9</th>\n",
       "      <td>BLACKPINK - 'Ice Cream (with Selena Gomez)' M\\/V</td>\n",
       "      <td>Music Video</td>\n",
       "      <td>BLACKPINK</td>\n",
       "      <td>969727938</td>\n",
       "      <td>https://www.youtube.com/watch?v=vRXZj0DzXIA</td>\n",
       "    </tr>\n",
       "  </tbody>\n",
       "</table>\n",
       "</div>"
      ],
      "text/plain": [
       "                                               title                  kind   \n",
       "0            BLACKPINK - ‘뚜두뚜두 (DDU-DU DDU-DU)’ M\\/V           Music Video  \\\n",
       "1                  BLACKPINK - 'Kill This Love' M\\/V           Music Video   \n",
       "2  BLACKPINK - 'How You Like That' DANCE PERFORMA...  Dance Practice Video   \n",
       "3                 BLACKPINK - '붐바야 (BOOMBAYAH)' M\\/V           Music Video   \n",
       "4    BLACKPINK - '마지막처럼 (AS IF IT'S YOUR LAST)' M\\/V           Music Video   \n",
       "5               BLACKPINK - 'How You Like That' M\\/V           Music Video   \n",
       "6         LISA - 'MONEY' EXCLUSIVE PERFORMANCE VIDEO           Performance   \n",
       "7                               JENNIE - 'SOLO' M\\/V           Music Video   \n",
       "8                      BLACKPINK - ‘Pink Venom’ M\\/V           Music Video   \n",
       "9   BLACKPINK - 'Ice Cream (with Selena Gomez)' M\\/V           Music Video   \n",
       "\n",
       "      artist   viewCount                                         link  \n",
       "0  BLACKPINK  2320055989  https://www.youtube.com/watch?v=IHNzOHi8sJs  \n",
       "1  BLACKPINK  2120944209  https://www.youtube.com/watch?v=2S24-y0Ij3Y  \n",
       "2  BLACKPINK  1874390599  https://www.youtube.com/watch?v=32si5cfrCNc  \n",
       "3  BLACKPINK  1802293231  https://www.youtube.com/watch?v=bwmSjveL3Lc  \n",
       "4  BLACKPINK  1461933614  https://www.youtube.com/watch?v=Amq-qlqbjYA  \n",
       "5  BLACKPINK  1337791467  https://www.youtube.com/watch?v=ioNng23DkIM  \n",
       "6       LISA  1136882105  https://www.youtube.com/watch?v=dNCWe_6HAM8  \n",
       "7     JENNIE  1059383438  https://www.youtube.com/watch?v=b73BI9eUkjM  \n",
       "8  BLACKPINK   993594483  https://www.youtube.com/watch?v=gQlMMD8auMs  \n",
       "9  BLACKPINK   969727938  https://www.youtube.com/watch?v=vRXZj0DzXIA  "
      ]
     },
     "metadata": {},
     "output_type": "display_data"
    }
   ],
   "source": [
    "latest_view_per_video = df.drop_duplicates(subset='id', keep='last')\n",
    "top_10_viewed_videos = latest_view_per_video.nlargest(10, 'viewCount').reset_index()\n",
    "top_10_viewed_videos['link'] = f'https://www.youtube.com/watch?v=' + top_10_viewed_videos['id']\n",
    "print(\"Top 10 Videos with the Highest Number of Views:\")\n",
    "display(top_10_viewed_videos[['title', 'kind','artist','viewCount','link']])"
   ]
  },
  {
   "cell_type": "markdown",
   "id": "d202a795-6aac-4ca3-a799-9563588324be",
   "metadata": {},
   "source": [
    "#### **Top 10 Videos with the Highest Number of Likes**"
   ]
  },
  {
   "cell_type": "code",
   "execution_count": 21,
   "id": "4e04fd9a-05ee-4157-86c1-3dbe6307a517",
   "metadata": {
    "execution": {
     "iopub.execute_input": "2025-07-20T02:06:57.027352Z",
     "iopub.status.busy": "2025-07-20T02:06:57.027063Z",
     "iopub.status.idle": "2025-07-20T02:06:57.045239Z",
     "shell.execute_reply": "2025-07-20T02:06:57.044707Z"
    }
   },
   "outputs": [
    {
     "name": "stdout",
     "output_type": "stream",
     "text": [
      "Top 10 Videos with the Highest Number of Likes:\n"
     ]
    },
    {
     "data": {
      "text/html": [
       "<div>\n",
       "<style scoped>\n",
       "    .dataframe tbody tr th:only-of-type {\n",
       "        vertical-align: middle;\n",
       "    }\n",
       "\n",
       "    .dataframe tbody tr th {\n",
       "        vertical-align: top;\n",
       "    }\n",
       "\n",
       "    .dataframe thead th {\n",
       "        text-align: right;\n",
       "    }\n",
       "</style>\n",
       "<table border=\"1\" class=\"dataframe\">\n",
       "  <thead>\n",
       "    <tr style=\"text-align: right;\">\n",
       "      <th></th>\n",
       "      <th>title</th>\n",
       "      <th>kind</th>\n",
       "      <th>artist</th>\n",
       "      <th>likeCount</th>\n",
       "      <th>link</th>\n",
       "    </tr>\n",
       "  </thead>\n",
       "  <tbody>\n",
       "    <tr>\n",
       "      <th>0</th>\n",
       "      <td>BLACKPINK - 'Kill This Love' M\\/V</td>\n",
       "      <td>Music Video</td>\n",
       "      <td>BLACKPINK</td>\n",
       "      <td>26221608</td>\n",
       "      <td>https://www.youtube.com/watch?v=IHNzOHi8sJs</td>\n",
       "    </tr>\n",
       "    <tr>\n",
       "      <th>1</th>\n",
       "      <td>BLACKPINK - 'How You Like That' M\\/V</td>\n",
       "      <td>Music Video</td>\n",
       "      <td>BLACKPINK</td>\n",
       "      <td>25153970</td>\n",
       "      <td>https://www.youtube.com/watch?v=2S24-y0Ij3Y</td>\n",
       "    </tr>\n",
       "    <tr>\n",
       "      <th>2</th>\n",
       "      <td>BLACKPINK - ‘뚜두뚜두 (DDU-DU DDU-DU)’ M\\/V</td>\n",
       "      <td>Music Video</td>\n",
       "      <td>BLACKPINK</td>\n",
       "      <td>24460642</td>\n",
       "      <td>https://www.youtube.com/watch?v=32si5cfrCNc</td>\n",
       "    </tr>\n",
       "    <tr>\n",
       "      <th>3</th>\n",
       "      <td>BLACKPINK - 'Ice Cream (with Selena Gomez)' M\\/V</td>\n",
       "      <td>Music Video</td>\n",
       "      <td>BLACKPINK</td>\n",
       "      <td>20376570</td>\n",
       "      <td>https://www.youtube.com/watch?v=bwmSjveL3Lc</td>\n",
       "    </tr>\n",
       "    <tr>\n",
       "      <th>4</th>\n",
       "      <td>BLACKPINK - 'How You Like That' DANCE PERFORMA...</td>\n",
       "      <td>Dance Practice Video</td>\n",
       "      <td>BLACKPINK</td>\n",
       "      <td>19489587</td>\n",
       "      <td>https://www.youtube.com/watch?v=Amq-qlqbjYA</td>\n",
       "    </tr>\n",
       "    <tr>\n",
       "      <th>5</th>\n",
       "      <td>LISA - 'LALISA' M\\/V</td>\n",
       "      <td>Music Video</td>\n",
       "      <td>LISA</td>\n",
       "      <td>17663459</td>\n",
       "      <td>https://www.youtube.com/watch?v=ioNng23DkIM</td>\n",
       "    </tr>\n",
       "    <tr>\n",
       "      <th>6</th>\n",
       "      <td>BLACKPINK - ‘Pink Venom’ M\\/V</td>\n",
       "      <td>Music Video</td>\n",
       "      <td>BLACKPINK</td>\n",
       "      <td>17171971</td>\n",
       "      <td>https://www.youtube.com/watch?v=dNCWe_6HAM8</td>\n",
       "    </tr>\n",
       "    <tr>\n",
       "      <th>7</th>\n",
       "      <td>BLACKPINK - '붐바야 (BOOMBAYAH)' M\\/V</td>\n",
       "      <td>Music Video</td>\n",
       "      <td>BLACKPINK</td>\n",
       "      <td>17077986</td>\n",
       "      <td>https://www.youtube.com/watch?v=b73BI9eUkjM</td>\n",
       "    </tr>\n",
       "    <tr>\n",
       "      <th>8</th>\n",
       "      <td>BLACKPINK - 'Lovesick Girls' M\\/V</td>\n",
       "      <td>Music Video</td>\n",
       "      <td>BLACKPINK</td>\n",
       "      <td>15990026</td>\n",
       "      <td>https://www.youtube.com/watch?v=gQlMMD8auMs</td>\n",
       "    </tr>\n",
       "    <tr>\n",
       "      <th>9</th>\n",
       "      <td>JENNIE - 'SOLO' M\\/V</td>\n",
       "      <td>Music Video</td>\n",
       "      <td>JENNIE</td>\n",
       "      <td>15183622</td>\n",
       "      <td>https://www.youtube.com/watch?v=vRXZj0DzXIA</td>\n",
       "    </tr>\n",
       "  </tbody>\n",
       "</table>\n",
       "</div>"
      ],
      "text/plain": [
       "                                               title                  kind   \n",
       "0                  BLACKPINK - 'Kill This Love' M\\/V           Music Video  \\\n",
       "1               BLACKPINK - 'How You Like That' M\\/V           Music Video   \n",
       "2            BLACKPINK - ‘뚜두뚜두 (DDU-DU DDU-DU)’ M\\/V           Music Video   \n",
       "3   BLACKPINK - 'Ice Cream (with Selena Gomez)' M\\/V           Music Video   \n",
       "4  BLACKPINK - 'How You Like That' DANCE PERFORMA...  Dance Practice Video   \n",
       "5                               LISA - 'LALISA' M\\/V           Music Video   \n",
       "6                      BLACKPINK - ‘Pink Venom’ M\\/V           Music Video   \n",
       "7                 BLACKPINK - '붐바야 (BOOMBAYAH)' M\\/V           Music Video   \n",
       "8                  BLACKPINK - 'Lovesick Girls' M\\/V           Music Video   \n",
       "9                               JENNIE - 'SOLO' M\\/V           Music Video   \n",
       "\n",
       "      artist  likeCount                                         link  \n",
       "0  BLACKPINK   26221608  https://www.youtube.com/watch?v=IHNzOHi8sJs  \n",
       "1  BLACKPINK   25153970  https://www.youtube.com/watch?v=2S24-y0Ij3Y  \n",
       "2  BLACKPINK   24460642  https://www.youtube.com/watch?v=32si5cfrCNc  \n",
       "3  BLACKPINK   20376570  https://www.youtube.com/watch?v=bwmSjveL3Lc  \n",
       "4  BLACKPINK   19489587  https://www.youtube.com/watch?v=Amq-qlqbjYA  \n",
       "5       LISA   17663459  https://www.youtube.com/watch?v=ioNng23DkIM  \n",
       "6  BLACKPINK   17171971  https://www.youtube.com/watch?v=dNCWe_6HAM8  \n",
       "7  BLACKPINK   17077986  https://www.youtube.com/watch?v=b73BI9eUkjM  \n",
       "8  BLACKPINK   15990026  https://www.youtube.com/watch?v=gQlMMD8auMs  \n",
       "9     JENNIE   15183622  https://www.youtube.com/watch?v=vRXZj0DzXIA  "
      ]
     },
     "metadata": {},
     "output_type": "display_data"
    }
   ],
   "source": [
    "latest_like_per_video = df.drop_duplicates(subset='id', keep='last')\n",
    "top_10_liked_videos = latest_like_per_video.nlargest(10, 'likeCount').reset_index()\n",
    "top_10_liked_videos['link'] = f'https://www.youtube.com/watch?v=' + top_10_viewed_videos['id']\n",
    "print(\"Top 10 Videos with the Highest Number of Likes:\")\n",
    "display(top_10_liked_videos[['title', 'kind','artist','likeCount','link']])"
   ]
  },
  {
   "cell_type": "markdown",
   "id": "f012fe85-ee46-4059-b308-84dd121030e4",
   "metadata": {},
   "source": [
    "#### **Top 10 Videos with the Highest Number of Comments**"
   ]
  },
  {
   "cell_type": "code",
   "execution_count": 22,
   "id": "05ce1fa0-5c41-4a39-84e3-47895fae6a35",
   "metadata": {
    "execution": {
     "iopub.execute_input": "2025-07-20T02:06:57.047101Z",
     "iopub.status.busy": "2025-07-20T02:06:57.046910Z",
     "iopub.status.idle": "2025-07-20T02:06:57.065652Z",
     "shell.execute_reply": "2025-07-20T02:06:57.065047Z"
    }
   },
   "outputs": [
    {
     "name": "stdout",
     "output_type": "stream",
     "text": [
      "Top 10 Videos with the Highest Number of Comments:\n"
     ]
    },
    {
     "data": {
      "text/html": [
       "<div>\n",
       "<style scoped>\n",
       "    .dataframe tbody tr th:only-of-type {\n",
       "        vertical-align: middle;\n",
       "    }\n",
       "\n",
       "    .dataframe tbody tr th {\n",
       "        vertical-align: top;\n",
       "    }\n",
       "\n",
       "    .dataframe thead th {\n",
       "        text-align: right;\n",
       "    }\n",
       "</style>\n",
       "<table border=\"1\" class=\"dataframe\">\n",
       "  <thead>\n",
       "    <tr style=\"text-align: right;\">\n",
       "      <th></th>\n",
       "      <th>title</th>\n",
       "      <th>kind</th>\n",
       "      <th>artist</th>\n",
       "      <th>commentCount</th>\n",
       "      <th>link</th>\n",
       "    </tr>\n",
       "  </thead>\n",
       "  <tbody>\n",
       "    <tr>\n",
       "      <th>0</th>\n",
       "      <td>BLACKPINK - 'How You Like That' M\\/V</td>\n",
       "      <td>Music Video</td>\n",
       "      <td>BLACKPINK</td>\n",
       "      <td>5013407</td>\n",
       "      <td>https://www.youtube.com/watch?v=IHNzOHi8sJs</td>\n",
       "    </tr>\n",
       "    <tr>\n",
       "      <th>1</th>\n",
       "      <td>BLACKPINK - ‘Pink Venom’ M\\/V</td>\n",
       "      <td>Music Video</td>\n",
       "      <td>BLACKPINK</td>\n",
       "      <td>3478067</td>\n",
       "      <td>https://www.youtube.com/watch?v=2S24-y0Ij3Y</td>\n",
       "    </tr>\n",
       "    <tr>\n",
       "      <th>2</th>\n",
       "      <td>JENNIE - 'SOLO' M\\/V</td>\n",
       "      <td>Music Video</td>\n",
       "      <td>JENNIE</td>\n",
       "      <td>3350267</td>\n",
       "      <td>https://www.youtube.com/watch?v=32si5cfrCNc</td>\n",
       "    </tr>\n",
       "    <tr>\n",
       "      <th>3</th>\n",
       "      <td>BLACKPINK - ‘뚜두뚜두 (DDU-DU DDU-DU)’ M\\/V</td>\n",
       "      <td>Music Video</td>\n",
       "      <td>BLACKPINK</td>\n",
       "      <td>3263191</td>\n",
       "      <td>https://www.youtube.com/watch?v=bwmSjveL3Lc</td>\n",
       "    </tr>\n",
       "    <tr>\n",
       "      <th>4</th>\n",
       "      <td>BLACKPINK - 'Ice Cream (with Selena Gomez)' M\\/V</td>\n",
       "      <td>Music Video</td>\n",
       "      <td>BLACKPINK</td>\n",
       "      <td>3009894</td>\n",
       "      <td>https://www.youtube.com/watch?v=Amq-qlqbjYA</td>\n",
       "    </tr>\n",
       "    <tr>\n",
       "      <th>5</th>\n",
       "      <td>LISA - 'LALISA' M\\/V</td>\n",
       "      <td>Music Video</td>\n",
       "      <td>LISA</td>\n",
       "      <td>2787652</td>\n",
       "      <td>https://www.youtube.com/watch?v=ioNng23DkIM</td>\n",
       "    </tr>\n",
       "    <tr>\n",
       "      <th>6</th>\n",
       "      <td>ROSÉ - 'On The Ground' M\\/V</td>\n",
       "      <td>Music Video</td>\n",
       "      <td>ROSÉ</td>\n",
       "      <td>2577926</td>\n",
       "      <td>https://www.youtube.com/watch?v=dNCWe_6HAM8</td>\n",
       "    </tr>\n",
       "    <tr>\n",
       "      <th>7</th>\n",
       "      <td>BLACKPINK - 'Kill This Love' M\\/V</td>\n",
       "      <td>Music Video</td>\n",
       "      <td>BLACKPINK</td>\n",
       "      <td>2502582</td>\n",
       "      <td>https://www.youtube.com/watch?v=b73BI9eUkjM</td>\n",
       "    </tr>\n",
       "    <tr>\n",
       "      <th>8</th>\n",
       "      <td>BLACKPINK - ‘Shut Down’ M\\/V</td>\n",
       "      <td>Music Video</td>\n",
       "      <td>BLACKPINK</td>\n",
       "      <td>2092580</td>\n",
       "      <td>https://www.youtube.com/watch?v=gQlMMD8auMs</td>\n",
       "    </tr>\n",
       "    <tr>\n",
       "      <th>9</th>\n",
       "      <td>BLACKPINK - 'Lovesick Girls' M\\/V</td>\n",
       "      <td>Music Video</td>\n",
       "      <td>BLACKPINK</td>\n",
       "      <td>2024824</td>\n",
       "      <td>https://www.youtube.com/watch?v=vRXZj0DzXIA</td>\n",
       "    </tr>\n",
       "  </tbody>\n",
       "</table>\n",
       "</div>"
      ],
      "text/plain": [
       "                                              title         kind     artist   \n",
       "0              BLACKPINK - 'How You Like That' M\\/V  Music Video  BLACKPINK  \\\n",
       "1                     BLACKPINK - ‘Pink Venom’ M\\/V  Music Video  BLACKPINK   \n",
       "2                              JENNIE - 'SOLO' M\\/V  Music Video     JENNIE   \n",
       "3           BLACKPINK - ‘뚜두뚜두 (DDU-DU DDU-DU)’ M\\/V  Music Video  BLACKPINK   \n",
       "4  BLACKPINK - 'Ice Cream (with Selena Gomez)' M\\/V  Music Video  BLACKPINK   \n",
       "5                              LISA - 'LALISA' M\\/V  Music Video       LISA   \n",
       "6                       ROSÉ - 'On The Ground' M\\/V  Music Video       ROSÉ   \n",
       "7                 BLACKPINK - 'Kill This Love' M\\/V  Music Video  BLACKPINK   \n",
       "8                      BLACKPINK - ‘Shut Down’ M\\/V  Music Video  BLACKPINK   \n",
       "9                 BLACKPINK - 'Lovesick Girls' M\\/V  Music Video  BLACKPINK   \n",
       "\n",
       "   commentCount                                         link  \n",
       "0       5013407  https://www.youtube.com/watch?v=IHNzOHi8sJs  \n",
       "1       3478067  https://www.youtube.com/watch?v=2S24-y0Ij3Y  \n",
       "2       3350267  https://www.youtube.com/watch?v=32si5cfrCNc  \n",
       "3       3263191  https://www.youtube.com/watch?v=bwmSjveL3Lc  \n",
       "4       3009894  https://www.youtube.com/watch?v=Amq-qlqbjYA  \n",
       "5       2787652  https://www.youtube.com/watch?v=ioNng23DkIM  \n",
       "6       2577926  https://www.youtube.com/watch?v=dNCWe_6HAM8  \n",
       "7       2502582  https://www.youtube.com/watch?v=b73BI9eUkjM  \n",
       "8       2092580  https://www.youtube.com/watch?v=gQlMMD8auMs  \n",
       "9       2024824  https://www.youtube.com/watch?v=vRXZj0DzXIA  "
      ]
     },
     "metadata": {},
     "output_type": "display_data"
    }
   ],
   "source": [
    "latest_cmt_per_video = df.drop_duplicates(subset='id', keep='last')\n",
    "top_10_cmt_videos = latest_cmt_per_video.nlargest(10, 'commentCount').reset_index()\n",
    "top_10_cmt_videos['link'] = f'https://www.youtube.com/watch?v=' + top_10_viewed_videos['id']\n",
    "print(\"Top 10 Videos with the Highest Number of Comments:\")\n",
    "display(top_10_cmt_videos[['title', 'kind','artist','commentCount','link']])"
   ]
  },
  {
   "cell_type": "markdown",
   "id": "f500ca40-d33d-4ea7-9ffd-779ef2eef9b7",
   "metadata": {},
   "source": [
    "#### **Views Growth in 24 Hours:**"
   ]
  },
  {
   "cell_type": "code",
   "execution_count": 23,
   "id": "4fb20da2-8438-4402-89fb-de4bdca5146e",
   "metadata": {
    "execution": {
     "iopub.execute_input": "2025-07-20T02:06:57.067888Z",
     "iopub.status.busy": "2025-07-20T02:06:57.067416Z",
     "iopub.status.idle": "2025-07-20T02:06:57.083350Z",
     "shell.execute_reply": "2025-07-20T02:06:57.082740Z"
    }
   },
   "outputs": [
    {
     "name": "stdout",
     "output_type": "stream",
     "text": [
      "Top 10 Videos with the Highest Increase in Views from the Previous Day:\n"
     ]
    },
    {
     "data": {
      "text/html": [
       "<div>\n",
       "<style scoped>\n",
       "    .dataframe tbody tr th:only-of-type {\n",
       "        vertical-align: middle;\n",
       "    }\n",
       "\n",
       "    .dataframe tbody tr th {\n",
       "        vertical-align: top;\n",
       "    }\n",
       "\n",
       "    .dataframe thead th {\n",
       "        text-align: right;\n",
       "    }\n",
       "</style>\n",
       "<table border=\"1\" class=\"dataframe\">\n",
       "  <thead>\n",
       "    <tr style=\"text-align: right;\">\n",
       "      <th></th>\n",
       "      <th>title</th>\n",
       "      <th>date_latest</th>\n",
       "      <th>viewCount_increase</th>\n",
       "      <th>viewCount_latest</th>\n",
       "      <th>link</th>\n",
       "    </tr>\n",
       "  </thead>\n",
       "  <tbody>\n",
       "    <tr>\n",
       "      <th>0</th>\n",
       "      <td>BLACKPINK - ‘뛰어(JUMP)’ M\\/V</td>\n",
       "      <td>2025-07-20</td>\n",
       "      <td>4275722</td>\n",
       "      <td>81554617</td>\n",
       "      <td>https://www.youtube.com/watch?v=CgCVZdcKcqY</td>\n",
       "    </tr>\n",
       "    <tr>\n",
       "      <th>1</th>\n",
       "      <td>BLACKPINK - 'How You Like That' DANCE PERFORMA...</td>\n",
       "      <td>2025-07-20</td>\n",
       "      <td>559763</td>\n",
       "      <td>1874390599</td>\n",
       "      <td>https://www.youtube.com/watch?v=32si5cfrCNc</td>\n",
       "    </tr>\n",
       "    <tr>\n",
       "      <th>2</th>\n",
       "      <td>BLACKPINK - ‘Pink Venom’ M\\/V</td>\n",
       "      <td>2025-07-20</td>\n",
       "      <td>504726</td>\n",
       "      <td>993594483</td>\n",
       "      <td>https://www.youtube.com/watch?v=gQlMMD8auMs</td>\n",
       "    </tr>\n",
       "    <tr>\n",
       "      <th>3</th>\n",
       "      <td>BLACKPINK - 'Kill This Love' M\\/V</td>\n",
       "      <td>2025-07-20</td>\n",
       "      <td>428435</td>\n",
       "      <td>2120944209</td>\n",
       "      <td>https://www.youtube.com/watch?v=2S24-y0Ij3Y</td>\n",
       "    </tr>\n",
       "    <tr>\n",
       "      <th>4</th>\n",
       "      <td>BLACKPINK - ‘뚜두뚜두 (DDU-DU DDU-DU)’ M\\/V</td>\n",
       "      <td>2025-07-20</td>\n",
       "      <td>348427</td>\n",
       "      <td>2320055989</td>\n",
       "      <td>https://www.youtube.com/watch?v=IHNzOHi8sJs</td>\n",
       "    </tr>\n",
       "    <tr>\n",
       "      <th>5</th>\n",
       "      <td>LISA - 'MONEY' EXCLUSIVE PERFORMANCE VIDEO</td>\n",
       "      <td>2025-07-20</td>\n",
       "      <td>329484</td>\n",
       "      <td>1136882105</td>\n",
       "      <td>https://www.youtube.com/watch?v=dNCWe_6HAM8</td>\n",
       "    </tr>\n",
       "    <tr>\n",
       "      <th>6</th>\n",
       "      <td>BLACKPINK - '붐바야 (BOOMBAYAH)' M\\/V</td>\n",
       "      <td>2025-07-20</td>\n",
       "      <td>313409</td>\n",
       "      <td>1802293231</td>\n",
       "      <td>https://www.youtube.com/watch?v=bwmSjveL3Lc</td>\n",
       "    </tr>\n",
       "    <tr>\n",
       "      <th>7</th>\n",
       "      <td>BLACKPINK - ‘Shut Down’ M\\/V</td>\n",
       "      <td>2025-07-20</td>\n",
       "      <td>305207</td>\n",
       "      <td>744924353</td>\n",
       "      <td>https://www.youtube.com/watch?v=POe9SOEKotk</td>\n",
       "    </tr>\n",
       "    <tr>\n",
       "      <th>8</th>\n",
       "      <td>BLACKPINK - '마지막처럼 (AS IF IT'S YOUR LAST)' M\\/V</td>\n",
       "      <td>2025-07-20</td>\n",
       "      <td>277047</td>\n",
       "      <td>1461933614</td>\n",
       "      <td>https://www.youtube.com/watch?v=Amq-qlqbjYA</td>\n",
       "    </tr>\n",
       "    <tr>\n",
       "      <th>9</th>\n",
       "      <td>BLACKPINK - 'How You Like That' M\\/V</td>\n",
       "      <td>2025-07-20</td>\n",
       "      <td>200197</td>\n",
       "      <td>1337791467</td>\n",
       "      <td>https://www.youtube.com/watch?v=ioNng23DkIM</td>\n",
       "    </tr>\n",
       "  </tbody>\n",
       "</table>\n",
       "</div>"
      ],
      "text/plain": [
       "                                               title date_latest   \n",
       "0                        BLACKPINK - ‘뛰어(JUMP)’ M\\/V  2025-07-20  \\\n",
       "1  BLACKPINK - 'How You Like That' DANCE PERFORMA...  2025-07-20   \n",
       "2                      BLACKPINK - ‘Pink Venom’ M\\/V  2025-07-20   \n",
       "3                  BLACKPINK - 'Kill This Love' M\\/V  2025-07-20   \n",
       "4            BLACKPINK - ‘뚜두뚜두 (DDU-DU DDU-DU)’ M\\/V  2025-07-20   \n",
       "5         LISA - 'MONEY' EXCLUSIVE PERFORMANCE VIDEO  2025-07-20   \n",
       "6                 BLACKPINK - '붐바야 (BOOMBAYAH)' M\\/V  2025-07-20   \n",
       "7                       BLACKPINK - ‘Shut Down’ M\\/V  2025-07-20   \n",
       "8    BLACKPINK - '마지막처럼 (AS IF IT'S YOUR LAST)' M\\/V  2025-07-20   \n",
       "9               BLACKPINK - 'How You Like That' M\\/V  2025-07-20   \n",
       "\n",
       "   viewCount_increase  viewCount_latest   \n",
       "0             4275722          81554617  \\\n",
       "1              559763        1874390599   \n",
       "2              504726         993594483   \n",
       "3              428435        2120944209   \n",
       "4              348427        2320055989   \n",
       "5              329484        1136882105   \n",
       "6              313409        1802293231   \n",
       "7              305207         744924353   \n",
       "8              277047        1461933614   \n",
       "9              200197        1337791467   \n",
       "\n",
       "                                          link  \n",
       "0  https://www.youtube.com/watch?v=CgCVZdcKcqY  \n",
       "1  https://www.youtube.com/watch?v=32si5cfrCNc  \n",
       "2  https://www.youtube.com/watch?v=gQlMMD8auMs  \n",
       "3  https://www.youtube.com/watch?v=2S24-y0Ij3Y  \n",
       "4  https://www.youtube.com/watch?v=IHNzOHi8sJs  \n",
       "5  https://www.youtube.com/watch?v=dNCWe_6HAM8  \n",
       "6  https://www.youtube.com/watch?v=bwmSjveL3Lc  \n",
       "7  https://www.youtube.com/watch?v=POe9SOEKotk  \n",
       "8  https://www.youtube.com/watch?v=Amq-qlqbjYA  \n",
       "9  https://www.youtube.com/watch?v=ioNng23DkIM  "
      ]
     },
     "metadata": {},
     "output_type": "display_data"
    }
   ],
   "source": [
    "latest_date_data = df[df['date'] == df['date'].max()]\n",
    "previous_date_data = df[df['date'] == (df['date'].max() - pd.Timedelta(days=1))]\n",
    "merged_data = pd.merge(latest_date_data, previous_date_data, on=['title'], suffixes=('_latest', '_previous'), how='inner')\n",
    "merged_data['viewCount_increase'] = merged_data['viewCount_latest'] - merged_data['viewCount_previous']\n",
    "\n",
    "top_10_increase_videos = merged_data.nlargest(10, 'viewCount_increase').reset_index()\n",
    "top_10_increase_videos['link'] = f'https://www.youtube.com/watch?v=' + top_10_increase_videos['id_latest']\n",
    "print(\"Top 10 Videos with the Highest Increase in Views from the Previous Day:\")\n",
    "display(top_10_increase_videos[['title','date_latest','viewCount_increase','viewCount_latest','link']])"
   ]
  }
 ],
 "metadata": {
  "kernelspec": {
   "display_name": "Python 3 (ipykernel)",
   "language": "python",
   "name": "python3"
  },
  "language_info": {
   "codemirror_mode": {
    "name": "ipython",
    "version": 3
   },
   "file_extension": ".py",
   "mimetype": "text/x-python",
   "name": "python",
   "nbconvert_exporter": "python",
   "pygments_lexer": "ipython3",
   "version": "3.11.13"
  }
 },
 "nbformat": 4,
 "nbformat_minor": 5
}
