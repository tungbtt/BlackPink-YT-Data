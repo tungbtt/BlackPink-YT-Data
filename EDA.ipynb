{
 "cells": [
  {
   "cell_type": "markdown",
   "id": "e57542de-a8cb-4e5e-b60d-f3f516a70ea3",
   "metadata": {},
   "source": [
    "### **1. Importing Libraries**"
   ]
  },
  {
   "cell_type": "code",
   "execution_count": 1,
   "id": "1ec86ad1-e878-4847-a320-f90cff1a6a91",
   "metadata": {
    "execution": {
     "iopub.execute_input": "2024-04-30T00:57:07.694967Z",
     "iopub.status.busy": "2024-04-30T00:57:07.694796Z",
     "iopub.status.idle": "2024-04-30T00:57:08.145719Z",
     "shell.execute_reply": "2024-04-30T00:57:08.145141Z"
    }
   },
   "outputs": [],
   "source": [
    "import pandas as pd\n",
    "import numpy as np"
   ]
  },
  {
   "cell_type": "markdown",
   "id": "f4acada6-3901-45ee-b8bd-91f0233f2c29",
   "metadata": {},
   "source": [
    "### **2. Importing Data**"
   ]
  },
  {
   "cell_type": "code",
   "execution_count": 2,
   "id": "16010483-d37b-49e4-9029-5657806e6cbf",
   "metadata": {
    "execution": {
     "iopub.execute_input": "2024-04-30T00:57:08.148366Z",
     "iopub.status.busy": "2024-04-30T00:57:08.148113Z",
     "iopub.status.idle": "2024-04-30T00:57:12.208650Z",
     "shell.execute_reply": "2024-04-30T00:57:12.207992Z"
    }
   },
   "outputs": [],
   "source": [
    "df = pd.read_json(\"datasets/CLEANED_videos_count_data.json\")"
   ]
  },
  {
   "cell_type": "code",
   "execution_count": 3,
   "id": "bc6ac6f9-a62c-49a7-a72e-39ed7d540ebf",
   "metadata": {
    "execution": {
     "iopub.execute_input": "2024-04-30T00:57:12.211229Z",
     "iopub.status.busy": "2024-04-30T00:57:12.211045Z",
     "iopub.status.idle": "2024-04-30T00:57:12.216292Z",
     "shell.execute_reply": "2024-04-30T00:57:12.215838Z"
    }
   },
   "outputs": [],
   "source": [
    "df = df.T"
   ]
  },
  {
   "cell_type": "code",
   "execution_count": 4,
   "id": "5b3f305a-9909-47b5-9625-43a51107941d",
   "metadata": {
    "execution": {
     "iopub.execute_input": "2024-04-30T00:57:12.218145Z",
     "iopub.status.busy": "2024-04-30T00:57:12.217976Z",
     "iopub.status.idle": "2024-04-30T00:57:12.229768Z",
     "shell.execute_reply": "2024-04-30T00:57:12.229309Z"
    }
   },
   "outputs": [
    {
     "data": {
      "text/html": [
       "<div>\n",
       "<style scoped>\n",
       "    .dataframe tbody tr th:only-of-type {\n",
       "        vertical-align: middle;\n",
       "    }\n",
       "\n",
       "    .dataframe tbody tr th {\n",
       "        vertical-align: top;\n",
       "    }\n",
       "\n",
       "    .dataframe thead th {\n",
       "        text-align: right;\n",
       "    }\n",
       "</style>\n",
       "<table border=\"1\" class=\"dataframe\">\n",
       "  <thead>\n",
       "    <tr style=\"text-align: right;\">\n",
       "      <th></th>\n",
       "      <th>id</th>\n",
       "      <th>title</th>\n",
       "      <th>kind</th>\n",
       "      <th>viewCount</th>\n",
       "      <th>likeCount</th>\n",
       "      <th>commentCount</th>\n",
       "      <th>date</th>\n",
       "      <th>time</th>\n",
       "      <th>artist</th>\n",
       "    </tr>\n",
       "  </thead>\n",
       "  <tbody>\n",
       "    <tr>\n",
       "      <th>0</th>\n",
       "      <td>YudHcBIxlYw</td>\n",
       "      <td>JISOO - ‘꽃(FLOWER)’ M\\/V</td>\n",
       "      <td>Music Video</td>\n",
       "      <td>390657394</td>\n",
       "      <td>10117824</td>\n",
       "      <td>1340919</td>\n",
       "      <td>2023-09-19</td>\n",
       "      <td>17:01:02.392672</td>\n",
       "      <td>JISOO</td>\n",
       "    </tr>\n",
       "    <tr>\n",
       "      <th>1</th>\n",
       "      <td>POe9SOEKotk</td>\n",
       "      <td>BLACKPINK - ‘Shut Down’ M\\/V</td>\n",
       "      <td>Music Video</td>\n",
       "      <td>522252772</td>\n",
       "      <td>10824498</td>\n",
       "      <td>2239017</td>\n",
       "      <td>2023-09-19</td>\n",
       "      <td>17:01:02.392707</td>\n",
       "      <td>BLACKPINK</td>\n",
       "    </tr>\n",
       "    <tr>\n",
       "      <th>2</th>\n",
       "      <td>gQlMMD8auMs</td>\n",
       "      <td>BLACKPINK - ‘Pink Venom’ M\\/V</td>\n",
       "      <td>Music Video</td>\n",
       "      <td>731994719</td>\n",
       "      <td>16069895</td>\n",
       "      <td>3569773</td>\n",
       "      <td>2023-09-19</td>\n",
       "      <td>17:01:02.392717</td>\n",
       "      <td>BLACKPINK</td>\n",
       "    </tr>\n",
       "    <tr>\n",
       "      <th>3</th>\n",
       "      <td>awkkyBH2zEo</td>\n",
       "      <td>LISA - 'LALISA' M\\/V</td>\n",
       "      <td>Music Video</td>\n",
       "      <td>653808793</td>\n",
       "      <td>17313679</td>\n",
       "      <td>2815724</td>\n",
       "      <td>2023-09-19</td>\n",
       "      <td>17:01:02.392725</td>\n",
       "      <td>LISA</td>\n",
       "    </tr>\n",
       "    <tr>\n",
       "      <th>4</th>\n",
       "      <td>K9_VFxzCuQ0</td>\n",
       "      <td>ROSÉ - 'Gone' M\\/V</td>\n",
       "      <td>Music Video</td>\n",
       "      <td>267505076</td>\n",
       "      <td>7376149</td>\n",
       "      <td>1240229</td>\n",
       "      <td>2023-09-19</td>\n",
       "      <td>17:01:02.392734</td>\n",
       "      <td>ROSÉ</td>\n",
       "    </tr>\n",
       "    <tr>\n",
       "      <th>...</th>\n",
       "      <td>...</td>\n",
       "      <td>...</td>\n",
       "      <td>...</td>\n",
       "      <td>...</td>\n",
       "      <td>...</td>\n",
       "      <td>...</td>\n",
       "      <td>...</td>\n",
       "      <td>...</td>\n",
       "      <td>...</td>\n",
       "    </tr>\n",
       "    <tr>\n",
       "      <th>27427</th>\n",
       "      <td>EKHdMwRaU60</td>\n",
       "      <td>BLACKPINK​ - '붐바야(BOOMBAYAH)' 0828 SBS Inkigayo</td>\n",
       "      <td>Performance</td>\n",
       "      <td>61143687</td>\n",
       "      <td>831236</td>\n",
       "      <td>23107</td>\n",
       "      <td>2024-04-30</td>\n",
       "      <td>00:56:08.713338</td>\n",
       "      <td>BLACKPINK</td>\n",
       "    </tr>\n",
       "    <tr>\n",
       "      <th>27428</th>\n",
       "      <td>metZ_f8aqC0</td>\n",
       "      <td>BLACKPINK​ - '휘파람(WHISTLE)' 0821 SBS Inkigayo</td>\n",
       "      <td>Performance</td>\n",
       "      <td>42674210</td>\n",
       "      <td>902033</td>\n",
       "      <td>26173</td>\n",
       "      <td>2024-04-30</td>\n",
       "      <td>00:56:08.713340</td>\n",
       "      <td>BLACKPINK</td>\n",
       "    </tr>\n",
       "    <tr>\n",
       "      <th>27429</th>\n",
       "      <td>RGmL76BBGZk</td>\n",
       "      <td>BLACKPINK​ - '붐바야(BOOMBAYAH)' 0821 SBS Inkigay...</td>\n",
       "      <td>Performance</td>\n",
       "      <td>17351935</td>\n",
       "      <td>546804</td>\n",
       "      <td>14680</td>\n",
       "      <td>2024-04-30</td>\n",
       "      <td>00:56:08.840901</td>\n",
       "      <td>BLACKPINK</td>\n",
       "    </tr>\n",
       "    <tr>\n",
       "      <th>27430</th>\n",
       "      <td>vAqAp1tJnkc</td>\n",
       "      <td>BLACKPINK - '휘파람’(WHISTLE) 0814 SBS Inkigayo</td>\n",
       "      <td>Performance</td>\n",
       "      <td>48563614</td>\n",
       "      <td>863597</td>\n",
       "      <td>29307</td>\n",
       "      <td>2024-04-30</td>\n",
       "      <td>00:56:08.840910</td>\n",
       "      <td>BLACKPINK</td>\n",
       "    </tr>\n",
       "    <tr>\n",
       "      <th>27431</th>\n",
       "      <td>LpSH8MrYCfg</td>\n",
       "      <td>BLACKPINK - '붐바야(BOOMBAYAH)' 0814 SBS Inkigayo</td>\n",
       "      <td>Performance</td>\n",
       "      <td>173703745</td>\n",
       "      <td>2573482</td>\n",
       "      <td>80448</td>\n",
       "      <td>2024-04-30</td>\n",
       "      <td>00:56:08.840913</td>\n",
       "      <td>BLACKPINK</td>\n",
       "    </tr>\n",
       "  </tbody>\n",
       "</table>\n",
       "<p>27432 rows × 9 columns</p>\n",
       "</div>"
      ],
      "text/plain": [
       "                id                                              title   \n",
       "0      YudHcBIxlYw                           JISOO - ‘꽃(FLOWER)’ M\\/V  \\\n",
       "1      POe9SOEKotk                       BLACKPINK - ‘Shut Down’ M\\/V   \n",
       "2      gQlMMD8auMs                      BLACKPINK - ‘Pink Venom’ M\\/V   \n",
       "3      awkkyBH2zEo                               LISA - 'LALISA' M\\/V   \n",
       "4      K9_VFxzCuQ0                                 ROSÉ - 'Gone' M\\/V   \n",
       "...            ...                                                ...   \n",
       "27427  EKHdMwRaU60    BLACKPINK​ - '붐바야(BOOMBAYAH)' 0828 SBS Inkigayo   \n",
       "27428  metZ_f8aqC0      BLACKPINK​ - '휘파람(WHISTLE)' 0821 SBS Inkigayo   \n",
       "27429  RGmL76BBGZk  BLACKPINK​ - '붐바야(BOOMBAYAH)' 0821 SBS Inkigay...   \n",
       "27430  vAqAp1tJnkc       BLACKPINK - '휘파람’(WHISTLE) 0814 SBS Inkigayo   \n",
       "27431  LpSH8MrYCfg     BLACKPINK - '붐바야(BOOMBAYAH)' 0814 SBS Inkigayo   \n",
       "\n",
       "              kind  viewCount likeCount commentCount        date   \n",
       "0      Music Video  390657394  10117824      1340919  2023-09-19  \\\n",
       "1      Music Video  522252772  10824498      2239017  2023-09-19   \n",
       "2      Music Video  731994719  16069895      3569773  2023-09-19   \n",
       "3      Music Video  653808793  17313679      2815724  2023-09-19   \n",
       "4      Music Video  267505076   7376149      1240229  2023-09-19   \n",
       "...            ...        ...       ...          ...         ...   \n",
       "27427  Performance   61143687    831236        23107  2024-04-30   \n",
       "27428  Performance   42674210    902033        26173  2024-04-30   \n",
       "27429  Performance   17351935    546804        14680  2024-04-30   \n",
       "27430  Performance   48563614    863597        29307  2024-04-30   \n",
       "27431  Performance  173703745   2573482        80448  2024-04-30   \n",
       "\n",
       "                  time     artist  \n",
       "0      17:01:02.392672      JISOO  \n",
       "1      17:01:02.392707  BLACKPINK  \n",
       "2      17:01:02.392717  BLACKPINK  \n",
       "3      17:01:02.392725       LISA  \n",
       "4      17:01:02.392734       ROSÉ  \n",
       "...                ...        ...  \n",
       "27427  00:56:08.713338  BLACKPINK  \n",
       "27428  00:56:08.713340  BLACKPINK  \n",
       "27429  00:56:08.840901  BLACKPINK  \n",
       "27430  00:56:08.840910  BLACKPINK  \n",
       "27431  00:56:08.840913  BLACKPINK  \n",
       "\n",
       "[27432 rows x 9 columns]"
      ]
     },
     "metadata": {},
     "output_type": "display_data"
    }
   ],
   "source": [
    "display(df)"
   ]
  },
  {
   "cell_type": "markdown",
   "id": "c016103a-8a35-4c04-a0a7-e4af4f742d96",
   "metadata": {},
   "source": [
    "### **3. Data Information**"
   ]
  },
  {
   "cell_type": "markdown",
   "id": "01b2daf6-7a81-4fa0-ba4a-6fb2ab8007f8",
   "metadata": {},
   "source": [
    "#### **Data dimensions**: \n"
   ]
  },
  {
   "cell_type": "code",
   "execution_count": 5,
   "id": "d3f80009-96ed-4d80-aea7-6a296fe92b73",
   "metadata": {
    "execution": {
     "iopub.execute_input": "2024-04-30T00:57:12.231953Z",
     "iopub.status.busy": "2024-04-30T00:57:12.231542Z",
     "iopub.status.idle": "2024-04-30T00:57:12.235136Z",
     "shell.execute_reply": "2024-04-30T00:57:12.234620Z"
    }
   },
   "outputs": [
    {
     "data": {
      "text/plain": [
       "(27432, 9)"
      ]
     },
     "execution_count": 5,
     "metadata": {},
     "output_type": "execute_result"
    }
   ],
   "source": [
    "df.shape"
   ]
  },
  {
   "cell_type": "markdown",
   "id": "7f8d78d8-9403-48a9-9e02-9277af1da7cf",
   "metadata": {},
   "source": [
    "#### **Details for each row:**\n",
    "\n",
    "The information of one video, including id, title, artist, views, likes,..."
   ]
  },
  {
   "cell_type": "code",
   "execution_count": 6,
   "id": "0e1c5f92-28c8-4fca-a80b-895d293fa695",
   "metadata": {
    "execution": {
     "iopub.execute_input": "2024-04-30T00:57:12.237252Z",
     "iopub.status.busy": "2024-04-30T00:57:12.236868Z",
     "iopub.status.idle": "2024-04-30T00:57:12.243958Z",
     "shell.execute_reply": "2024-04-30T00:57:12.243408Z"
    }
   },
   "outputs": [
    {
     "data": {
      "text/html": [
       "<div>\n",
       "<style scoped>\n",
       "    .dataframe tbody tr th:only-of-type {\n",
       "        vertical-align: middle;\n",
       "    }\n",
       "\n",
       "    .dataframe tbody tr th {\n",
       "        vertical-align: top;\n",
       "    }\n",
       "\n",
       "    .dataframe thead th {\n",
       "        text-align: right;\n",
       "    }\n",
       "</style>\n",
       "<table border=\"1\" class=\"dataframe\">\n",
       "  <thead>\n",
       "    <tr style=\"text-align: right;\">\n",
       "      <th></th>\n",
       "      <th>id</th>\n",
       "      <th>title</th>\n",
       "      <th>kind</th>\n",
       "      <th>viewCount</th>\n",
       "      <th>likeCount</th>\n",
       "      <th>commentCount</th>\n",
       "      <th>date</th>\n",
       "      <th>time</th>\n",
       "      <th>artist</th>\n",
       "    </tr>\n",
       "  </thead>\n",
       "  <tbody>\n",
       "    <tr>\n",
       "      <th>0</th>\n",
       "      <td>YudHcBIxlYw</td>\n",
       "      <td>JISOO - ‘꽃(FLOWER)’ M\\/V</td>\n",
       "      <td>Music Video</td>\n",
       "      <td>390657394</td>\n",
       "      <td>10117824</td>\n",
       "      <td>1340919</td>\n",
       "      <td>2023-09-19</td>\n",
       "      <td>17:01:02.392672</td>\n",
       "      <td>JISOO</td>\n",
       "    </tr>\n",
       "  </tbody>\n",
       "</table>\n",
       "</div>"
      ],
      "text/plain": [
       "            id                     title         kind  viewCount likeCount   \n",
       "0  YudHcBIxlYw  JISOO - ‘꽃(FLOWER)’ M\\/V  Music Video  390657394  10117824  \\\n",
       "\n",
       "  commentCount        date             time artist  \n",
       "0      1340919  2023-09-19  17:01:02.392672  JISOO  "
      ]
     },
     "execution_count": 6,
     "metadata": {},
     "output_type": "execute_result"
    }
   ],
   "source": [
    "df.head(1)"
   ]
  },
  {
   "cell_type": "markdown",
   "id": "9d681534-797c-47e5-ba0d-7c36f5bf49c8",
   "metadata": {},
   "source": [
    "#### **Details for each column:**\n",
    "\n",
    "| Column       | Description                                                                                     |\n",
    "|--------------|-------------------------------------------------------------------------------------------------|\n",
    "| id           | The unique identifier for the video on YouTube.                                                 |\n",
    "| title        | The title of the video.                                                                         |\n",
    "| kind         | The type or category of the video content.                                                      |\n",
    "| viewCount    | The total number of views the video has received on YouTube.                                     |\n",
    "| likeCount    | The total number of likes the video has received on YouTube.                                     |\n",
    "| commentCount | The total number of comments posted on the video on YouTube.                                     |\n",
    "| date         | The date when the data was collected or the statistics were obtained.                            |\n",
    "| time         | The time when the data was collected or the statistics were obtained (if applicable).            |\n",
    "| artist       | The artist or creator associated with the video content.                                         |\n"
   ]
  },
  {
   "cell_type": "markdown",
   "id": "7fc2cf54-6d36-438c-9f84-8c3b559b5e0b",
   "metadata": {},
   "source": [
    "#### **Data types of each column:**"
   ]
  },
  {
   "cell_type": "code",
   "execution_count": 7,
   "id": "e9f41603-3b87-47db-8425-52778c9d2f60",
   "metadata": {
    "execution": {
     "iopub.execute_input": "2024-04-30T00:57:12.246421Z",
     "iopub.status.busy": "2024-04-30T00:57:12.245987Z",
     "iopub.status.idle": "2024-04-30T00:57:12.250686Z",
     "shell.execute_reply": "2024-04-30T00:57:12.250222Z"
    }
   },
   "outputs": [
    {
     "data": {
      "text/plain": [
       "id              object\n",
       "title           object\n",
       "kind            object\n",
       "viewCount       object\n",
       "likeCount       object\n",
       "commentCount    object\n",
       "date            object\n",
       "time            object\n",
       "artist          object\n",
       "dtype: object"
      ]
     },
     "execution_count": 7,
     "metadata": {},
     "output_type": "execute_result"
    }
   ],
   "source": [
    "df.dtypes"
   ]
  },
  {
   "cell_type": "markdown",
   "id": "73d5e1c7-e90d-4c94-a4f2-12c551e25d1d",
   "metadata": {},
   "source": [
    "Convert the `viewCount`, `likeCount`, `commentCount` to int:"
   ]
  },
  {
   "cell_type": "code",
   "execution_count": 8,
   "id": "9c7a1078-d241-43f5-b396-47e1b2e89b9f",
   "metadata": {
    "execution": {
     "iopub.execute_input": "2024-04-30T00:57:12.253310Z",
     "iopub.status.busy": "2024-04-30T00:57:12.252782Z",
     "iopub.status.idle": "2024-04-30T00:57:12.258907Z",
     "shell.execute_reply": "2024-04-30T00:57:12.258336Z"
    }
   },
   "outputs": [],
   "source": [
    "df['viewCount'] = df['viewCount'].astype(np.int64)\n",
    "df['likeCount'] = df['likeCount'].astype(np.int64)\n",
    "df['commentCount'] = df['commentCount'].astype(np.int64)"
   ]
  },
  {
   "cell_type": "markdown",
   "id": "e3b72763-5178-4b54-a1b4-95ace07eda0f",
   "metadata": {},
   "source": [
    "Convert the `date` column to datetime type:"
   ]
  },
  {
   "cell_type": "code",
   "execution_count": 9,
   "id": "04ec2fb2-14a7-45d5-bfe7-759bb3d46485",
   "metadata": {
    "execution": {
     "iopub.execute_input": "2024-04-30T00:57:12.261247Z",
     "iopub.status.busy": "2024-04-30T00:57:12.260935Z",
     "iopub.status.idle": "2024-04-30T00:57:12.268954Z",
     "shell.execute_reply": "2024-04-30T00:57:12.268377Z"
    }
   },
   "outputs": [],
   "source": [
    "df['date'] = pd.to_datetime(df['date'], format='%Y-%m-%d')"
   ]
  },
  {
   "cell_type": "code",
   "execution_count": 10,
   "id": "32f3ad58-d6d7-46d3-978d-b70ddb0697e9",
   "metadata": {
    "execution": {
     "iopub.execute_input": "2024-04-30T00:57:12.271241Z",
     "iopub.status.busy": "2024-04-30T00:57:12.270913Z",
     "iopub.status.idle": "2024-04-30T00:57:12.273377Z",
     "shell.execute_reply": "2024-04-30T00:57:12.272937Z"
    }
   },
   "outputs": [],
   "source": [
    "#df['time'] = pd.to_datetime(df['time'], format='%H:%M:%S.%f').dt.time"
   ]
  },
  {
   "cell_type": "markdown",
   "id": "59895ebc-59d5-4bae-8a01-17549abacc8f",
   "metadata": {},
   "source": [
    "#### **Number of missing values in each column:**"
   ]
  },
  {
   "cell_type": "code",
   "execution_count": 11,
   "id": "a48e1f09-f9f9-421d-902a-e3cb329f1b53",
   "metadata": {
    "execution": {
     "iopub.execute_input": "2024-04-30T00:57:12.275446Z",
     "iopub.status.busy": "2024-04-30T00:57:12.275106Z",
     "iopub.status.idle": "2024-04-30T00:57:12.289187Z",
     "shell.execute_reply": "2024-04-30T00:57:12.288701Z"
    }
   },
   "outputs": [
    {
     "data": {
      "text/plain": [
       "id              0\n",
       "title           0\n",
       "kind            0\n",
       "viewCount       0\n",
       "likeCount       0\n",
       "commentCount    0\n",
       "date            0\n",
       "time            0\n",
       "artist          0\n",
       "dtype: int64"
      ]
     },
     "execution_count": 11,
     "metadata": {},
     "output_type": "execute_result"
    }
   ],
   "source": [
    "df.isnull().sum()"
   ]
  },
  {
   "cell_type": "markdown",
   "id": "b78d27ce-2dcf-453f-ace4-c7eaf10557b5",
   "metadata": {},
   "source": [
    "#### **Investigating missing data days**"
   ]
  },
  {
   "cell_type": "code",
   "execution_count": 12,
   "id": "584c253b-9ea7-4371-bfc3-769ee8a6a474",
   "metadata": {
    "execution": {
     "iopub.execute_input": "2024-04-30T00:57:12.291418Z",
     "iopub.status.busy": "2024-04-30T00:57:12.291060Z",
     "iopub.status.idle": "2024-04-30T00:57:12.295839Z",
     "shell.execute_reply": "2024-04-30T00:57:12.295373Z"
    }
   },
   "outputs": [
    {
     "name": "stdout",
     "output_type": "stream",
     "text": [
      "Missing dates:\n"
     ]
    }
   ],
   "source": [
    "all_dates = pd.date_range(start=df['date'].min(), end=df['date'].max(), freq='D')\n",
    "missing_dates = all_dates[~all_dates.isin(df['date'])]\n",
    "print(\"Missing dates:\")\n",
    "if len(missing_dates) > 0:\n",
    "    print(missing_dates)"
   ]
  },
  {
   "cell_type": "markdown",
   "id": "7eb7a132-5c44-4e7f-a02c-4050c86f2dd6",
   "metadata": {},
   "source": [
    "#### **Date of First Data Collection? Date of Last Data Collection?**"
   ]
  },
  {
   "cell_type": "code",
   "execution_count": 13,
   "id": "f7f30dd9-315f-47eb-95ab-9f833f292fa2",
   "metadata": {
    "execution": {
     "iopub.execute_input": "2024-04-30T00:57:12.297919Z",
     "iopub.status.busy": "2024-04-30T00:57:12.297586Z",
     "iopub.status.idle": "2024-04-30T00:57:12.312132Z",
     "shell.execute_reply": "2024-04-30T00:57:12.311664Z"
    }
   },
   "outputs": [
    {
     "name": "stdout",
     "output_type": "stream",
     "text": [
      "Date of First Data Collection: 2023-09-19\n",
      "Date of Last Data Collection: 2024-04-30\n"
     ]
    }
   ],
   "source": [
    "print(\"Date of First Data Collection:\", df['date'].dt.date.min())\n",
    "print(\"Date of Last Data Collection:\", df['date'].dt.date.max())"
   ]
  },
  {
   "cell_type": "markdown",
   "id": "bc9cfea9-df73-4ab1-8855-5a08aec7c580",
   "metadata": {},
   "source": [
    "#### **The number of distinct videos in the dataset:**"
   ]
  },
  {
   "cell_type": "code",
   "execution_count": 14,
   "id": "bb7419c2-a065-4783-84cc-f53b9d2c39bf",
   "metadata": {
    "execution": {
     "iopub.execute_input": "2024-04-30T00:57:12.314253Z",
     "iopub.status.busy": "2024-04-30T00:57:12.313798Z",
     "iopub.status.idle": "2024-04-30T00:57:12.319665Z",
     "shell.execute_reply": "2024-04-30T00:57:12.319198Z"
    }
   },
   "outputs": [
    {
     "data": {
      "text/plain": [
       "122"
      ]
     },
     "execution_count": 14,
     "metadata": {},
     "output_type": "execute_result"
    }
   ],
   "source": [
    "df.id.nunique()"
   ]
  },
  {
   "cell_type": "markdown",
   "id": "8c316712-e3f5-46dc-b46c-f09f3f745f0c",
   "metadata": {},
   "source": [
    "#### **Number of videos for each video types:**"
   ]
  },
  {
   "cell_type": "code",
   "execution_count": 15,
   "id": "4102bb65-4895-4f8f-804a-2f91c1594193",
   "metadata": {
    "execution": {
     "iopub.execute_input": "2024-04-30T00:57:12.321818Z",
     "iopub.status.busy": "2024-04-30T00:57:12.321482Z",
     "iopub.status.idle": "2024-04-30T00:57:12.334901Z",
     "shell.execute_reply": "2024-04-30T00:57:12.334396Z"
    }
   },
   "outputs": [
    {
     "data": {
      "text/html": [
       "<div>\n",
       "<style scoped>\n",
       "    .dataframe tbody tr th:only-of-type {\n",
       "        vertical-align: middle;\n",
       "    }\n",
       "\n",
       "    .dataframe tbody tr th {\n",
       "        vertical-align: top;\n",
       "    }\n",
       "\n",
       "    .dataframe thead th {\n",
       "        text-align: right;\n",
       "    }\n",
       "</style>\n",
       "<table border=\"1\" class=\"dataframe\">\n",
       "  <thead>\n",
       "    <tr style=\"text-align: right;\">\n",
       "      <th></th>\n",
       "      <th>kind</th>\n",
       "      <th>count</th>\n",
       "      <th>percentage</th>\n",
       "    </tr>\n",
       "  </thead>\n",
       "  <tbody>\n",
       "    <tr>\n",
       "      <th>2</th>\n",
       "      <td>Performance</td>\n",
       "      <td>87</td>\n",
       "      <td>70.16</td>\n",
       "    </tr>\n",
       "    <tr>\n",
       "      <th>0</th>\n",
       "      <td>Dance Practice Video</td>\n",
       "      <td>20</td>\n",
       "      <td>16.13</td>\n",
       "    </tr>\n",
       "    <tr>\n",
       "      <th>1</th>\n",
       "      <td>Music Video</td>\n",
       "      <td>17</td>\n",
       "      <td>13.71</td>\n",
       "    </tr>\n",
       "  </tbody>\n",
       "</table>\n",
       "</div>"
      ],
      "text/plain": [
       "                   kind  count  percentage\n",
       "2           Performance     87       70.16\n",
       "0  Dance Practice Video     20       16.13\n",
       "1           Music Video     17       13.71"
      ]
     },
     "metadata": {},
     "output_type": "display_data"
    }
   ],
   "source": [
    "kind_video_counts = df.drop_duplicates(subset=['kind', 'id']).groupby('kind').size().reset_index(name='count').sort_values(by='count',ascending=False)\n",
    "kind_video_counts['percentage'] = round(kind_video_counts['count'] / kind_video_counts['count'].sum() * 100,2)\n",
    "display(kind_video_counts)"
   ]
  },
  {
   "cell_type": "markdown",
   "id": "80a53ddf-cdeb-4025-b280-6b93b414726b",
   "metadata": {},
   "source": [
    "#### **Number of videos for each artist:**"
   ]
  },
  {
   "cell_type": "code",
   "execution_count": 16,
   "id": "4059d252-d079-472b-87f6-e3884ab483fd",
   "metadata": {
    "execution": {
     "iopub.execute_input": "2024-04-30T00:57:12.336962Z",
     "iopub.status.busy": "2024-04-30T00:57:12.336791Z",
     "iopub.status.idle": "2024-04-30T00:57:12.349604Z",
     "shell.execute_reply": "2024-04-30T00:57:12.349151Z"
    }
   },
   "outputs": [
    {
     "data": {
      "text/html": [
       "<div>\n",
       "<style scoped>\n",
       "    .dataframe tbody tr th:only-of-type {\n",
       "        vertical-align: middle;\n",
       "    }\n",
       "\n",
       "    .dataframe tbody tr th {\n",
       "        vertical-align: top;\n",
       "    }\n",
       "\n",
       "    .dataframe thead th {\n",
       "        text-align: right;\n",
       "    }\n",
       "</style>\n",
       "<table border=\"1\" class=\"dataframe\">\n",
       "  <thead>\n",
       "    <tr style=\"text-align: right;\">\n",
       "      <th></th>\n",
       "      <th>artist</th>\n",
       "      <th>count</th>\n",
       "      <th>percentage</th>\n",
       "    </tr>\n",
       "  </thead>\n",
       "  <tbody>\n",
       "    <tr>\n",
       "      <th>0</th>\n",
       "      <td>BLACKPINK</td>\n",
       "      <td>95</td>\n",
       "      <td>77.87</td>\n",
       "    </tr>\n",
       "    <tr>\n",
       "      <th>1</th>\n",
       "      <td>JENNIE</td>\n",
       "      <td>11</td>\n",
       "      <td>9.02</td>\n",
       "    </tr>\n",
       "    <tr>\n",
       "      <th>4</th>\n",
       "      <td>ROSÉ</td>\n",
       "      <td>8</td>\n",
       "      <td>6.56</td>\n",
       "    </tr>\n",
       "    <tr>\n",
       "      <th>3</th>\n",
       "      <td>LISA</td>\n",
       "      <td>6</td>\n",
       "      <td>4.92</td>\n",
       "    </tr>\n",
       "    <tr>\n",
       "      <th>2</th>\n",
       "      <td>JISOO</td>\n",
       "      <td>2</td>\n",
       "      <td>1.64</td>\n",
       "    </tr>\n",
       "  </tbody>\n",
       "</table>\n",
       "</div>"
      ],
      "text/plain": [
       "      artist  count  percentage\n",
       "0  BLACKPINK     95       77.87\n",
       "1     JENNIE     11        9.02\n",
       "4       ROSÉ      8        6.56\n",
       "3       LISA      6        4.92\n",
       "2      JISOO      2        1.64"
      ]
     },
     "metadata": {},
     "output_type": "display_data"
    }
   ],
   "source": [
    "artist_video_counts = df.drop_duplicates(subset=['artist', 'id']).groupby('artist').size().reset_index(name='count').sort_values(by='count',ascending=False)\n",
    "artist_video_counts['percentage'] = round(artist_video_counts['count'] / artist_video_counts['count'].sum() * 100,2)\n",
    "display(artist_video_counts)"
   ]
  },
  {
   "cell_type": "code",
   "execution_count": 17,
   "id": "d2a3d211-3348-47da-af87-d4301bd7ae4b",
   "metadata": {
    "execution": {
     "iopub.execute_input": "2024-04-30T00:57:12.351644Z",
     "iopub.status.busy": "2024-04-30T00:57:12.351468Z",
     "iopub.status.idle": "2024-04-30T00:57:12.366106Z",
     "shell.execute_reply": "2024-04-30T00:57:12.365606Z"
    }
   },
   "outputs": [
    {
     "data": {
      "text/html": [
       "<div>\n",
       "<style scoped>\n",
       "    .dataframe tbody tr th:only-of-type {\n",
       "        vertical-align: middle;\n",
       "    }\n",
       "\n",
       "    .dataframe tbody tr th {\n",
       "        vertical-align: top;\n",
       "    }\n",
       "\n",
       "    .dataframe thead th {\n",
       "        text-align: right;\n",
       "    }\n",
       "</style>\n",
       "<table border=\"1\" class=\"dataframe\">\n",
       "  <thead>\n",
       "    <tr style=\"text-align: right;\">\n",
       "      <th></th>\n",
       "      <th>artist</th>\n",
       "      <th>kind</th>\n",
       "      <th>count</th>\n",
       "    </tr>\n",
       "  </thead>\n",
       "  <tbody>\n",
       "    <tr>\n",
       "      <th>2</th>\n",
       "      <td>BLACKPINK</td>\n",
       "      <td>Performance</td>\n",
       "      <td>71</td>\n",
       "    </tr>\n",
       "    <tr>\n",
       "      <th>0</th>\n",
       "      <td>BLACKPINK</td>\n",
       "      <td>Dance Practice Video</td>\n",
       "      <td>12</td>\n",
       "    </tr>\n",
       "    <tr>\n",
       "      <th>1</th>\n",
       "      <td>BLACKPINK</td>\n",
       "      <td>Music Video</td>\n",
       "      <td>12</td>\n",
       "    </tr>\n",
       "    <tr>\n",
       "      <th>5</th>\n",
       "      <td>JENNIE</td>\n",
       "      <td>Performance</td>\n",
       "      <td>6</td>\n",
       "    </tr>\n",
       "    <tr>\n",
       "      <th>3</th>\n",
       "      <td>JENNIE</td>\n",
       "      <td>Dance Practice Video</td>\n",
       "      <td>4</td>\n",
       "    </tr>\n",
       "    <tr>\n",
       "      <th>4</th>\n",
       "      <td>JENNIE</td>\n",
       "      <td>Music Video</td>\n",
       "      <td>1</td>\n",
       "    </tr>\n",
       "    <tr>\n",
       "      <th>6</th>\n",
       "      <td>JISOO</td>\n",
       "      <td>Dance Practice Video</td>\n",
       "      <td>1</td>\n",
       "    </tr>\n",
       "    <tr>\n",
       "      <th>7</th>\n",
       "      <td>JISOO</td>\n",
       "      <td>Music Video</td>\n",
       "      <td>1</td>\n",
       "    </tr>\n",
       "    <tr>\n",
       "      <th>8</th>\n",
       "      <td>JISOO</td>\n",
       "      <td>Performance</td>\n",
       "      <td>1</td>\n",
       "    </tr>\n",
       "    <tr>\n",
       "      <th>11</th>\n",
       "      <td>LISA</td>\n",
       "      <td>Performance</td>\n",
       "      <td>3</td>\n",
       "    </tr>\n",
       "    <tr>\n",
       "      <th>9</th>\n",
       "      <td>LISA</td>\n",
       "      <td>Dance Practice Video</td>\n",
       "      <td>2</td>\n",
       "    </tr>\n",
       "    <tr>\n",
       "      <th>10</th>\n",
       "      <td>LISA</td>\n",
       "      <td>Music Video</td>\n",
       "      <td>1</td>\n",
       "    </tr>\n",
       "    <tr>\n",
       "      <th>14</th>\n",
       "      <td>ROSÉ</td>\n",
       "      <td>Performance</td>\n",
       "      <td>6</td>\n",
       "    </tr>\n",
       "    <tr>\n",
       "      <th>13</th>\n",
       "      <td>ROSÉ</td>\n",
       "      <td>Music Video</td>\n",
       "      <td>2</td>\n",
       "    </tr>\n",
       "    <tr>\n",
       "      <th>12</th>\n",
       "      <td>ROSÉ</td>\n",
       "      <td>Dance Practice Video</td>\n",
       "      <td>1</td>\n",
       "    </tr>\n",
       "  </tbody>\n",
       "</table>\n",
       "</div>"
      ],
      "text/plain": [
       "       artist                  kind  count\n",
       "2   BLACKPINK           Performance     71\n",
       "0   BLACKPINK  Dance Practice Video     12\n",
       "1   BLACKPINK           Music Video     12\n",
       "5      JENNIE           Performance      6\n",
       "3      JENNIE  Dance Practice Video      4\n",
       "4      JENNIE           Music Video      1\n",
       "6       JISOO  Dance Practice Video      1\n",
       "7       JISOO           Music Video      1\n",
       "8       JISOO           Performance      1\n",
       "11       LISA           Performance      3\n",
       "9        LISA  Dance Practice Video      2\n",
       "10       LISA           Music Video      1\n",
       "14       ROSÉ           Performance      6\n",
       "13       ROSÉ           Music Video      2\n",
       "12       ROSÉ  Dance Practice Video      1"
      ]
     },
     "metadata": {},
     "output_type": "display_data"
    }
   ],
   "source": [
    "artist_video_counts_2 = df.drop_duplicates(subset=['artist','id','kind']).groupby(['artist','kind']).size().reset_index(name='count').sort_values(by=['count'],ascending=False).sort_values(by=['artist'])\n",
    "display(artist_video_counts_2)"
   ]
  },
  {
   "cell_type": "markdown",
   "id": "1ed0b755-0af6-40d7-af8e-398553170696",
   "metadata": {},
   "source": [
    "#### **Most Viewed Video by Each Video types:**"
   ]
  },
  {
   "cell_type": "code",
   "execution_count": 18,
   "id": "ddc55cb6-a3a7-485f-b6fa-75e5c23941f1",
   "metadata": {
    "execution": {
     "iopub.execute_input": "2024-04-30T00:57:12.368140Z",
     "iopub.status.busy": "2024-04-30T00:57:12.367972Z",
     "iopub.status.idle": "2024-04-30T00:57:12.379103Z",
     "shell.execute_reply": "2024-04-30T00:57:12.378645Z"
    }
   },
   "outputs": [
    {
     "name": "stdout",
     "output_type": "stream",
     "text": [
      "Most Viewed Video by Each Video types:\n"
     ]
    },
    {
     "data": {
      "text/html": [
       "<div>\n",
       "<style scoped>\n",
       "    .dataframe tbody tr th:only-of-type {\n",
       "        vertical-align: middle;\n",
       "    }\n",
       "\n",
       "    .dataframe tbody tr th {\n",
       "        vertical-align: top;\n",
       "    }\n",
       "\n",
       "    .dataframe thead th {\n",
       "        text-align: right;\n",
       "    }\n",
       "</style>\n",
       "<table border=\"1\" class=\"dataframe\">\n",
       "  <thead>\n",
       "    <tr style=\"text-align: right;\">\n",
       "      <th></th>\n",
       "      <th>kind</th>\n",
       "      <th>title</th>\n",
       "      <th>viewCount</th>\n",
       "      <th>link</th>\n",
       "    </tr>\n",
       "  </thead>\n",
       "  <tbody>\n",
       "    <tr>\n",
       "      <th>0</th>\n",
       "      <td>Dance Practice Video</td>\n",
       "      <td>BLACKPINK - 'How You Like That' DANCE PERFORMA...</td>\n",
       "      <td>1619935264</td>\n",
       "      <td>https://www.youtube.com/watch?v=32si5cfrCNc</td>\n",
       "    </tr>\n",
       "    <tr>\n",
       "      <th>1</th>\n",
       "      <td>Music Video</td>\n",
       "      <td>BLACKPINK - ‘뚜두뚜두 (DDU-DU DDU-DU)’ M\\/V</td>\n",
       "      <td>2192010384</td>\n",
       "      <td>https://www.youtube.com/watch?v=IHNzOHi8sJs</td>\n",
       "    </tr>\n",
       "    <tr>\n",
       "      <th>2</th>\n",
       "      <td>Performance</td>\n",
       "      <td>LISA - 'MONEY' EXCLUSIVE PERFORMANCE VIDEO</td>\n",
       "      <td>991088956</td>\n",
       "      <td>https://www.youtube.com/watch?v=dNCWe_6HAM8</td>\n",
       "    </tr>\n",
       "  </tbody>\n",
       "</table>\n",
       "</div>"
      ],
      "text/plain": [
       "                   kind                                              title   \n",
       "0  Dance Practice Video  BLACKPINK - 'How You Like That' DANCE PERFORMA...  \\\n",
       "1           Music Video            BLACKPINK - ‘뚜두뚜두 (DDU-DU DDU-DU)’ M\\/V   \n",
       "2           Performance         LISA - 'MONEY' EXCLUSIVE PERFORMANCE VIDEO   \n",
       "\n",
       "    viewCount                                         link  \n",
       "0  1619935264  https://www.youtube.com/watch?v=32si5cfrCNc  \n",
       "1  2192010384  https://www.youtube.com/watch?v=IHNzOHi8sJs  \n",
       "2   991088956  https://www.youtube.com/watch?v=dNCWe_6HAM8  "
      ]
     },
     "metadata": {},
     "output_type": "display_data"
    }
   ],
   "source": [
    "most_viewed_videos = df.loc[df.groupby('kind')['viewCount'].idxmax()].reset_index()\n",
    "most_viewed_videos['link'] = f'https://www.youtube.com/watch?v=' + most_viewed_videos['id']\n",
    "print(\"Most Viewed Video by Each Video types:\")\n",
    "display(most_viewed_videos[['kind', 'title', 'viewCount','link']])"
   ]
  },
  {
   "cell_type": "markdown",
   "id": "8f257c1c-3a9f-4460-bdd8-21d0203d6cc0",
   "metadata": {},
   "source": [
    "#### **Most Viewed Video by Each Artist**"
   ]
  },
  {
   "cell_type": "code",
   "execution_count": 19,
   "id": "3de43269-5b9c-41f5-af61-4201d01b0b16",
   "metadata": {
    "execution": {
     "iopub.execute_input": "2024-04-30T00:57:12.381274Z",
     "iopub.status.busy": "2024-04-30T00:57:12.380933Z",
     "iopub.status.idle": "2024-04-30T00:57:12.392545Z",
     "shell.execute_reply": "2024-04-30T00:57:12.391971Z"
    }
   },
   "outputs": [
    {
     "name": "stdout",
     "output_type": "stream",
     "text": [
      "Most Viewed Video by Each Artist:\n"
     ]
    },
    {
     "data": {
      "text/html": [
       "<div>\n",
       "<style scoped>\n",
       "    .dataframe tbody tr th:only-of-type {\n",
       "        vertical-align: middle;\n",
       "    }\n",
       "\n",
       "    .dataframe tbody tr th {\n",
       "        vertical-align: top;\n",
       "    }\n",
       "\n",
       "    .dataframe thead th {\n",
       "        text-align: right;\n",
       "    }\n",
       "</style>\n",
       "<table border=\"1\" class=\"dataframe\">\n",
       "  <thead>\n",
       "    <tr style=\"text-align: right;\">\n",
       "      <th></th>\n",
       "      <th>artist</th>\n",
       "      <th>title</th>\n",
       "      <th>viewCount</th>\n",
       "      <th>link</th>\n",
       "    </tr>\n",
       "  </thead>\n",
       "  <tbody>\n",
       "    <tr>\n",
       "      <th>0</th>\n",
       "      <td>BLACKPINK</td>\n",
       "      <td>BLACKPINK - ‘뚜두뚜두 (DDU-DU DDU-DU)’ M\\/V</td>\n",
       "      <td>2192010384</td>\n",
       "      <td>https://www.youtube.com/watch?v=IHNzOHi8sJs</td>\n",
       "    </tr>\n",
       "    <tr>\n",
       "      <th>1</th>\n",
       "      <td>JENNIE</td>\n",
       "      <td>JENNIE - 'SOLO' M\\/V</td>\n",
       "      <td>1008376188</td>\n",
       "      <td>https://www.youtube.com/watch?v=b73BI9eUkjM</td>\n",
       "    </tr>\n",
       "    <tr>\n",
       "      <th>2</th>\n",
       "      <td>JISOO</td>\n",
       "      <td>JISOO - ‘꽃(FLOWER)’ M\\/V</td>\n",
       "      <td>495354185</td>\n",
       "      <td>https://www.youtube.com/watch?v=YudHcBIxlYw</td>\n",
       "    </tr>\n",
       "    <tr>\n",
       "      <th>3</th>\n",
       "      <td>LISA</td>\n",
       "      <td>LISA - 'MONEY' EXCLUSIVE PERFORMANCE VIDEO</td>\n",
       "      <td>991088956</td>\n",
       "      <td>https://www.youtube.com/watch?v=dNCWe_6HAM8</td>\n",
       "    </tr>\n",
       "    <tr>\n",
       "      <th>4</th>\n",
       "      <td>ROSÉ</td>\n",
       "      <td>ROSÉ - 'On The Ground' M\\/V</td>\n",
       "      <td>359492421</td>\n",
       "      <td>https://www.youtube.com/watch?v=CKZvWhCqx1s</td>\n",
       "    </tr>\n",
       "  </tbody>\n",
       "</table>\n",
       "</div>"
      ],
      "text/plain": [
       "      artist                                       title   viewCount   \n",
       "0  BLACKPINK     BLACKPINK - ‘뚜두뚜두 (DDU-DU DDU-DU)’ M\\/V  2192010384  \\\n",
       "1     JENNIE                        JENNIE - 'SOLO' M\\/V  1008376188   \n",
       "2      JISOO                    JISOO - ‘꽃(FLOWER)’ M\\/V   495354185   \n",
       "3       LISA  LISA - 'MONEY' EXCLUSIVE PERFORMANCE VIDEO   991088956   \n",
       "4       ROSÉ                 ROSÉ - 'On The Ground' M\\/V   359492421   \n",
       "\n",
       "                                          link  \n",
       "0  https://www.youtube.com/watch?v=IHNzOHi8sJs  \n",
       "1  https://www.youtube.com/watch?v=b73BI9eUkjM  \n",
       "2  https://www.youtube.com/watch?v=YudHcBIxlYw  \n",
       "3  https://www.youtube.com/watch?v=dNCWe_6HAM8  \n",
       "4  https://www.youtube.com/watch?v=CKZvWhCqx1s  "
      ]
     },
     "metadata": {},
     "output_type": "display_data"
    }
   ],
   "source": [
    "most_viewed_videos = df.loc[df.groupby('artist')['viewCount'].idxmax()].reset_index()\n",
    "most_viewed_videos['link'] = f'https://www.youtube.com/watch?v=' + most_viewed_videos['id']\n",
    "print(\"Most Viewed Video by Each Artist:\")\n",
    "display(most_viewed_videos[['artist', 'title', 'viewCount','link']])"
   ]
  },
  {
   "cell_type": "markdown",
   "id": "71a434ca-8a8a-4dc8-8e4a-c6066c1c251f",
   "metadata": {},
   "source": [
    "#### **Top 10 Videos with the Highest Number of Views**"
   ]
  },
  {
   "cell_type": "code",
   "execution_count": 20,
   "id": "cf8be957-8947-4243-9fac-729d6d78c765",
   "metadata": {
    "execution": {
     "iopub.execute_input": "2024-04-30T00:57:12.394998Z",
     "iopub.status.busy": "2024-04-30T00:57:12.394547Z",
     "iopub.status.idle": "2024-04-30T00:57:12.407697Z",
     "shell.execute_reply": "2024-04-30T00:57:12.407112Z"
    }
   },
   "outputs": [
    {
     "name": "stdout",
     "output_type": "stream",
     "text": [
      "Top 10 Videos with the Highest Number of Views:\n"
     ]
    },
    {
     "data": {
      "text/html": [
       "<div>\n",
       "<style scoped>\n",
       "    .dataframe tbody tr th:only-of-type {\n",
       "        vertical-align: middle;\n",
       "    }\n",
       "\n",
       "    .dataframe tbody tr th {\n",
       "        vertical-align: top;\n",
       "    }\n",
       "\n",
       "    .dataframe thead th {\n",
       "        text-align: right;\n",
       "    }\n",
       "</style>\n",
       "<table border=\"1\" class=\"dataframe\">\n",
       "  <thead>\n",
       "    <tr style=\"text-align: right;\">\n",
       "      <th></th>\n",
       "      <th>title</th>\n",
       "      <th>kind</th>\n",
       "      <th>artist</th>\n",
       "      <th>viewCount</th>\n",
       "      <th>link</th>\n",
       "    </tr>\n",
       "  </thead>\n",
       "  <tbody>\n",
       "    <tr>\n",
       "      <th>0</th>\n",
       "      <td>BLACKPINK - ‘뚜두뚜두 (DDU-DU DDU-DU)’ M\\/V</td>\n",
       "      <td>Music Video</td>\n",
       "      <td>BLACKPINK</td>\n",
       "      <td>2192010384</td>\n",
       "      <td>https://www.youtube.com/watch?v=IHNzOHi8sJs</td>\n",
       "    </tr>\n",
       "    <tr>\n",
       "      <th>1</th>\n",
       "      <td>BLACKPINK - 'Kill This Love' M\\/V</td>\n",
       "      <td>Music Video</td>\n",
       "      <td>BLACKPINK</td>\n",
       "      <td>1953577685</td>\n",
       "      <td>https://www.youtube.com/watch?v=2S24-y0Ij3Y</td>\n",
       "    </tr>\n",
       "    <tr>\n",
       "      <th>2</th>\n",
       "      <td>BLACKPINK - '붐바야 (BOOMBAYAH)' M\\/V</td>\n",
       "      <td>Music Video</td>\n",
       "      <td>BLACKPINK</td>\n",
       "      <td>1692503879</td>\n",
       "      <td>https://www.youtube.com/watch?v=bwmSjveL3Lc</td>\n",
       "    </tr>\n",
       "    <tr>\n",
       "      <th>3</th>\n",
       "      <td>BLACKPINK - 'How You Like That' DANCE PERFORMA...</td>\n",
       "      <td>Dance Practice Video</td>\n",
       "      <td>BLACKPINK</td>\n",
       "      <td>1619935264</td>\n",
       "      <td>https://www.youtube.com/watch?v=32si5cfrCNc</td>\n",
       "    </tr>\n",
       "    <tr>\n",
       "      <th>4</th>\n",
       "      <td>BLACKPINK - '마지막처럼 (AS IF IT'S YOUR LAST)' M\\/V</td>\n",
       "      <td>Music Video</td>\n",
       "      <td>BLACKPINK</td>\n",
       "      <td>1370864290</td>\n",
       "      <td>https://www.youtube.com/watch?v=Amq-qlqbjYA</td>\n",
       "    </tr>\n",
       "    <tr>\n",
       "      <th>5</th>\n",
       "      <td>BLACKPINK - 'How You Like That' M\\/V</td>\n",
       "      <td>Music Video</td>\n",
       "      <td>BLACKPINK</td>\n",
       "      <td>1279551447</td>\n",
       "      <td>https://www.youtube.com/watch?v=ioNng23DkIM</td>\n",
       "    </tr>\n",
       "    <tr>\n",
       "      <th>6</th>\n",
       "      <td>JENNIE - 'SOLO' M\\/V</td>\n",
       "      <td>Music Video</td>\n",
       "      <td>JENNIE</td>\n",
       "      <td>1008376188</td>\n",
       "      <td>https://www.youtube.com/watch?v=b73BI9eUkjM</td>\n",
       "    </tr>\n",
       "    <tr>\n",
       "      <th>7</th>\n",
       "      <td>LISA - 'MONEY' EXCLUSIVE PERFORMANCE VIDEO</td>\n",
       "      <td>Performance</td>\n",
       "      <td>LISA</td>\n",
       "      <td>991088956</td>\n",
       "      <td>https://www.youtube.com/watch?v=dNCWe_6HAM8</td>\n",
       "    </tr>\n",
       "    <tr>\n",
       "      <th>8</th>\n",
       "      <td>BLACKPINK - 'Ice Cream (with Selena Gomez)' M\\/V</td>\n",
       "      <td>Music Video</td>\n",
       "      <td>BLACKPINK</td>\n",
       "      <td>903441418</td>\n",
       "      <td>https://www.youtube.com/watch?v=vRXZj0DzXIA</td>\n",
       "    </tr>\n",
       "    <tr>\n",
       "      <th>9</th>\n",
       "      <td>BLACKPINK - '휘파람 (WHISTLE)' M\\/V</td>\n",
       "      <td>Music Video</td>\n",
       "      <td>BLACKPINK</td>\n",
       "      <td>887581093</td>\n",
       "      <td>https://www.youtube.com/watch?v=dISNgvVpWlo</td>\n",
       "    </tr>\n",
       "  </tbody>\n",
       "</table>\n",
       "</div>"
      ],
      "text/plain": [
       "                                               title                  kind   \n",
       "0            BLACKPINK - ‘뚜두뚜두 (DDU-DU DDU-DU)’ M\\/V           Music Video  \\\n",
       "1                  BLACKPINK - 'Kill This Love' M\\/V           Music Video   \n",
       "2                 BLACKPINK - '붐바야 (BOOMBAYAH)' M\\/V           Music Video   \n",
       "3  BLACKPINK - 'How You Like That' DANCE PERFORMA...  Dance Practice Video   \n",
       "4    BLACKPINK - '마지막처럼 (AS IF IT'S YOUR LAST)' M\\/V           Music Video   \n",
       "5               BLACKPINK - 'How You Like That' M\\/V           Music Video   \n",
       "6                               JENNIE - 'SOLO' M\\/V           Music Video   \n",
       "7         LISA - 'MONEY' EXCLUSIVE PERFORMANCE VIDEO           Performance   \n",
       "8   BLACKPINK - 'Ice Cream (with Selena Gomez)' M\\/V           Music Video   \n",
       "9                   BLACKPINK - '휘파람 (WHISTLE)' M\\/V           Music Video   \n",
       "\n",
       "      artist   viewCount                                         link  \n",
       "0  BLACKPINK  2192010384  https://www.youtube.com/watch?v=IHNzOHi8sJs  \n",
       "1  BLACKPINK  1953577685  https://www.youtube.com/watch?v=2S24-y0Ij3Y  \n",
       "2  BLACKPINK  1692503879  https://www.youtube.com/watch?v=bwmSjveL3Lc  \n",
       "3  BLACKPINK  1619935264  https://www.youtube.com/watch?v=32si5cfrCNc  \n",
       "4  BLACKPINK  1370864290  https://www.youtube.com/watch?v=Amq-qlqbjYA  \n",
       "5  BLACKPINK  1279551447  https://www.youtube.com/watch?v=ioNng23DkIM  \n",
       "6     JENNIE  1008376188  https://www.youtube.com/watch?v=b73BI9eUkjM  \n",
       "7       LISA   991088956  https://www.youtube.com/watch?v=dNCWe_6HAM8  \n",
       "8  BLACKPINK   903441418  https://www.youtube.com/watch?v=vRXZj0DzXIA  \n",
       "9  BLACKPINK   887581093  https://www.youtube.com/watch?v=dISNgvVpWlo  "
      ]
     },
     "metadata": {},
     "output_type": "display_data"
    }
   ],
   "source": [
    "latest_view_per_video = df.drop_duplicates(subset='id', keep='last')\n",
    "top_10_viewed_videos = latest_view_per_video.nlargest(10, 'viewCount').reset_index()\n",
    "top_10_viewed_videos['link'] = f'https://www.youtube.com/watch?v=' + top_10_viewed_videos['id']\n",
    "print(\"Top 10 Videos with the Highest Number of Views:\")\n",
    "display(top_10_viewed_videos[['title', 'kind','artist','viewCount','link']])"
   ]
  },
  {
   "cell_type": "markdown",
   "id": "d202a795-6aac-4ca3-a799-9563588324be",
   "metadata": {},
   "source": [
    "#### **Top 10 Videos with the Highest Number of Likes**"
   ]
  },
  {
   "cell_type": "code",
   "execution_count": 21,
   "id": "4e04fd9a-05ee-4157-86c1-3dbe6307a517",
   "metadata": {
    "execution": {
     "iopub.execute_input": "2024-04-30T00:57:12.409903Z",
     "iopub.status.busy": "2024-04-30T00:57:12.409563Z",
     "iopub.status.idle": "2024-04-30T00:57:12.421286Z",
     "shell.execute_reply": "2024-04-30T00:57:12.420821Z"
    }
   },
   "outputs": [
    {
     "name": "stdout",
     "output_type": "stream",
     "text": [
      "Top 10 Videos with the Highest Number of Likes:\n"
     ]
    },
    {
     "data": {
      "text/html": [
       "<div>\n",
       "<style scoped>\n",
       "    .dataframe tbody tr th:only-of-type {\n",
       "        vertical-align: middle;\n",
       "    }\n",
       "\n",
       "    .dataframe tbody tr th {\n",
       "        vertical-align: top;\n",
       "    }\n",
       "\n",
       "    .dataframe thead th {\n",
       "        text-align: right;\n",
       "    }\n",
       "</style>\n",
       "<table border=\"1\" class=\"dataframe\">\n",
       "  <thead>\n",
       "    <tr style=\"text-align: right;\">\n",
       "      <th></th>\n",
       "      <th>title</th>\n",
       "      <th>kind</th>\n",
       "      <th>artist</th>\n",
       "      <th>likeCount</th>\n",
       "      <th>link</th>\n",
       "    </tr>\n",
       "  </thead>\n",
       "  <tbody>\n",
       "    <tr>\n",
       "      <th>0</th>\n",
       "      <td>BLACKPINK - 'Kill This Love' M\\/V</td>\n",
       "      <td>Music Video</td>\n",
       "      <td>BLACKPINK</td>\n",
       "      <td>25435322</td>\n",
       "      <td>https://www.youtube.com/watch?v=IHNzOHi8sJs</td>\n",
       "    </tr>\n",
       "    <tr>\n",
       "      <th>1</th>\n",
       "      <td>BLACKPINK - 'How You Like That' M\\/V</td>\n",
       "      <td>Music Video</td>\n",
       "      <td>BLACKPINK</td>\n",
       "      <td>24916923</td>\n",
       "      <td>https://www.youtube.com/watch?v=2S24-y0Ij3Y</td>\n",
       "    </tr>\n",
       "    <tr>\n",
       "      <th>2</th>\n",
       "      <td>BLACKPINK - ‘뚜두뚜두 (DDU-DU DDU-DU)’ M\\/V</td>\n",
       "      <td>Music Video</td>\n",
       "      <td>BLACKPINK</td>\n",
       "      <td>23814035</td>\n",
       "      <td>https://www.youtube.com/watch?v=bwmSjveL3Lc</td>\n",
       "    </tr>\n",
       "    <tr>\n",
       "      <th>3</th>\n",
       "      <td>BLACKPINK - 'Ice Cream (with Selena Gomez)' M\\/V</td>\n",
       "      <td>Music Video</td>\n",
       "      <td>BLACKPINK</td>\n",
       "      <td>20082562</td>\n",
       "      <td>https://www.youtube.com/watch?v=32si5cfrCNc</td>\n",
       "    </tr>\n",
       "    <tr>\n",
       "      <th>4</th>\n",
       "      <td>BLACKPINK - 'How You Like That' DANCE PERFORMA...</td>\n",
       "      <td>Dance Practice Video</td>\n",
       "      <td>BLACKPINK</td>\n",
       "      <td>18406916</td>\n",
       "      <td>https://www.youtube.com/watch?v=Amq-qlqbjYA</td>\n",
       "    </tr>\n",
       "    <tr>\n",
       "      <th>5</th>\n",
       "      <td>LISA - 'LALISA' M\\/V</td>\n",
       "      <td>Music Video</td>\n",
       "      <td>LISA</td>\n",
       "      <td>17491963</td>\n",
       "      <td>https://www.youtube.com/watch?v=ioNng23DkIM</td>\n",
       "    </tr>\n",
       "    <tr>\n",
       "      <th>6</th>\n",
       "      <td>BLACKPINK - ‘Pink Venom’ M\\/V</td>\n",
       "      <td>Music Video</td>\n",
       "      <td>BLACKPINK</td>\n",
       "      <td>16531795</td>\n",
       "      <td>https://www.youtube.com/watch?v=b73BI9eUkjM</td>\n",
       "    </tr>\n",
       "    <tr>\n",
       "      <th>7</th>\n",
       "      <td>BLACKPINK - '붐바야 (BOOMBAYAH)' M\\/V</td>\n",
       "      <td>Music Video</td>\n",
       "      <td>BLACKPINK</td>\n",
       "      <td>16494590</td>\n",
       "      <td>https://www.youtube.com/watch?v=dNCWe_6HAM8</td>\n",
       "    </tr>\n",
       "    <tr>\n",
       "      <th>8</th>\n",
       "      <td>BLACKPINK - 'Lovesick Girls' M\\/V</td>\n",
       "      <td>Music Video</td>\n",
       "      <td>BLACKPINK</td>\n",
       "      <td>15689975</td>\n",
       "      <td>https://www.youtube.com/watch?v=vRXZj0DzXIA</td>\n",
       "    </tr>\n",
       "    <tr>\n",
       "      <th>9</th>\n",
       "      <td>JENNIE - 'SOLO' M\\/V</td>\n",
       "      <td>Music Video</td>\n",
       "      <td>JENNIE</td>\n",
       "      <td>14948026</td>\n",
       "      <td>https://www.youtube.com/watch?v=dISNgvVpWlo</td>\n",
       "    </tr>\n",
       "  </tbody>\n",
       "</table>\n",
       "</div>"
      ],
      "text/plain": [
       "                                               title                  kind   \n",
       "0                  BLACKPINK - 'Kill This Love' M\\/V           Music Video  \\\n",
       "1               BLACKPINK - 'How You Like That' M\\/V           Music Video   \n",
       "2            BLACKPINK - ‘뚜두뚜두 (DDU-DU DDU-DU)’ M\\/V           Music Video   \n",
       "3   BLACKPINK - 'Ice Cream (with Selena Gomez)' M\\/V           Music Video   \n",
       "4  BLACKPINK - 'How You Like That' DANCE PERFORMA...  Dance Practice Video   \n",
       "5                               LISA - 'LALISA' M\\/V           Music Video   \n",
       "6                      BLACKPINK - ‘Pink Venom’ M\\/V           Music Video   \n",
       "7                 BLACKPINK - '붐바야 (BOOMBAYAH)' M\\/V           Music Video   \n",
       "8                  BLACKPINK - 'Lovesick Girls' M\\/V           Music Video   \n",
       "9                               JENNIE - 'SOLO' M\\/V           Music Video   \n",
       "\n",
       "      artist  likeCount                                         link  \n",
       "0  BLACKPINK   25435322  https://www.youtube.com/watch?v=IHNzOHi8sJs  \n",
       "1  BLACKPINK   24916923  https://www.youtube.com/watch?v=2S24-y0Ij3Y  \n",
       "2  BLACKPINK   23814035  https://www.youtube.com/watch?v=bwmSjveL3Lc  \n",
       "3  BLACKPINK   20082562  https://www.youtube.com/watch?v=32si5cfrCNc  \n",
       "4  BLACKPINK   18406916  https://www.youtube.com/watch?v=Amq-qlqbjYA  \n",
       "5       LISA   17491963  https://www.youtube.com/watch?v=ioNng23DkIM  \n",
       "6  BLACKPINK   16531795  https://www.youtube.com/watch?v=b73BI9eUkjM  \n",
       "7  BLACKPINK   16494590  https://www.youtube.com/watch?v=dNCWe_6HAM8  \n",
       "8  BLACKPINK   15689975  https://www.youtube.com/watch?v=vRXZj0DzXIA  \n",
       "9     JENNIE   14948026  https://www.youtube.com/watch?v=dISNgvVpWlo  "
      ]
     },
     "metadata": {},
     "output_type": "display_data"
    }
   ],
   "source": [
    "latest_like_per_video = df.drop_duplicates(subset='id', keep='last')\n",
    "top_10_liked_videos = latest_like_per_video.nlargest(10, 'likeCount').reset_index()\n",
    "top_10_liked_videos['link'] = f'https://www.youtube.com/watch?v=' + top_10_viewed_videos['id']\n",
    "print(\"Top 10 Videos with the Highest Number of Likes:\")\n",
    "display(top_10_liked_videos[['title', 'kind','artist','likeCount','link']])"
   ]
  },
  {
   "cell_type": "markdown",
   "id": "f012fe85-ee46-4059-b308-84dd121030e4",
   "metadata": {},
   "source": [
    "#### **Top 10 Videos with the Highest Number of Comments**"
   ]
  },
  {
   "cell_type": "code",
   "execution_count": 22,
   "id": "05ce1fa0-5c41-4a39-84e3-47895fae6a35",
   "metadata": {
    "execution": {
     "iopub.execute_input": "2024-04-30T00:57:12.423296Z",
     "iopub.status.busy": "2024-04-30T00:57:12.423123Z",
     "iopub.status.idle": "2024-04-30T00:57:12.434861Z",
     "shell.execute_reply": "2024-04-30T00:57:12.434308Z"
    }
   },
   "outputs": [
    {
     "name": "stdout",
     "output_type": "stream",
     "text": [
      "Top 10 Videos with the Highest Number of Comments:\n"
     ]
    },
    {
     "data": {
      "text/html": [
       "<div>\n",
       "<style scoped>\n",
       "    .dataframe tbody tr th:only-of-type {\n",
       "        vertical-align: middle;\n",
       "    }\n",
       "\n",
       "    .dataframe tbody tr th {\n",
       "        vertical-align: top;\n",
       "    }\n",
       "\n",
       "    .dataframe thead th {\n",
       "        text-align: right;\n",
       "    }\n",
       "</style>\n",
       "<table border=\"1\" class=\"dataframe\">\n",
       "  <thead>\n",
       "    <tr style=\"text-align: right;\">\n",
       "      <th></th>\n",
       "      <th>title</th>\n",
       "      <th>kind</th>\n",
       "      <th>artist</th>\n",
       "      <th>commentCount</th>\n",
       "      <th>link</th>\n",
       "    </tr>\n",
       "  </thead>\n",
       "  <tbody>\n",
       "    <tr>\n",
       "      <th>0</th>\n",
       "      <td>BLACKPINK - 'How You Like That' M\\/V</td>\n",
       "      <td>Music Video</td>\n",
       "      <td>BLACKPINK</td>\n",
       "      <td>5075130</td>\n",
       "      <td>https://www.youtube.com/watch?v=IHNzOHi8sJs</td>\n",
       "    </tr>\n",
       "    <tr>\n",
       "      <th>1</th>\n",
       "      <td>BLACKPINK - ‘Pink Venom’ M\\/V</td>\n",
       "      <td>Music Video</td>\n",
       "      <td>BLACKPINK</td>\n",
       "      <td>3521843</td>\n",
       "      <td>https://www.youtube.com/watch?v=2S24-y0Ij3Y</td>\n",
       "    </tr>\n",
       "    <tr>\n",
       "      <th>2</th>\n",
       "      <td>JENNIE - 'SOLO' M\\/V</td>\n",
       "      <td>Music Video</td>\n",
       "      <td>JENNIE</td>\n",
       "      <td>3411913</td>\n",
       "      <td>https://www.youtube.com/watch?v=bwmSjveL3Lc</td>\n",
       "    </tr>\n",
       "    <tr>\n",
       "      <th>3</th>\n",
       "      <td>BLACKPINK - ‘뚜두뚜두 (DDU-DU DDU-DU)’ M\\/V</td>\n",
       "      <td>Music Video</td>\n",
       "      <td>BLACKPINK</td>\n",
       "      <td>3270031</td>\n",
       "      <td>https://www.youtube.com/watch?v=32si5cfrCNc</td>\n",
       "    </tr>\n",
       "    <tr>\n",
       "      <th>4</th>\n",
       "      <td>BLACKPINK - 'Ice Cream (with Selena Gomez)' M\\/V</td>\n",
       "      <td>Music Video</td>\n",
       "      <td>BLACKPINK</td>\n",
       "      <td>3017740</td>\n",
       "      <td>https://www.youtube.com/watch?v=Amq-qlqbjYA</td>\n",
       "    </tr>\n",
       "    <tr>\n",
       "      <th>5</th>\n",
       "      <td>LISA - 'LALISA' M\\/V</td>\n",
       "      <td>Music Video</td>\n",
       "      <td>LISA</td>\n",
       "      <td>2807006</td>\n",
       "      <td>https://www.youtube.com/watch?v=ioNng23DkIM</td>\n",
       "    </tr>\n",
       "    <tr>\n",
       "      <th>6</th>\n",
       "      <td>ROSÉ - 'On The Ground' M\\/V</td>\n",
       "      <td>Music Video</td>\n",
       "      <td>ROSÉ</td>\n",
       "      <td>2601102</td>\n",
       "      <td>https://www.youtube.com/watch?v=b73BI9eUkjM</td>\n",
       "    </tr>\n",
       "    <tr>\n",
       "      <th>7</th>\n",
       "      <td>BLACKPINK - 'Kill This Love' M\\/V</td>\n",
       "      <td>Music Video</td>\n",
       "      <td>BLACKPINK</td>\n",
       "      <td>2485046</td>\n",
       "      <td>https://www.youtube.com/watch?v=dNCWe_6HAM8</td>\n",
       "    </tr>\n",
       "    <tr>\n",
       "      <th>8</th>\n",
       "      <td>BLACKPINK - ‘Shut Down’ M\\/V</td>\n",
       "      <td>Music Video</td>\n",
       "      <td>BLACKPINK</td>\n",
       "      <td>2123980</td>\n",
       "      <td>https://www.youtube.com/watch?v=vRXZj0DzXIA</td>\n",
       "    </tr>\n",
       "    <tr>\n",
       "      <th>9</th>\n",
       "      <td>BLACKPINK - 'Lovesick Girls' M\\/V</td>\n",
       "      <td>Music Video</td>\n",
       "      <td>BLACKPINK</td>\n",
       "      <td>2034629</td>\n",
       "      <td>https://www.youtube.com/watch?v=dISNgvVpWlo</td>\n",
       "    </tr>\n",
       "  </tbody>\n",
       "</table>\n",
       "</div>"
      ],
      "text/plain": [
       "                                              title         kind     artist   \n",
       "0              BLACKPINK - 'How You Like That' M\\/V  Music Video  BLACKPINK  \\\n",
       "1                     BLACKPINK - ‘Pink Venom’ M\\/V  Music Video  BLACKPINK   \n",
       "2                              JENNIE - 'SOLO' M\\/V  Music Video     JENNIE   \n",
       "3           BLACKPINK - ‘뚜두뚜두 (DDU-DU DDU-DU)’ M\\/V  Music Video  BLACKPINK   \n",
       "4  BLACKPINK - 'Ice Cream (with Selena Gomez)' M\\/V  Music Video  BLACKPINK   \n",
       "5                              LISA - 'LALISA' M\\/V  Music Video       LISA   \n",
       "6                       ROSÉ - 'On The Ground' M\\/V  Music Video       ROSÉ   \n",
       "7                 BLACKPINK - 'Kill This Love' M\\/V  Music Video  BLACKPINK   \n",
       "8                      BLACKPINK - ‘Shut Down’ M\\/V  Music Video  BLACKPINK   \n",
       "9                 BLACKPINK - 'Lovesick Girls' M\\/V  Music Video  BLACKPINK   \n",
       "\n",
       "   commentCount                                         link  \n",
       "0       5075130  https://www.youtube.com/watch?v=IHNzOHi8sJs  \n",
       "1       3521843  https://www.youtube.com/watch?v=2S24-y0Ij3Y  \n",
       "2       3411913  https://www.youtube.com/watch?v=bwmSjveL3Lc  \n",
       "3       3270031  https://www.youtube.com/watch?v=32si5cfrCNc  \n",
       "4       3017740  https://www.youtube.com/watch?v=Amq-qlqbjYA  \n",
       "5       2807006  https://www.youtube.com/watch?v=ioNng23DkIM  \n",
       "6       2601102  https://www.youtube.com/watch?v=b73BI9eUkjM  \n",
       "7       2485046  https://www.youtube.com/watch?v=dNCWe_6HAM8  \n",
       "8       2123980  https://www.youtube.com/watch?v=vRXZj0DzXIA  \n",
       "9       2034629  https://www.youtube.com/watch?v=dISNgvVpWlo  "
      ]
     },
     "metadata": {},
     "output_type": "display_data"
    }
   ],
   "source": [
    "latest_cmt_per_video = df.drop_duplicates(subset='id', keep='last')\n",
    "top_10_cmt_videos = latest_cmt_per_video.nlargest(10, 'commentCount').reset_index()\n",
    "top_10_cmt_videos['link'] = f'https://www.youtube.com/watch?v=' + top_10_viewed_videos['id']\n",
    "print(\"Top 10 Videos with the Highest Number of Comments:\")\n",
    "display(top_10_cmt_videos[['title', 'kind','artist','commentCount','link']])"
   ]
  },
  {
   "cell_type": "markdown",
   "id": "f500ca40-d33d-4ea7-9ffd-779ef2eef9b7",
   "metadata": {},
   "source": [
    "#### **Views Growth in 24 Hours:**"
   ]
  },
  {
   "cell_type": "code",
   "execution_count": 23,
   "id": "4fb20da2-8438-4402-89fb-de4bdca5146e",
   "metadata": {
    "execution": {
     "iopub.execute_input": "2024-04-30T00:57:12.436977Z",
     "iopub.status.busy": "2024-04-30T00:57:12.436812Z",
     "iopub.status.idle": "2024-04-30T00:57:12.450400Z",
     "shell.execute_reply": "2024-04-30T00:57:12.449827Z"
    }
   },
   "outputs": [
    {
     "name": "stdout",
     "output_type": "stream",
     "text": [
      "Top 10 Videos with the Highest Increase in Views from the Previous Day:\n"
     ]
    },
    {
     "data": {
      "text/html": [
       "<div>\n",
       "<style scoped>\n",
       "    .dataframe tbody tr th:only-of-type {\n",
       "        vertical-align: middle;\n",
       "    }\n",
       "\n",
       "    .dataframe tbody tr th {\n",
       "        vertical-align: top;\n",
       "    }\n",
       "\n",
       "    .dataframe thead th {\n",
       "        text-align: right;\n",
       "    }\n",
       "</style>\n",
       "<table border=\"1\" class=\"dataframe\">\n",
       "  <thead>\n",
       "    <tr style=\"text-align: right;\">\n",
       "      <th></th>\n",
       "      <th>title</th>\n",
       "      <th>date_latest</th>\n",
       "      <th>viewCount_increase</th>\n",
       "      <th>viewCount_latest</th>\n",
       "      <th>link</th>\n",
       "    </tr>\n",
       "  </thead>\n",
       "  <tbody>\n",
       "    <tr>\n",
       "      <th>0</th>\n",
       "      <td>BLACKPINK - 'How You Like That' DANCE PERFORMA...</td>\n",
       "      <td>2024-04-30</td>\n",
       "      <td>455602</td>\n",
       "      <td>1619935264</td>\n",
       "      <td>https://www.youtube.com/watch?v=32si5cfrCNc</td>\n",
       "    </tr>\n",
       "    <tr>\n",
       "      <th>1</th>\n",
       "      <td>BLACKPINK - ‘Pink Venom’ M\\/V</td>\n",
       "      <td>2024-04-30</td>\n",
       "      <td>386935</td>\n",
       "      <td>840165352</td>\n",
       "      <td>https://www.youtube.com/watch?v=gQlMMD8auMs</td>\n",
       "    </tr>\n",
       "    <tr>\n",
       "      <th>2</th>\n",
       "      <td>BLACKPINK - ‘Shut Down’ M\\/V</td>\n",
       "      <td>2024-04-30</td>\n",
       "      <td>368421</td>\n",
       "      <td>615572366</td>\n",
       "      <td>https://www.youtube.com/watch?v=POe9SOEKotk</td>\n",
       "    </tr>\n",
       "    <tr>\n",
       "      <th>3</th>\n",
       "      <td>LISA - 'MONEY' EXCLUSIVE PERFORMANCE VIDEO</td>\n",
       "      <td>2024-04-30</td>\n",
       "      <td>350460</td>\n",
       "      <td>991088956</td>\n",
       "      <td>https://www.youtube.com/watch?v=dNCWe_6HAM8</td>\n",
       "    </tr>\n",
       "    <tr>\n",
       "      <th>4</th>\n",
       "      <td>JISOO - ‘꽃(FLOWER)’ M\\/V</td>\n",
       "      <td>2024-04-30</td>\n",
       "      <td>345514</td>\n",
       "      <td>495354185</td>\n",
       "      <td>https://www.youtube.com/watch?v=YudHcBIxlYw</td>\n",
       "    </tr>\n",
       "    <tr>\n",
       "      <th>5</th>\n",
       "      <td>BLACKPINK - 'Kill This Love' M\\/V</td>\n",
       "      <td>2024-04-30</td>\n",
       "      <td>325632</td>\n",
       "      <td>1953577685</td>\n",
       "      <td>https://www.youtube.com/watch?v=2S24-y0Ij3Y</td>\n",
       "    </tr>\n",
       "    <tr>\n",
       "      <th>6</th>\n",
       "      <td>JENNIE - ‘You &amp; Me’ DANCE PERFORMANCE VIDEO</td>\n",
       "      <td>2024-04-30</td>\n",
       "      <td>282906</td>\n",
       "      <td>145283338</td>\n",
       "      <td>https://www.youtube.com/watch?v=eQNHDV7lKgE</td>\n",
       "    </tr>\n",
       "    <tr>\n",
       "      <th>7</th>\n",
       "      <td>BLACKPINK - ‘뚜두뚜두 (DDU-DU DDU-DU)’ M\\/V</td>\n",
       "      <td>2024-04-30</td>\n",
       "      <td>272021</td>\n",
       "      <td>2192010384</td>\n",
       "      <td>https://www.youtube.com/watch?v=IHNzOHi8sJs</td>\n",
       "    </tr>\n",
       "    <tr>\n",
       "      <th>8</th>\n",
       "      <td>BLACKPINK - '붐바야 (BOOMBAYAH)' M\\/V</td>\n",
       "      <td>2024-04-30</td>\n",
       "      <td>231956</td>\n",
       "      <td>1692503879</td>\n",
       "      <td>https://www.youtube.com/watch?v=bwmSjveL3Lc</td>\n",
       "    </tr>\n",
       "    <tr>\n",
       "      <th>9</th>\n",
       "      <td>BLACKPINK - '마지막처럼 (AS IF IT'S YOUR LAST)' M\\/V</td>\n",
       "      <td>2024-04-30</td>\n",
       "      <td>206288</td>\n",
       "      <td>1370864290</td>\n",
       "      <td>https://www.youtube.com/watch?v=Amq-qlqbjYA</td>\n",
       "    </tr>\n",
       "  </tbody>\n",
       "</table>\n",
       "</div>"
      ],
      "text/plain": [
       "                                               title date_latest   \n",
       "0  BLACKPINK - 'How You Like That' DANCE PERFORMA...  2024-04-30  \\\n",
       "1                      BLACKPINK - ‘Pink Venom’ M\\/V  2024-04-30   \n",
       "2                       BLACKPINK - ‘Shut Down’ M\\/V  2024-04-30   \n",
       "3         LISA - 'MONEY' EXCLUSIVE PERFORMANCE VIDEO  2024-04-30   \n",
       "4                           JISOO - ‘꽃(FLOWER)’ M\\/V  2024-04-30   \n",
       "5                  BLACKPINK - 'Kill This Love' M\\/V  2024-04-30   \n",
       "6        JENNIE - ‘You & Me’ DANCE PERFORMANCE VIDEO  2024-04-30   \n",
       "7            BLACKPINK - ‘뚜두뚜두 (DDU-DU DDU-DU)’ M\\/V  2024-04-30   \n",
       "8                 BLACKPINK - '붐바야 (BOOMBAYAH)' M\\/V  2024-04-30   \n",
       "9    BLACKPINK - '마지막처럼 (AS IF IT'S YOUR LAST)' M\\/V  2024-04-30   \n",
       "\n",
       "   viewCount_increase  viewCount_latest   \n",
       "0              455602        1619935264  \\\n",
       "1              386935         840165352   \n",
       "2              368421         615572366   \n",
       "3              350460         991088956   \n",
       "4              345514         495354185   \n",
       "5              325632        1953577685   \n",
       "6              282906         145283338   \n",
       "7              272021        2192010384   \n",
       "8              231956        1692503879   \n",
       "9              206288        1370864290   \n",
       "\n",
       "                                          link  \n",
       "0  https://www.youtube.com/watch?v=32si5cfrCNc  \n",
       "1  https://www.youtube.com/watch?v=gQlMMD8auMs  \n",
       "2  https://www.youtube.com/watch?v=POe9SOEKotk  \n",
       "3  https://www.youtube.com/watch?v=dNCWe_6HAM8  \n",
       "4  https://www.youtube.com/watch?v=YudHcBIxlYw  \n",
       "5  https://www.youtube.com/watch?v=2S24-y0Ij3Y  \n",
       "6  https://www.youtube.com/watch?v=eQNHDV7lKgE  \n",
       "7  https://www.youtube.com/watch?v=IHNzOHi8sJs  \n",
       "8  https://www.youtube.com/watch?v=bwmSjveL3Lc  \n",
       "9  https://www.youtube.com/watch?v=Amq-qlqbjYA  "
      ]
     },
     "metadata": {},
     "output_type": "display_data"
    }
   ],
   "source": [
    "latest_date_data = df[df['date'] == df['date'].max()]\n",
    "previous_date_data = df[df['date'] == (df['date'].max() - pd.Timedelta(days=1))]\n",
    "merged_data = pd.merge(latest_date_data, previous_date_data, on=['title'], suffixes=('_latest', '_previous'), how='inner')\n",
    "merged_data['viewCount_increase'] = merged_data['viewCount_latest'] - merged_data['viewCount_previous']\n",
    "\n",
    "top_10_increase_videos = merged_data.nlargest(10, 'viewCount_increase').reset_index()\n",
    "top_10_increase_videos['link'] = f'https://www.youtube.com/watch?v=' + top_10_increase_videos['id_latest']\n",
    "print(\"Top 10 Videos with the Highest Increase in Views from the Previous Day:\")\n",
    "display(top_10_increase_videos[['title','date_latest','viewCount_increase','viewCount_latest','link']])"
   ]
  }
 ],
 "metadata": {
  "kernelspec": {
   "display_name": "Python 3 (ipykernel)",
   "language": "python",
   "name": "python3"
  },
  "language_info": {
   "codemirror_mode": {
    "name": "ipython",
    "version": 3
   },
   "file_extension": ".py",
   "mimetype": "text/x-python",
   "name": "python",
   "nbconvert_exporter": "python",
   "pygments_lexer": "ipython3",
   "version": "3.11.9"
  }
 },
 "nbformat": 4,
 "nbformat_minor": 5
}
